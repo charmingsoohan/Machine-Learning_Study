{
 "cells": [
  {
   "cell_type": "markdown",
   "id": "cfa519b4-eb45-4678-81ca-3335750b7dd1",
   "metadata": {},
   "source": [
    "#### 2023-04-27"
   ]
  },
  {
   "cell_type": "markdown",
   "id": "65751e5c-829c-4cdd-aa27-e9f93f3a18aa",
   "metadata": {},
   "source": [
    "##### 1교시 (복습)"
   ]
  },
  {
   "cell_type": "code",
   "execution_count": 1,
   "id": "8df1db63-ee75-46ef-9acc-6b59abcaa17e",
   "metadata": {},
   "outputs": [],
   "source": [
    "import pandas as pd\n",
    "import numpy as np\n",
    "from sklearn.model_selection import train_test_split\n",
    "from sklearn.tree import DecisionTreeClassifier \n",
    "from sklearn.metrics import confusion_matrix\n",
    "from sklearn.metrics import accuracy_score\n",
    "from sklearn.datasets import load_breast_cancer "
   ]
  },
  {
   "cell_type": "code",
   "execution_count": null,
   "id": "e436ee3a-e35a-471d-81e8-fc9fd4327ca7",
   "metadata": {},
   "outputs": [],
   "source": [
    "# pydataset의 mpg데이터를 로드하여 먼저 오류가 발생하지 않게 class열을 레이블 인코딩하시오"
   ]
  },
  {
   "cell_type": "code",
   "execution_count": 3,
   "id": "c233aedf-b909-4b8b-b183-6451e6a17353",
   "metadata": {},
   "outputs": [],
   "source": [
    "from pydataset import data\n",
    "from sklearn.preprocessing import LabelEncoder"
   ]
  },
  {
   "cell_type": "code",
   "execution_count": 4,
   "id": "8753a916-d489-4156-8f02-1bddc78db6fc",
   "metadata": {},
   "outputs": [],
   "source": [
    "mpg = data('mpg')\n",
    "label = LabelEncoder()\n",
    "mpg['class'] = label.fit_transform(mpg['class'])"
   ]
  },
  {
   "cell_type": "code",
   "execution_count": 8,
   "id": "9418891f-32ca-4f3f-8ee7-59ff4a22aa39",
   "metadata": {},
   "outputs": [],
   "source": [
    "# mpg에서 숫자로된 칼럼만 추출해준 다음,\n",
    "# mpg를 8:2 트레이닝: 테스트 트레이닝을 9:1로 tr:val로 쪼개주세요"
   ]
  },
  {
   "cell_type": "code",
   "execution_count": 9,
   "id": "52cbf538-9c28-4369-b1f6-db8b4137b373",
   "metadata": {},
   "outputs": [],
   "source": [
    "from sklearn.model_selection import train_test_split\n",
    "X = mpg[['displ', 'year','cty','hwy']]\n",
    "y = mpg['class']\n",
    "\n",
    "X_train, X_test, y_train, y_test = train_test_split(X, y, test_size = 0.2)\n",
    "X_tr, X_val, y_tr, y_val = train_test_split(X_train, y_train, test_size = 0.1) "
   ]
  },
  {
   "cell_type": "code",
   "execution_count": 13,
   "id": "c87f97b8-353e-4a44-b6ab-60ec3796a7ec",
   "metadata": {},
   "outputs": [],
   "source": [
    "import xgboost\n",
    "from xgboost import XGBClassifier"
   ]
  },
  {
   "cell_type": "code",
   "execution_count": 10,
   "id": "86001fa2-5406-4760-a456-6a76f65b4efe",
   "metadata": {},
   "outputs": [],
   "source": [
    "# early stopping 을 하기 위해 검증세트를 지정하는 코드는?"
   ]
  },
  {
   "cell_type": "code",
   "execution_count": 11,
   "id": "b7f86010-4029-4992-be76-92175a75bce0",
   "metadata": {},
   "outputs": [],
   "source": [
    "evals = [(X_train, y_train),(X_val, y_val)] "
   ]
  },
  {
   "cell_type": "code",
   "execution_count": 17,
   "id": "45031348-5640-46fd-a8c6-5cd60a699eea",
   "metadata": {},
   "outputs": [],
   "source": [
    "# early siop은 50회 evals를 사용해서 eval_metic = 'mlogloss'"
   ]
  },
  {
   "cell_type": "code",
   "execution_count": 18,
   "id": "d6c03e57-618b-4fd4-8ad0-73bb4af4770d",
   "metadata": {
    "collapsed": true,
    "jupyter": {
     "outputs_hidden": true
    },
    "tags": []
   },
   "outputs": [
    {
     "name": "stdout",
     "output_type": "stream",
     "text": [
      "[0]\tvalidation_0-mlogloss:1.88475\tvalidation_1-mlogloss:1.89438\n",
      "[1]\tvalidation_0-mlogloss:1.82756\tvalidation_1-mlogloss:1.84648\n",
      "[2]\tvalidation_0-mlogloss:1.77486\tvalidation_1-mlogloss:1.80271\n",
      "[3]\tvalidation_0-mlogloss:1.72588\tvalidation_1-mlogloss:1.76221\n",
      "[4]\tvalidation_0-mlogloss:1.68045\tvalidation_1-mlogloss:1.72551\n",
      "[5]\tvalidation_0-mlogloss:1.63813\tvalidation_1-mlogloss:1.69135\n",
      "[6]\tvalidation_0-mlogloss:1.59811\tvalidation_1-mlogloss:1.66030\n",
      "[7]\tvalidation_0-mlogloss:1.56106\tvalidation_1-mlogloss:1.63183\n",
      "[8]\tvalidation_0-mlogloss:1.52580\tvalidation_1-mlogloss:1.60507\n",
      "[9]\tvalidation_0-mlogloss:1.49242\tvalidation_1-mlogloss:1.57780\n",
      "[10]\tvalidation_0-mlogloss:1.46100\tvalidation_1-mlogloss:1.55421\n",
      "[11]\tvalidation_0-mlogloss:1.43127\tvalidation_1-mlogloss:1.53180\n",
      "[12]\tvalidation_0-mlogloss:1.40290\tvalidation_1-mlogloss:1.50987\n",
      "[13]\tvalidation_0-mlogloss:1.37667\tvalidation_1-mlogloss:1.49065\n",
      "[14]\tvalidation_0-mlogloss:1.35138\tvalidation_1-mlogloss:1.47151\n",
      "[15]\tvalidation_0-mlogloss:1.32757\tvalidation_1-mlogloss:1.45402\n",
      "[16]\tvalidation_0-mlogloss:1.30477\tvalidation_1-mlogloss:1.43853\n",
      "[17]\tvalidation_0-mlogloss:1.28304\tvalidation_1-mlogloss:1.42597\n",
      "[18]\tvalidation_0-mlogloss:1.26228\tvalidation_1-mlogloss:1.41208\n",
      "[19]\tvalidation_0-mlogloss:1.24291\tvalidation_1-mlogloss:1.40064\n",
      "[20]\tvalidation_0-mlogloss:1.22399\tvalidation_1-mlogloss:1.39107\n",
      "[21]\tvalidation_0-mlogloss:1.20562\tvalidation_1-mlogloss:1.37946\n",
      "[22]\tvalidation_0-mlogloss:1.18741\tvalidation_1-mlogloss:1.36589\n",
      "[23]\tvalidation_0-mlogloss:1.17043\tvalidation_1-mlogloss:1.35710\n",
      "[24]\tvalidation_0-mlogloss:1.15475\tvalidation_1-mlogloss:1.34837\n",
      "[25]\tvalidation_0-mlogloss:1.13869\tvalidation_1-mlogloss:1.33680\n",
      "[26]\tvalidation_0-mlogloss:1.12357\tvalidation_1-mlogloss:1.32720\n",
      "[27]\tvalidation_0-mlogloss:1.10920\tvalidation_1-mlogloss:1.31835\n",
      "[28]\tvalidation_0-mlogloss:1.09543\tvalidation_1-mlogloss:1.31353\n",
      "[29]\tvalidation_0-mlogloss:1.08228\tvalidation_1-mlogloss:1.30615\n",
      "[30]\tvalidation_0-mlogloss:1.06930\tvalidation_1-mlogloss:1.29812\n",
      "[31]\tvalidation_0-mlogloss:1.05694\tvalidation_1-mlogloss:1.29010\n",
      "[32]\tvalidation_0-mlogloss:1.04549\tvalidation_1-mlogloss:1.28673\n",
      "[33]\tvalidation_0-mlogloss:1.03417\tvalidation_1-mlogloss:1.28051\n",
      "[34]\tvalidation_0-mlogloss:1.02281\tvalidation_1-mlogloss:1.27232\n",
      "[35]\tvalidation_0-mlogloss:1.01220\tvalidation_1-mlogloss:1.27025\n",
      "[36]\tvalidation_0-mlogloss:1.00200\tvalidation_1-mlogloss:1.26513\n",
      "[37]\tvalidation_0-mlogloss:0.99252\tvalidation_1-mlogloss:1.26380\n",
      "[38]\tvalidation_0-mlogloss:0.98289\tvalidation_1-mlogloss:1.25917\n",
      "[39]\tvalidation_0-mlogloss:0.97364\tvalidation_1-mlogloss:1.25444\n",
      "[40]\tvalidation_0-mlogloss:0.96464\tvalidation_1-mlogloss:1.24834\n",
      "[41]\tvalidation_0-mlogloss:0.95652\tvalidation_1-mlogloss:1.24425\n",
      "[42]\tvalidation_0-mlogloss:0.94776\tvalidation_1-mlogloss:1.23820\n",
      "[43]\tvalidation_0-mlogloss:0.93955\tvalidation_1-mlogloss:1.23736\n",
      "[44]\tvalidation_0-mlogloss:0.93174\tvalidation_1-mlogloss:1.23287\n",
      "[45]\tvalidation_0-mlogloss:0.92468\tvalidation_1-mlogloss:1.22963\n",
      "[46]\tvalidation_0-mlogloss:0.91714\tvalidation_1-mlogloss:1.22406\n",
      "[47]\tvalidation_0-mlogloss:0.90995\tvalidation_1-mlogloss:1.22155\n",
      "[48]\tvalidation_0-mlogloss:0.90296\tvalidation_1-mlogloss:1.21652\n",
      "[49]\tvalidation_0-mlogloss:0.89601\tvalidation_1-mlogloss:1.21405\n",
      "[50]\tvalidation_0-mlogloss:0.88957\tvalidation_1-mlogloss:1.21081\n",
      "[51]\tvalidation_0-mlogloss:0.88339\tvalidation_1-mlogloss:1.20810\n",
      "[52]\tvalidation_0-mlogloss:0.87713\tvalidation_1-mlogloss:1.20555\n",
      "[53]\tvalidation_0-mlogloss:0.87108\tvalidation_1-mlogloss:1.20307\n",
      "[54]\tvalidation_0-mlogloss:0.86519\tvalidation_1-mlogloss:1.19932\n",
      "[55]\tvalidation_0-mlogloss:0.85942\tvalidation_1-mlogloss:1.19666\n",
      "[56]\tvalidation_0-mlogloss:0.85448\tvalidation_1-mlogloss:1.19508\n",
      "[57]\tvalidation_0-mlogloss:0.84862\tvalidation_1-mlogloss:1.19383\n",
      "[58]\tvalidation_0-mlogloss:0.84309\tvalidation_1-mlogloss:1.19275\n",
      "[59]\tvalidation_0-mlogloss:0.83867\tvalidation_1-mlogloss:1.19163\n",
      "[60]\tvalidation_0-mlogloss:0.83345\tvalidation_1-mlogloss:1.19112\n",
      "[61]\tvalidation_0-mlogloss:0.82849\tvalidation_1-mlogloss:1.18855\n",
      "[62]\tvalidation_0-mlogloss:0.82350\tvalidation_1-mlogloss:1.18843\n",
      "[63]\tvalidation_0-mlogloss:0.81911\tvalidation_1-mlogloss:1.18773\n",
      "[64]\tvalidation_0-mlogloss:0.81501\tvalidation_1-mlogloss:1.18681\n",
      "[65]\tvalidation_0-mlogloss:0.80999\tvalidation_1-mlogloss:1.18492\n",
      "[66]\tvalidation_0-mlogloss:0.80569\tvalidation_1-mlogloss:1.18237\n",
      "[67]\tvalidation_0-mlogloss:0.80082\tvalidation_1-mlogloss:1.18041\n",
      "[68]\tvalidation_0-mlogloss:0.79662\tvalidation_1-mlogloss:1.17925\n",
      "[69]\tvalidation_0-mlogloss:0.79227\tvalidation_1-mlogloss:1.17859\n",
      "[70]\tvalidation_0-mlogloss:0.78869\tvalidation_1-mlogloss:1.17708\n",
      "[71]\tvalidation_0-mlogloss:0.78459\tvalidation_1-mlogloss:1.17837\n",
      "[72]\tvalidation_0-mlogloss:0.78074\tvalidation_1-mlogloss:1.17563\n",
      "[73]\tvalidation_0-mlogloss:0.77658\tvalidation_1-mlogloss:1.17447\n",
      "[74]\tvalidation_0-mlogloss:0.77312\tvalidation_1-mlogloss:1.17268\n",
      "[75]\tvalidation_0-mlogloss:0.76921\tvalidation_1-mlogloss:1.16967\n",
      "[76]\tvalidation_0-mlogloss:0.76577\tvalidation_1-mlogloss:1.16795\n",
      "[77]\tvalidation_0-mlogloss:0.76232\tvalidation_1-mlogloss:1.16829\n",
      "[78]\tvalidation_0-mlogloss:0.75912\tvalidation_1-mlogloss:1.16785\n",
      "[79]\tvalidation_0-mlogloss:0.75550\tvalidation_1-mlogloss:1.16649\n",
      "[80]\tvalidation_0-mlogloss:0.75240\tvalidation_1-mlogloss:1.16688\n",
      "[81]\tvalidation_0-mlogloss:0.74937\tvalidation_1-mlogloss:1.16793\n",
      "[82]\tvalidation_0-mlogloss:0.74641\tvalidation_1-mlogloss:1.16858\n",
      "[83]\tvalidation_0-mlogloss:0.74290\tvalidation_1-mlogloss:1.16437\n",
      "[84]\tvalidation_0-mlogloss:0.73962\tvalidation_1-mlogloss:1.16286\n",
      "[85]\tvalidation_0-mlogloss:0.73669\tvalidation_1-mlogloss:1.16381\n",
      "[86]\tvalidation_0-mlogloss:0.73342\tvalidation_1-mlogloss:1.16377\n",
      "[87]\tvalidation_0-mlogloss:0.73076\tvalidation_1-mlogloss:1.16248\n",
      "[88]\tvalidation_0-mlogloss:0.72792\tvalidation_1-mlogloss:1.16083\n",
      "[89]\tvalidation_0-mlogloss:0.72514\tvalidation_1-mlogloss:1.15847\n",
      "[90]\tvalidation_0-mlogloss:0.72221\tvalidation_1-mlogloss:1.15710\n",
      "[91]\tvalidation_0-mlogloss:0.71974\tvalidation_1-mlogloss:1.15663\n",
      "[92]\tvalidation_0-mlogloss:0.71707\tvalidation_1-mlogloss:1.15483\n",
      "[93]\tvalidation_0-mlogloss:0.71476\tvalidation_1-mlogloss:1.15704\n",
      "[94]\tvalidation_0-mlogloss:0.71165\tvalidation_1-mlogloss:1.15527\n",
      "[95]\tvalidation_0-mlogloss:0.70913\tvalidation_1-mlogloss:1.15287\n",
      "[96]\tvalidation_0-mlogloss:0.70619\tvalidation_1-mlogloss:1.15181\n",
      "[97]\tvalidation_0-mlogloss:0.70434\tvalidation_1-mlogloss:1.15097\n",
      "[98]\tvalidation_0-mlogloss:0.70172\tvalidation_1-mlogloss:1.15015\n",
      "[99]\tvalidation_0-mlogloss:0.69910\tvalidation_1-mlogloss:1.14890\n",
      "[100]\tvalidation_0-mlogloss:0.69689\tvalidation_1-mlogloss:1.14613\n",
      "[101]\tvalidation_0-mlogloss:0.69396\tvalidation_1-mlogloss:1.14455\n",
      "[102]\tvalidation_0-mlogloss:0.69153\tvalidation_1-mlogloss:1.14327\n",
      "[103]\tvalidation_0-mlogloss:0.68913\tvalidation_1-mlogloss:1.14259\n",
      "[104]\tvalidation_0-mlogloss:0.68623\tvalidation_1-mlogloss:1.14106\n",
      "[105]\tvalidation_0-mlogloss:0.68372\tvalidation_1-mlogloss:1.13950\n",
      "[106]\tvalidation_0-mlogloss:0.68206\tvalidation_1-mlogloss:1.14001\n",
      "[107]\tvalidation_0-mlogloss:0.68027\tvalidation_1-mlogloss:1.13881\n",
      "[108]\tvalidation_0-mlogloss:0.67785\tvalidation_1-mlogloss:1.13862\n",
      "[109]\tvalidation_0-mlogloss:0.67596\tvalidation_1-mlogloss:1.13769\n",
      "[110]\tvalidation_0-mlogloss:0.67396\tvalidation_1-mlogloss:1.13682\n",
      "[111]\tvalidation_0-mlogloss:0.67192\tvalidation_1-mlogloss:1.13573\n",
      "[112]\tvalidation_0-mlogloss:0.66987\tvalidation_1-mlogloss:1.13657\n",
      "[113]\tvalidation_0-mlogloss:0.66824\tvalidation_1-mlogloss:1.13653\n",
      "[114]\tvalidation_0-mlogloss:0.66628\tvalidation_1-mlogloss:1.13537\n",
      "[115]\tvalidation_0-mlogloss:0.66462\tvalidation_1-mlogloss:1.13534\n",
      "[116]\tvalidation_0-mlogloss:0.66243\tvalidation_1-mlogloss:1.13424\n",
      "[117]\tvalidation_0-mlogloss:0.66071\tvalidation_1-mlogloss:1.13476\n",
      "[118]\tvalidation_0-mlogloss:0.65908\tvalidation_1-mlogloss:1.13356\n",
      "[119]\tvalidation_0-mlogloss:0.65706\tvalidation_1-mlogloss:1.13397\n",
      "[120]\tvalidation_0-mlogloss:0.65577\tvalidation_1-mlogloss:1.13381\n",
      "[121]\tvalidation_0-mlogloss:0.65382\tvalidation_1-mlogloss:1.13415\n",
      "[122]\tvalidation_0-mlogloss:0.65208\tvalidation_1-mlogloss:1.13475\n",
      "[123]\tvalidation_0-mlogloss:0.65054\tvalidation_1-mlogloss:1.13452\n",
      "[124]\tvalidation_0-mlogloss:0.64878\tvalidation_1-mlogloss:1.13305\n",
      "[125]\tvalidation_0-mlogloss:0.64691\tvalidation_1-mlogloss:1.13152\n",
      "[126]\tvalidation_0-mlogloss:0.64537\tvalidation_1-mlogloss:1.13290\n",
      "[127]\tvalidation_0-mlogloss:0.64362\tvalidation_1-mlogloss:1.13464\n",
      "[128]\tvalidation_0-mlogloss:0.64177\tvalidation_1-mlogloss:1.13199\n",
      "[129]\tvalidation_0-mlogloss:0.64033\tvalidation_1-mlogloss:1.13382\n",
      "[130]\tvalidation_0-mlogloss:0.63882\tvalidation_1-mlogloss:1.13497\n",
      "[131]\tvalidation_0-mlogloss:0.63722\tvalidation_1-mlogloss:1.13400\n",
      "[132]\tvalidation_0-mlogloss:0.63595\tvalidation_1-mlogloss:1.13470\n",
      "[133]\tvalidation_0-mlogloss:0.63443\tvalidation_1-mlogloss:1.13599\n",
      "[134]\tvalidation_0-mlogloss:0.63302\tvalidation_1-mlogloss:1.13512\n",
      "[135]\tvalidation_0-mlogloss:0.63159\tvalidation_1-mlogloss:1.13638\n",
      "[136]\tvalidation_0-mlogloss:0.63051\tvalidation_1-mlogloss:1.13707\n",
      "[137]\tvalidation_0-mlogloss:0.62899\tvalidation_1-mlogloss:1.13761\n",
      "[138]\tvalidation_0-mlogloss:0.62748\tvalidation_1-mlogloss:1.13750\n",
      "[139]\tvalidation_0-mlogloss:0.62657\tvalidation_1-mlogloss:1.13941\n",
      "[140]\tvalidation_0-mlogloss:0.62538\tvalidation_1-mlogloss:1.14038\n",
      "[141]\tvalidation_0-mlogloss:0.62400\tvalidation_1-mlogloss:1.14166\n",
      "[142]\tvalidation_0-mlogloss:0.62289\tvalidation_1-mlogloss:1.14118\n",
      "[143]\tvalidation_0-mlogloss:0.62141\tvalidation_1-mlogloss:1.14041\n",
      "[144]\tvalidation_0-mlogloss:0.61987\tvalidation_1-mlogloss:1.14073\n",
      "[145]\tvalidation_0-mlogloss:0.61860\tvalidation_1-mlogloss:1.14085\n",
      "[146]\tvalidation_0-mlogloss:0.61693\tvalidation_1-mlogloss:1.13971\n",
      "[147]\tvalidation_0-mlogloss:0.61581\tvalidation_1-mlogloss:1.14110\n",
      "[148]\tvalidation_0-mlogloss:0.61445\tvalidation_1-mlogloss:1.14196\n",
      "[149]\tvalidation_0-mlogloss:0.61298\tvalidation_1-mlogloss:1.14054\n",
      "[150]\tvalidation_0-mlogloss:0.61188\tvalidation_1-mlogloss:1.14117\n",
      "[151]\tvalidation_0-mlogloss:0.61063\tvalidation_1-mlogloss:1.14084\n",
      "[152]\tvalidation_0-mlogloss:0.60931\tvalidation_1-mlogloss:1.14366\n",
      "[153]\tvalidation_0-mlogloss:0.60820\tvalidation_1-mlogloss:1.14522\n",
      "[154]\tvalidation_0-mlogloss:0.60708\tvalidation_1-mlogloss:1.14520\n",
      "[155]\tvalidation_0-mlogloss:0.60622\tvalidation_1-mlogloss:1.14621\n",
      "[156]\tvalidation_0-mlogloss:0.60484\tvalidation_1-mlogloss:1.14585\n",
      "[157]\tvalidation_0-mlogloss:0.60314\tvalidation_1-mlogloss:1.14738\n",
      "[158]\tvalidation_0-mlogloss:0.60159\tvalidation_1-mlogloss:1.15013\n",
      "[159]\tvalidation_0-mlogloss:0.60032\tvalidation_1-mlogloss:1.15279\n",
      "[160]\tvalidation_0-mlogloss:0.59910\tvalidation_1-mlogloss:1.15616\n",
      "[161]\tvalidation_0-mlogloss:0.59746\tvalidation_1-mlogloss:1.15793\n",
      "[162]\tvalidation_0-mlogloss:0.59656\tvalidation_1-mlogloss:1.15875\n",
      "[163]\tvalidation_0-mlogloss:0.59549\tvalidation_1-mlogloss:1.16076\n",
      "[164]\tvalidation_0-mlogloss:0.59451\tvalidation_1-mlogloss:1.16200\n",
      "[165]\tvalidation_0-mlogloss:0.59303\tvalidation_1-mlogloss:1.16314\n",
      "[166]\tvalidation_0-mlogloss:0.59210\tvalidation_1-mlogloss:1.16593\n",
      "[167]\tvalidation_0-mlogloss:0.59086\tvalidation_1-mlogloss:1.16811\n",
      "[168]\tvalidation_0-mlogloss:0.58985\tvalidation_1-mlogloss:1.16869\n",
      "[169]\tvalidation_0-mlogloss:0.58854\tvalidation_1-mlogloss:1.16845\n",
      "[170]\tvalidation_0-mlogloss:0.58737\tvalidation_1-mlogloss:1.16899\n",
      "[171]\tvalidation_0-mlogloss:0.58646\tvalidation_1-mlogloss:1.17087\n",
      "[172]\tvalidation_0-mlogloss:0.58518\tvalidation_1-mlogloss:1.17221\n",
      "[173]\tvalidation_0-mlogloss:0.58415\tvalidation_1-mlogloss:1.17148\n",
      "[174]\tvalidation_0-mlogloss:0.58317\tvalidation_1-mlogloss:1.17206\n",
      "[175]\tvalidation_0-mlogloss:0.58229\tvalidation_1-mlogloss:1.17380\n"
     ]
    },
    {
     "data": {
      "text/html": [
       "<style>#sk-container-id-3 {color: black;background-color: white;}#sk-container-id-3 pre{padding: 0;}#sk-container-id-3 div.sk-toggleable {background-color: white;}#sk-container-id-3 label.sk-toggleable__label {cursor: pointer;display: block;width: 100%;margin-bottom: 0;padding: 0.3em;box-sizing: border-box;text-align: center;}#sk-container-id-3 label.sk-toggleable__label-arrow:before {content: \"▸\";float: left;margin-right: 0.25em;color: #696969;}#sk-container-id-3 label.sk-toggleable__label-arrow:hover:before {color: black;}#sk-container-id-3 div.sk-estimator:hover label.sk-toggleable__label-arrow:before {color: black;}#sk-container-id-3 div.sk-toggleable__content {max-height: 0;max-width: 0;overflow: hidden;text-align: left;background-color: #f0f8ff;}#sk-container-id-3 div.sk-toggleable__content pre {margin: 0.2em;color: black;border-radius: 0.25em;background-color: #f0f8ff;}#sk-container-id-3 input.sk-toggleable__control:checked~div.sk-toggleable__content {max-height: 200px;max-width: 100%;overflow: auto;}#sk-container-id-3 input.sk-toggleable__control:checked~label.sk-toggleable__label-arrow:before {content: \"▾\";}#sk-container-id-3 div.sk-estimator input.sk-toggleable__control:checked~label.sk-toggleable__label {background-color: #d4ebff;}#sk-container-id-3 div.sk-label input.sk-toggleable__control:checked~label.sk-toggleable__label {background-color: #d4ebff;}#sk-container-id-3 input.sk-hidden--visually {border: 0;clip: rect(1px 1px 1px 1px);clip: rect(1px, 1px, 1px, 1px);height: 1px;margin: -1px;overflow: hidden;padding: 0;position: absolute;width: 1px;}#sk-container-id-3 div.sk-estimator {font-family: monospace;background-color: #f0f8ff;border: 1px dotted black;border-radius: 0.25em;box-sizing: border-box;margin-bottom: 0.5em;}#sk-container-id-3 div.sk-estimator:hover {background-color: #d4ebff;}#sk-container-id-3 div.sk-parallel-item::after {content: \"\";width: 100%;border-bottom: 1px solid gray;flex-grow: 1;}#sk-container-id-3 div.sk-label:hover label.sk-toggleable__label {background-color: #d4ebff;}#sk-container-id-3 div.sk-serial::before {content: \"\";position: absolute;border-left: 1px solid gray;box-sizing: border-box;top: 0;bottom: 0;left: 50%;z-index: 0;}#sk-container-id-3 div.sk-serial {display: flex;flex-direction: column;align-items: center;background-color: white;padding-right: 0.2em;padding-left: 0.2em;position: relative;}#sk-container-id-3 div.sk-item {position: relative;z-index: 1;}#sk-container-id-3 div.sk-parallel {display: flex;align-items: stretch;justify-content: center;background-color: white;position: relative;}#sk-container-id-3 div.sk-item::before, #sk-container-id-3 div.sk-parallel-item::before {content: \"\";position: absolute;border-left: 1px solid gray;box-sizing: border-box;top: 0;bottom: 0;left: 50%;z-index: -1;}#sk-container-id-3 div.sk-parallel-item {display: flex;flex-direction: column;z-index: 1;position: relative;background-color: white;}#sk-container-id-3 div.sk-parallel-item:first-child::after {align-self: flex-end;width: 50%;}#sk-container-id-3 div.sk-parallel-item:last-child::after {align-self: flex-start;width: 50%;}#sk-container-id-3 div.sk-parallel-item:only-child::after {width: 0;}#sk-container-id-3 div.sk-dashed-wrapped {border: 1px dashed gray;margin: 0 0.4em 0.5em 0.4em;box-sizing: border-box;padding-bottom: 0.4em;background-color: white;}#sk-container-id-3 div.sk-label label {font-family: monospace;font-weight: bold;display: inline-block;line-height: 1.2em;}#sk-container-id-3 div.sk-label-container {text-align: center;}#sk-container-id-3 div.sk-container {/* jupyter's `normalize.less` sets `[hidden] { display: none; }` but bootstrap.min.css set `[hidden] { display: none !important; }` so we also need the `!important` here to be able to override the default hidden behavior on the sphinx rendered scikit-learn.org. See: https://github.com/scikit-learn/scikit-learn/issues/21755 */display: inline-block !important;position: relative;}#sk-container-id-3 div.sk-text-repr-fallback {display: none;}</style><div id=\"sk-container-id-3\" class=\"sk-top-container\"><div class=\"sk-text-repr-fallback\"><pre>XGBClassifier(base_score=None, booster=None, callbacks=None,\n",
       "              colsample_bylevel=None, colsample_bynode=None,\n",
       "              colsample_bytree=None, early_stopping_rounds=None,\n",
       "              enable_categorical=False, eval_metric=None, feature_types=None,\n",
       "              gamma=None, gpu_id=None, grow_policy=None, importance_type=None,\n",
       "              interaction_constraints=None, learning_rate=0.05, max_bin=None,\n",
       "              max_cat_threshold=None, max_cat_to_onehot=None,\n",
       "              max_delta_step=None, max_depth=3, max_leaves=None,\n",
       "              min_child_weight=None, missing=nan, monotone_constraints=None,\n",
       "              n_estimators=400, n_jobs=None, num_parallel_tree=None,\n",
       "              objective=&#x27;multi:softprob&#x27;, predictor=None, ...)</pre><b>In a Jupyter environment, please rerun this cell to show the HTML representation or trust the notebook. <br />On GitHub, the HTML representation is unable to render, please try loading this page with nbviewer.org.</b></div><div class=\"sk-container\" hidden><div class=\"sk-item\"><div class=\"sk-estimator sk-toggleable\"><input class=\"sk-toggleable__control sk-hidden--visually\" id=\"sk-estimator-id-3\" type=\"checkbox\" checked><label for=\"sk-estimator-id-3\" class=\"sk-toggleable__label sk-toggleable__label-arrow\">XGBClassifier</label><div class=\"sk-toggleable__content\"><pre>XGBClassifier(base_score=None, booster=None, callbacks=None,\n",
       "              colsample_bylevel=None, colsample_bynode=None,\n",
       "              colsample_bytree=None, early_stopping_rounds=None,\n",
       "              enable_categorical=False, eval_metric=None, feature_types=None,\n",
       "              gamma=None, gpu_id=None, grow_policy=None, importance_type=None,\n",
       "              interaction_constraints=None, learning_rate=0.05, max_bin=None,\n",
       "              max_cat_threshold=None, max_cat_to_onehot=None,\n",
       "              max_delta_step=None, max_depth=3, max_leaves=None,\n",
       "              min_child_weight=None, missing=nan, monotone_constraints=None,\n",
       "              n_estimators=400, n_jobs=None, num_parallel_tree=None,\n",
       "              objective=&#x27;multi:softprob&#x27;, predictor=None, ...)</pre></div></div></div></div></div>"
      ],
      "text/plain": [
       "XGBClassifier(base_score=None, booster=None, callbacks=None,\n",
       "              colsample_bylevel=None, colsample_bynode=None,\n",
       "              colsample_bytree=None, early_stopping_rounds=None,\n",
       "              enable_categorical=False, eval_metric=None, feature_types=None,\n",
       "              gamma=None, gpu_id=None, grow_policy=None, importance_type=None,\n",
       "              interaction_constraints=None, learning_rate=0.05, max_bin=None,\n",
       "              max_cat_threshold=None, max_cat_to_onehot=None,\n",
       "              max_delta_step=None, max_depth=3, max_leaves=None,\n",
       "              min_child_weight=None, missing=nan, monotone_constraints=None,\n",
       "              n_estimators=400, n_jobs=None, num_parallel_tree=None,\n",
       "              objective='multi:softprob', predictor=None, ...)"
      ]
     },
     "execution_count": 18,
     "metadata": {},
     "output_type": "execute_result"
    }
   ],
   "source": [
    "xgb_clf = XGBClassifier(n_estimators =400, learning_rate = 0.05, max_depth = 3)\n",
    "xgb_clf.fit(X_tr, y_tr, early_stopping_rounds = 50, eval_metric = 'mlogloss', eval_set = evals) "
   ]
  },
  {
   "cell_type": "code",
   "execution_count": 21,
   "id": "bfbf830e-2175-40af-ac62-da3da25c6100",
   "metadata": {},
   "outputs": [],
   "source": [
    "# 정확도는? ( 소수 넷째까지 )"
   ]
  },
  {
   "cell_type": "code",
   "execution_count": 27,
   "id": "c2c2fbc4-65e4-4e69-a950-f11506743990",
   "metadata": {},
   "outputs": [
    {
     "data": {
      "text/plain": [
       "0.5319"
      ]
     },
     "execution_count": 27,
     "metadata": {},
     "output_type": "execute_result"
    }
   ],
   "source": [
    "pred = xgb_clf.predict(X_test)\n",
    "accuracy_score(y_test, pred).round(4)  "
   ]
  },
  {
   "cell_type": "code",
   "execution_count": 28,
   "id": "6e30fbaa-1af7-49e1-ba4d-bdb8c4ecedef",
   "metadata": {},
   "outputs": [],
   "source": [
    "# lgbm을 이용하여 정확도를 내 봅시다."
   ]
  },
  {
   "cell_type": "code",
   "execution_count": 33,
   "id": "cac96c2f-587f-49df-a123-88d99df76588",
   "metadata": {
    "collapsed": true,
    "jupyter": {
     "outputs_hidden": true
    },
    "tags": []
   },
   "outputs": [
    {
     "name": "stdout",
     "output_type": "stream",
     "text": [
      "[1]\tvalid_0's multi_logloss: 1.65868\tvalid_1's multi_logloss: 1.61722\n",
      "[2]\tvalid_0's multi_logloss: 1.58951\tvalid_1's multi_logloss: 1.55949\n",
      "[3]\tvalid_0's multi_logloss: 1.52713\tvalid_1's multi_logloss: 1.51202\n",
      "[4]\tvalid_0's multi_logloss: 1.47342\tvalid_1's multi_logloss: 1.47208\n",
      "[5]\tvalid_0's multi_logloss: 1.42649\tvalid_1's multi_logloss: 1.43171\n",
      "[6]\tvalid_0's multi_logloss: 1.38355\tvalid_1's multi_logloss: 1.39779\n",
      "[7]\tvalid_0's multi_logloss: 1.34502\tvalid_1's multi_logloss: 1.36625\n",
      "[8]\tvalid_0's multi_logloss: 1.31104\tvalid_1's multi_logloss: 1.33834\n",
      "[9]\tvalid_0's multi_logloss: 1.27883\tvalid_1's multi_logloss: 1.31304\n",
      "[10]\tvalid_0's multi_logloss: 1.24957\tvalid_1's multi_logloss: 1.28841\n",
      "[11]\tvalid_0's multi_logloss: 1.22263\tvalid_1's multi_logloss: 1.26746\n",
      "[12]\tvalid_0's multi_logloss: 1.19756\tvalid_1's multi_logloss: 1.24723\n",
      "[13]\tvalid_0's multi_logloss: 1.1747\tvalid_1's multi_logloss: 1.22678\n",
      "[14]\tvalid_0's multi_logloss: 1.15323\tvalid_1's multi_logloss: 1.21147\n",
      "[15]\tvalid_0's multi_logloss: 1.13267\tvalid_1's multi_logloss: 1.19737\n",
      "[16]\tvalid_0's multi_logloss: 1.1092\tvalid_1's multi_logloss: 1.18167\n",
      "[17]\tvalid_0's multi_logloss: 1.09157\tvalid_1's multi_logloss: 1.16792\n",
      "[18]\tvalid_0's multi_logloss: 1.07429\tvalid_1's multi_logloss: 1.15657\n",
      "[19]\tvalid_0's multi_logloss: 1.05599\tvalid_1's multi_logloss: 1.14461\n",
      "[20]\tvalid_0's multi_logloss: 1.0374\tvalid_1's multi_logloss: 1.13192\n",
      "[21]\tvalid_0's multi_logloss: 1.02114\tvalid_1's multi_logloss: 1.12232\n",
      "[22]\tvalid_0's multi_logloss: 1.00653\tvalid_1's multi_logloss: 1.11553\n",
      "[23]\tvalid_0's multi_logloss: 0.991525\tvalid_1's multi_logloss: 1.10539\n",
      "[24]\tvalid_0's multi_logloss: 0.978495\tvalid_1's multi_logloss: 1.09907\n",
      "[25]\tvalid_0's multi_logloss: 0.965619\tvalid_1's multi_logloss: 1.09599\n",
      "[26]\tvalid_0's multi_logloss: 0.954128\tvalid_1's multi_logloss: 1.08538\n",
      "[27]\tvalid_0's multi_logloss: 0.943285\tvalid_1's multi_logloss: 1.07772\n",
      "[28]\tvalid_0's multi_logloss: 0.931425\tvalid_1's multi_logloss: 1.07613\n",
      "[29]\tvalid_0's multi_logloss: 0.921055\tvalid_1's multi_logloss: 1.06845\n",
      "[30]\tvalid_0's multi_logloss: 0.911556\tvalid_1's multi_logloss: 1.064\n",
      "[31]\tvalid_0's multi_logloss: 0.902021\tvalid_1's multi_logloss: 1.06018\n",
      "[32]\tvalid_0's multi_logloss: 0.892387\tvalid_1's multi_logloss: 1.05718\n",
      "[33]\tvalid_0's multi_logloss: 0.883924\tvalid_1's multi_logloss: 1.05381\n",
      "[34]\tvalid_0's multi_logloss: 0.874764\tvalid_1's multi_logloss: 1.05076\n",
      "[35]\tvalid_0's multi_logloss: 0.865847\tvalid_1's multi_logloss: 1.04823\n",
      "[36]\tvalid_0's multi_logloss: 0.858026\tvalid_1's multi_logloss: 1.04583\n",
      "[37]\tvalid_0's multi_logloss: 0.851041\tvalid_1's multi_logloss: 1.04496\n",
      "[38]\tvalid_0's multi_logloss: 0.84388\tvalid_1's multi_logloss: 1.04371\n",
      "[39]\tvalid_0's multi_logloss: 0.837072\tvalid_1's multi_logloss: 1.0432\n",
      "[40]\tvalid_0's multi_logloss: 0.830494\tvalid_1's multi_logloss: 1.04205\n",
      "[41]\tvalid_0's multi_logloss: 0.824304\tvalid_1's multi_logloss: 1.03833\n",
      "[42]\tvalid_0's multi_logloss: 0.818538\tvalid_1's multi_logloss: 1.03353\n",
      "[43]\tvalid_0's multi_logloss: 0.812083\tvalid_1's multi_logloss: 1.03294\n",
      "[44]\tvalid_0's multi_logloss: 0.807181\tvalid_1's multi_logloss: 1.03194\n",
      "[45]\tvalid_0's multi_logloss: 0.800826\tvalid_1's multi_logloss: 1.02967\n",
      "[46]\tvalid_0's multi_logloss: 0.796314\tvalid_1's multi_logloss: 1.02731\n",
      "[47]\tvalid_0's multi_logloss: 0.790708\tvalid_1's multi_logloss: 1.02812\n",
      "[48]\tvalid_0's multi_logloss: 0.785597\tvalid_1's multi_logloss: 1.0261\n",
      "[49]\tvalid_0's multi_logloss: 0.780864\tvalid_1's multi_logloss: 1.02716\n",
      "[50]\tvalid_0's multi_logloss: 0.775811\tvalid_1's multi_logloss: 1.02793\n",
      "[51]\tvalid_0's multi_logloss: 0.771845\tvalid_1's multi_logloss: 1.02734\n",
      "[52]\tvalid_0's multi_logloss: 0.768358\tvalid_1's multi_logloss: 1.02816\n",
      "[53]\tvalid_0's multi_logloss: 0.763222\tvalid_1's multi_logloss: 1.02173\n",
      "[54]\tvalid_0's multi_logloss: 0.759021\tvalid_1's multi_logloss: 1.02273\n",
      "[55]\tvalid_0's multi_logloss: 0.754939\tvalid_1's multi_logloss: 1.02271\n",
      "[56]\tvalid_0's multi_logloss: 0.750644\tvalid_1's multi_logloss: 1.02336\n",
      "[57]\tvalid_0's multi_logloss: 0.7462\tvalid_1's multi_logloss: 1.02024\n",
      "[58]\tvalid_0's multi_logloss: 0.742153\tvalid_1's multi_logloss: 1.02229\n",
      "[59]\tvalid_0's multi_logloss: 0.73824\tvalid_1's multi_logloss: 1.01793\n",
      "[60]\tvalid_0's multi_logloss: 0.734391\tvalid_1's multi_logloss: 1.02189\n",
      "[61]\tvalid_0's multi_logloss: 0.73065\tvalid_1's multi_logloss: 1.02197\n",
      "[62]\tvalid_0's multi_logloss: 0.726775\tvalid_1's multi_logloss: 1.02\n",
      "[63]\tvalid_0's multi_logloss: 0.723694\tvalid_1's multi_logloss: 1.02214\n",
      "[64]\tvalid_0's multi_logloss: 0.720226\tvalid_1's multi_logloss: 1.01927\n",
      "[65]\tvalid_0's multi_logloss: 0.717234\tvalid_1's multi_logloss: 1.02122\n",
      "[66]\tvalid_0's multi_logloss: 0.713905\tvalid_1's multi_logloss: 1.02061\n",
      "[67]\tvalid_0's multi_logloss: 0.710748\tvalid_1's multi_logloss: 1.02114\n",
      "[68]\tvalid_0's multi_logloss: 0.707144\tvalid_1's multi_logloss: 1.01649\n",
      "[69]\tvalid_0's multi_logloss: 0.704019\tvalid_1's multi_logloss: 1.02004\n",
      "[70]\tvalid_0's multi_logloss: 0.701386\tvalid_1's multi_logloss: 1.02581\n",
      "[71]\tvalid_0's multi_logloss: 0.698753\tvalid_1's multi_logloss: 1.02662\n",
      "[72]\tvalid_0's multi_logloss: 0.695157\tvalid_1's multi_logloss: 1.02401\n",
      "[73]\tvalid_0's multi_logloss: 0.692313\tvalid_1's multi_logloss: 1.02238\n",
      "[74]\tvalid_0's multi_logloss: 0.689295\tvalid_1's multi_logloss: 1.02304\n",
      "[75]\tvalid_0's multi_logloss: 0.686685\tvalid_1's multi_logloss: 1.02521\n",
      "[76]\tvalid_0's multi_logloss: 0.684187\tvalid_1's multi_logloss: 1.02555\n",
      "[77]\tvalid_0's multi_logloss: 0.681664\tvalid_1's multi_logloss: 1.02584\n",
      "[78]\tvalid_0's multi_logloss: 0.679254\tvalid_1's multi_logloss: 1.02953\n",
      "[79]\tvalid_0's multi_logloss: 0.676448\tvalid_1's multi_logloss: 1.02668\n",
      "[80]\tvalid_0's multi_logloss: 0.674352\tvalid_1's multi_logloss: 1.02666\n",
      "[81]\tvalid_0's multi_logloss: 0.672587\tvalid_1's multi_logloss: 1.02812\n",
      "[82]\tvalid_0's multi_logloss: 0.67014\tvalid_1's multi_logloss: 1.02997\n",
      "[83]\tvalid_0's multi_logloss: 0.66754\tvalid_1's multi_logloss: 1.02752\n",
      "[84]\tvalid_0's multi_logloss: 0.665078\tvalid_1's multi_logloss: 1.02667\n",
      "[85]\tvalid_0's multi_logloss: 0.663101\tvalid_1's multi_logloss: 1.02864\n",
      "[86]\tvalid_0's multi_logloss: 0.660783\tvalid_1's multi_logloss: 1.02841\n",
      "[87]\tvalid_0's multi_logloss: 0.658736\tvalid_1's multi_logloss: 1.02847\n",
      "[88]\tvalid_0's multi_logloss: 0.657117\tvalid_1's multi_logloss: 1.02998\n",
      "[89]\tvalid_0's multi_logloss: 0.6546\tvalid_1's multi_logloss: 1.02943\n",
      "[90]\tvalid_0's multi_logloss: 0.652903\tvalid_1's multi_logloss: 1.03623\n",
      "[91]\tvalid_0's multi_logloss: 0.65105\tvalid_1's multi_logloss: 1.03786\n",
      "[92]\tvalid_0's multi_logloss: 0.649477\tvalid_1's multi_logloss: 1.03882\n",
      "[93]\tvalid_0's multi_logloss: 0.647618\tvalid_1's multi_logloss: 1.03781\n",
      "[94]\tvalid_0's multi_logloss: 0.646251\tvalid_1's multi_logloss: 1.04351\n",
      "[95]\tvalid_0's multi_logloss: 0.644374\tvalid_1's multi_logloss: 1.04395\n",
      "[96]\tvalid_0's multi_logloss: 0.642583\tvalid_1's multi_logloss: 1.04308\n",
      "[97]\tvalid_0's multi_logloss: 0.640425\tvalid_1's multi_logloss: 1.04195\n",
      "[98]\tvalid_0's multi_logloss: 0.638674\tvalid_1's multi_logloss: 1.04327\n",
      "[99]\tvalid_0's multi_logloss: 0.637062\tvalid_1's multi_logloss: 1.04388\n",
      "[100]\tvalid_0's multi_logloss: 0.635863\tvalid_1's multi_logloss: 1.04859\n",
      "[101]\tvalid_0's multi_logloss: 0.634093\tvalid_1's multi_logloss: 1.05053\n",
      "[102]\tvalid_0's multi_logloss: 0.632452\tvalid_1's multi_logloss: 1.05082\n",
      "[103]\tvalid_0's multi_logloss: 0.631174\tvalid_1's multi_logloss: 1.05456\n",
      "[104]\tvalid_0's multi_logloss: 0.629583\tvalid_1's multi_logloss: 1.05786\n",
      "[105]\tvalid_0's multi_logloss: 0.627806\tvalid_1's multi_logloss: 1.05926\n",
      "[106]\tvalid_0's multi_logloss: 0.626524\tvalid_1's multi_logloss: 1.06216\n",
      "[107]\tvalid_0's multi_logloss: 0.625127\tvalid_1's multi_logloss: 1.06395\n",
      "[108]\tvalid_0's multi_logloss: 0.623706\tvalid_1's multi_logloss: 1.06559\n",
      "[109]\tvalid_0's multi_logloss: 0.62246\tvalid_1's multi_logloss: 1.06653\n",
      "[110]\tvalid_0's multi_logloss: 0.621427\tvalid_1's multi_logloss: 1.07202\n",
      "[111]\tvalid_0's multi_logloss: 0.619724\tvalid_1's multi_logloss: 1.07197\n",
      "[112]\tvalid_0's multi_logloss: 0.618271\tvalid_1's multi_logloss: 1.07221\n",
      "[113]\tvalid_0's multi_logloss: 0.616588\tvalid_1's multi_logloss: 1.07019\n",
      "[114]\tvalid_0's multi_logloss: 0.615576\tvalid_1's multi_logloss: 1.0746\n",
      "[115]\tvalid_0's multi_logloss: 0.614071\tvalid_1's multi_logloss: 1.07549\n",
      "[116]\tvalid_0's multi_logloss: 0.612344\tvalid_1's multi_logloss: 1.07425\n",
      "[117]\tvalid_0's multi_logloss: 0.611107\tvalid_1's multi_logloss: 1.07725\n",
      "[118]\tvalid_0's multi_logloss: 0.609759\tvalid_1's multi_logloss: 1.07816\n"
     ]
    },
    {
     "name": "stderr",
     "output_type": "stream",
     "text": [
      "C:\\Users\\user\\anaconda3\\lib\\site-packages\\lightgbm\\sklearn.py:726: UserWarning: 'early_stopping_rounds' argument is deprecated and will be removed in a future release of LightGBM. Pass 'early_stopping()' callback via 'callbacks' argument instead.\n",
      "  _log_warning(\"'early_stopping_rounds' argument is deprecated and will be removed in a future release of LightGBM. \"\n",
      "C:\\Users\\user\\anaconda3\\lib\\site-packages\\lightgbm\\sklearn.py:736: UserWarning: 'verbose' argument is deprecated and will be removed in a future release of LightGBM. Pass 'log_evaluation()' callback via 'callbacks' argument instead.\n",
      "  _log_warning(\"'verbose' argument is deprecated and will be removed in a future release of LightGBM. \"\n"
     ]
    },
    {
     "data": {
      "text/plain": [
       "0.5319"
      ]
     },
     "execution_count": 33,
     "metadata": {},
     "output_type": "execute_result"
    }
   ],
   "source": [
    "from lightgbm import LGBMClassifier\n",
    "import lightgbm \n",
    "from sklearn.metrics import accuracy_score\n",
    "\n",
    "lgbm_clf =  LGBMClassifier(n_estimators =400, learning_rate = 0.05, max_depth = 3)\n",
    "lgbm_clf.fit(X_tr, y_tr, early_stopping_rounds = 50, eval_metric = 'logloss', eval_set = evals, verbose=True) \n",
    "pred = LGBM.predict(X_test)\n",
    "accuracy_score(y_test, pred).round(4)  "
   ]
  },
  {
   "cell_type": "markdown",
   "id": "3fa43170-2864-4ee5-b2e5-b52b212460eb",
   "metadata": {},
   "source": [
    "##### 2교시 256p"
   ]
  },
  {
   "cell_type": "code",
   "execution_count": 34,
   "id": "91e84c69-c40f-4252-acd3-0520190b73c3",
   "metadata": {},
   "outputs": [
    {
     "name": "stdout",
     "output_type": "stream",
     "text": [
      "Collecting hyperopt\n",
      "  Downloading hyperopt-0.2.7-py2.py3-none-any.whl (1.6 MB)\n",
      "     ---------------------------------------- 1.6/1.6 MB 16.7 MB/s eta 0:00:00\n",
      "Requirement already satisfied: tqdm in c:\\users\\user\\anaconda3\\lib\\site-packages (from hyperopt) (4.64.1)\n",
      "Requirement already satisfied: cloudpickle in c:\\users\\user\\anaconda3\\lib\\site-packages (from hyperopt) (2.0.0)\n",
      "Requirement already satisfied: six in c:\\users\\user\\anaconda3\\lib\\site-packages (from hyperopt) (1.16.0)\n",
      "Requirement already satisfied: future in c:\\users\\user\\anaconda3\\lib\\site-packages (from hyperopt) (0.18.3)\n",
      "Requirement already satisfied: numpy in c:\\users\\user\\anaconda3\\lib\\site-packages (from hyperopt) (1.23.5)\n",
      "Requirement already satisfied: networkx>=2.2 in c:\\users\\user\\anaconda3\\lib\\site-packages (from hyperopt) (2.8.4)\n",
      "Requirement already satisfied: scipy in c:\\users\\user\\anaconda3\\lib\\site-packages (from hyperopt) (1.10.0)\n",
      "Collecting py4j\n",
      "  Downloading py4j-0.10.9.7-py2.py3-none-any.whl (200 kB)\n",
      "     ---------------------------------------- 200.5/200.5 kB ? eta 0:00:00\n",
      "Requirement already satisfied: colorama in c:\\users\\user\\anaconda3\\lib\\site-packages (from tqdm->hyperopt) (0.4.6)\n",
      "Installing collected packages: py4j, hyperopt\n",
      "Successfully installed hyperopt-0.2.7 py4j-0.10.9.7\n",
      "Note: you may need to restart the kernel to use updated packages.\n"
     ]
    }
   ],
   "source": [
    "pip install hyperopt"
   ]
  },
  {
   "cell_type": "code",
   "execution_count": 35,
   "id": "fb11fd6b-0b93-4f1a-ba9a-5692a9046f39",
   "metadata": {},
   "outputs": [],
   "source": [
    "from hyperopt import hp"
   ]
  },
  {
   "cell_type": "code",
   "execution_count": 41,
   "id": "21fd49a8-27c3-44a8-b727-8f9e48da9446",
   "metadata": {},
   "outputs": [
    {
     "data": {
      "text/plain": [
       "{'x': <hyperopt.pyll.base.Apply at 0x21d4f0b1720>,\n",
       " 'y': <hyperopt.pyll.base.Apply at 0x21d4f0b1ba0>}"
      ]
     },
     "execution_count": 41,
     "metadata": {},
     "output_type": "execute_result"
    }
   ],
   "source": [
    "# -10~10까지 1간격을 가지는 입력 변수 x와 -15~15까지 1간격으로 입력 변수 y 설정.\n",
    "search_space = {'x':hp.quniform('x',-10,10,1), 'y':hp.quniform('y',-15,15,1)}\n",
    "search_space"
   ]
  },
  {
   "cell_type": "code",
   "execution_count": 42,
   "id": "765a2dbd-8bb9-4216-ae50-a18ce34a2c27",
   "metadata": {},
   "outputs": [],
   "source": [
    "from hyperopt import STATUS_OK\n",
    "\n",
    "# 목적 함수를 생성. 변숫값과 변수 검색 공간을 가지는 딕셔너리를 인자로 받고, 특정 값을 반환\n",
    "def objective_func(search_space):\n",
    "    x = search_space['x']\n",
    "    y = search_space['y']\n",
    "    retval = x**2 - 20*y\n",
    "    \n",
    "    return retval"
   ]
  },
  {
   "cell_type": "markdown",
   "id": "5907d108-f72d-4664-b8ef-896767df2db2",
   "metadata": {},
   "source": [
    "##### 3교시 259p"
   ]
  },
  {
   "cell_type": "code",
   "execution_count": 50,
   "id": "330d6afa-e505-46c6-9f20-843257ab97d9",
   "metadata": {},
   "outputs": [
    {
     "name": "stdout",
     "output_type": "stream",
     "text": [
      "100%|█████████████████████████████████████████████████████████████| 5/5 [00:00<00:00, 717.15trial/s, best loss: -224.0]\n",
      "best: {'x': -4.0, 'y': 12.0}\n"
     ]
    }
   ],
   "source": [
    "from hyperopt import fmin, tpe, Trials\n",
    "# 입력 결과값을 저장한 Trials 객체값 생성.\n",
    "trial_val = Trials()\n",
    "\n",
    "# 목적 함수의 최솟값을 반환하는 최적 입력 변숫값을 5번의 입력값 시도(max_evals=5)로 찾아냄.\n",
    "best_01 = fmin(fn = objective_func, space = search_space, algo = tpe.suggest, max_evals=5,\n",
    "               trials = trial_val, rstate = np.random.default_rng(seed=0))\n",
    "print('best:',best_01)"
   ]
  },
  {
   "cell_type": "code",
   "execution_count": 51,
   "id": "14ff0b64-5539-4f77-ae6b-52de35721d3f",
   "metadata": {},
   "outputs": [
    {
     "name": "stdout",
     "output_type": "stream",
     "text": [
      "100%|███████████████████████████████████████████████████████████| 20/20 [00:00<00:00, 940.02trial/s, best loss: -296.0]\n",
      "best: {'x': 2.0, 'y': 15.0}\n"
     ]
    }
   ],
   "source": [
    "# max_rvals를 20회로 늘려서 재테스트\n",
    "best_02 = fmin(fn = objective_func, space = search_space, algo = tpe.suggest, max_evals=20,\n",
    "               trials = trial_val, rstate = np.random.default_rng(seed=0))\n",
    "print('best:',best_02)"
   ]
  },
  {
   "cell_type": "code",
   "execution_count": 52,
   "id": "f36c3783-c9e3-45f0-a4d4-c14b70f40adc",
   "metadata": {},
   "outputs": [],
   "source": [
    "dataset = load_breast_cancer()\n",
    "\n",
    "cancer_df = pd.DataFrame(data=dataset.data, columns=dataset.feature_names)\n",
    "cancer_df['target']= dataset.target\n",
    "\n",
    "X_features = cancer_df.iloc[:, :-1]\n",
    "y_label = cancer_df.iloc[:, -1]\n",
    "\n",
    "# 전체 데이터 중 80%는 학습용 데이터, 20%는 테스트용 데이터 추출\n",
    "X_train, X_test, y_train, y_test=train_test_split(X_features, y_label, test_size=0.2, random_state=156 ) "
   ]
  },
  {
   "cell_type": "code",
   "execution_count": 53,
   "id": "54dcec4a-2837-4250-93eb-417586e9ad80",
   "metadata": {},
   "outputs": [],
   "source": [
    "X_tr, X_val, y_tr, y_val = train_test_split(X_train, y_train, test_size=0.1, random_state=156)"
   ]
  },
  {
   "cell_type": "code",
   "execution_count": 55,
   "id": "20168c98-5cef-43c4-9688-44dcaab2725d",
   "metadata": {},
   "outputs": [],
   "source": [
    "xgb_search_space = {'max_depth': hp.quniform('max_depth', 5, 20, 1), \n",
    "                    'min_child_weight': hp.quniform('min_child_weight', 1, 2, 1),\n",
    "                    'learning_rate': hp.uniform('learning_rate', 0.01, 0.2),\n",
    "                    'colsample_bytree': hp.uniform('colsample_bytree', 0.5, 1),} "
   ]
  },
  {
   "cell_type": "code",
   "execution_count": 58,
   "id": "9482238c-c03d-49c1-83cc-d7146a18dae5",
   "metadata": {},
   "outputs": [],
   "source": [
    "from sklearn.model_selection import cross_val_score\n",
    "from xgboost import XGBClassifier\n",
    "from hyperopt import STATUS_OK\n",
    "\n",
    "# fmin()에서 입력된 search_space 값으로 입력된 모든 값은 실수형임.\n",
    "# XGBClassifier의 정수형 하이퍼 파라미터는 정수형 변환을 해줘야 함.\n",
    "# 정확도는 높을수록 더 좋은 수치임. -1 * 정확도를 곱해서 큰 정확도 값일수록 최소가 되도록 변환\n",
    "def objective_func(search_space):\n",
    "    # 수행 시간 절약을 위해 nestimators는 100으로 축소\n",
    "    xgb_clf = XGBClassifier(n_estimators=100, max_depth=int(search_space['max_depth']),\n",
    "                            min_child_weight=int(search_space['min_child_weight']),\n",
    "                            learning_rate=search_space['learning_rate'],\n",
    "                            colsample_bytree=search_space['colsample_bytree'],\n",
    "                            eval_metric='logloss')\n",
    "    accuracy = cross_val_score(xgb_clf, X_train, y_train, scoring='accuracy', cv=3)\n",
    "    \n",
    "    # accuracy는 cv=3 개수만큼 roc-auc 결과를 리스트로 가짐. 이를 평균해서 반환하되 -1을 곱함.\n",
    "    return {'loss':-1 * np.mean(accuracy), 'status': STATUS_OK}"
   ]
  },
  {
   "cell_type": "code",
   "execution_count": 59,
   "id": "b48dee3f-3404-4b93-8f9e-4ef88d90cd87",
   "metadata": {},
   "outputs": [
    {
     "name": "stdout",
     "output_type": "stream",
     "text": [
      "100%|███████████████████████████████████████████████| 50/50 [00:05<00:00,  9.33trial/s, best loss: -0.9670616939700244]\n",
      "best: {'colsample_bytree': 0.5424149213362504, 'learning_rate': 0.12601372924444681, 'max_depth': 17.0, 'min_child_weight': 2.0}\n"
     ]
    }
   ],
   "source": [
    "from hyperopt import fmin, tpe, Trials\n",
    "\n",
    "trial_val = Trials()\n",
    "best = fmin(fn=objective_func,\n",
    "            space=xgb_search_space,\n",
    "            algo=tpe.suggest,\n",
    "            max_evals=50, # 최대 반복 횟수를 지정합니다.\n",
    "            trials=trial_val, rstate=np.random.default_rng(seed=9))\n",
    "print('best:', best)"
   ]
  },
  {
   "cell_type": "code",
   "execution_count": 60,
   "id": "f386c4f6-d8a9-443c-a1a2-e7c700f911f7",
   "metadata": {},
   "outputs": [
    {
     "name": "stdout",
     "output_type": "stream",
     "text": [
      "colsample_bytree:0.54241, learning_rate:0.12601, max_depth:17, min_child_weight:2\n"
     ]
    }
   ],
   "source": [
    "print('colsample_bytree:{0}, learning_rate:{1}, max_depth:{2}, min_child_weight:{3}'.format(\n",
    "    round(best['colsample_bytree'], 5), round(best['learning_rate'], 5),\n",
    "    int(best['max_depth']), int(best['min_child_weight'])))"
   ]
  },
  {
   "cell_type": "markdown",
   "id": "e690b628-b8b3-492e-aec9-1ceb8a1a3b76",
   "metadata": {},
   "source": [
    "##### 4교시 (자습)"
   ]
  },
  {
   "cell_type": "markdown",
   "id": "d01c5e7a-b367-4161-a61c-49a354fc4148",
   "metadata": {},
   "source": [
    "##### 5교시 267p"
   ]
  },
  {
   "cell_type": "code",
   "execution_count": 61,
   "id": "39c48060-1b09-4eb5-bd5d-27e7857ca3f3",
   "metadata": {},
   "outputs": [],
   "source": [
    "import os\n",
    "os.getcwd()\n",
    "os.chdir('C:\\\\Users\\\\admin\\kaggle')"
   ]
  },
  {
   "cell_type": "code",
   "execution_count": 63,
   "id": "94ca241a-3698-40cd-ada7-d1b031121798",
   "metadata": {},
   "outputs": [],
   "source": [
    "import matplotlib.pyplot as plt\n",
    "import warnings"
   ]
  },
  {
   "cell_type": "code",
   "execution_count": 65,
   "id": "7d558149-be12-4471-91a5-52d2fb498cfd",
   "metadata": {},
   "outputs": [
    {
     "name": "stdout",
     "output_type": "stream",
     "text": [
      "dataset shape: (76020, 371)\n"
     ]
    },
    {
     "data": {
      "text/html": [
       "<div>\n",
       "<style scoped>\n",
       "    .dataframe tbody tr th:only-of-type {\n",
       "        vertical-align: middle;\n",
       "    }\n",
       "\n",
       "    .dataframe tbody tr th {\n",
       "        vertical-align: top;\n",
       "    }\n",
       "\n",
       "    .dataframe thead th {\n",
       "        text-align: right;\n",
       "    }\n",
       "</style>\n",
       "<table border=\"1\" class=\"dataframe\">\n",
       "  <thead>\n",
       "    <tr style=\"text-align: right;\">\n",
       "      <th></th>\n",
       "      <th>ID</th>\n",
       "      <th>var3</th>\n",
       "      <th>var15</th>\n",
       "      <th>imp_ent_var16_ult1</th>\n",
       "      <th>imp_op_var39_comer_ult1</th>\n",
       "      <th>imp_op_var39_comer_ult3</th>\n",
       "      <th>imp_op_var40_comer_ult1</th>\n",
       "      <th>imp_op_var40_comer_ult3</th>\n",
       "      <th>imp_op_var40_efect_ult1</th>\n",
       "      <th>imp_op_var40_efect_ult3</th>\n",
       "      <th>...</th>\n",
       "      <th>saldo_medio_var33_hace2</th>\n",
       "      <th>saldo_medio_var33_hace3</th>\n",
       "      <th>saldo_medio_var33_ult1</th>\n",
       "      <th>saldo_medio_var33_ult3</th>\n",
       "      <th>saldo_medio_var44_hace2</th>\n",
       "      <th>saldo_medio_var44_hace3</th>\n",
       "      <th>saldo_medio_var44_ult1</th>\n",
       "      <th>saldo_medio_var44_ult3</th>\n",
       "      <th>var38</th>\n",
       "      <th>TARGET</th>\n",
       "    </tr>\n",
       "  </thead>\n",
       "  <tbody>\n",
       "    <tr>\n",
       "      <th>0</th>\n",
       "      <td>1</td>\n",
       "      <td>2</td>\n",
       "      <td>23</td>\n",
       "      <td>0.0</td>\n",
       "      <td>0.0</td>\n",
       "      <td>0.0</td>\n",
       "      <td>0.0</td>\n",
       "      <td>0.0</td>\n",
       "      <td>0.0</td>\n",
       "      <td>0.0</td>\n",
       "      <td>...</td>\n",
       "      <td>0.0</td>\n",
       "      <td>0.0</td>\n",
       "      <td>0.0</td>\n",
       "      <td>0.0</td>\n",
       "      <td>0.0</td>\n",
       "      <td>0.0</td>\n",
       "      <td>0.0</td>\n",
       "      <td>0.0</td>\n",
       "      <td>39205.17</td>\n",
       "      <td>0</td>\n",
       "    </tr>\n",
       "    <tr>\n",
       "      <th>1</th>\n",
       "      <td>3</td>\n",
       "      <td>2</td>\n",
       "      <td>34</td>\n",
       "      <td>0.0</td>\n",
       "      <td>0.0</td>\n",
       "      <td>0.0</td>\n",
       "      <td>0.0</td>\n",
       "      <td>0.0</td>\n",
       "      <td>0.0</td>\n",
       "      <td>0.0</td>\n",
       "      <td>...</td>\n",
       "      <td>0.0</td>\n",
       "      <td>0.0</td>\n",
       "      <td>0.0</td>\n",
       "      <td>0.0</td>\n",
       "      <td>0.0</td>\n",
       "      <td>0.0</td>\n",
       "      <td>0.0</td>\n",
       "      <td>0.0</td>\n",
       "      <td>49278.03</td>\n",
       "      <td>0</td>\n",
       "    </tr>\n",
       "    <tr>\n",
       "      <th>2</th>\n",
       "      <td>4</td>\n",
       "      <td>2</td>\n",
       "      <td>23</td>\n",
       "      <td>0.0</td>\n",
       "      <td>0.0</td>\n",
       "      <td>0.0</td>\n",
       "      <td>0.0</td>\n",
       "      <td>0.0</td>\n",
       "      <td>0.0</td>\n",
       "      <td>0.0</td>\n",
       "      <td>...</td>\n",
       "      <td>0.0</td>\n",
       "      <td>0.0</td>\n",
       "      <td>0.0</td>\n",
       "      <td>0.0</td>\n",
       "      <td>0.0</td>\n",
       "      <td>0.0</td>\n",
       "      <td>0.0</td>\n",
       "      <td>0.0</td>\n",
       "      <td>67333.77</td>\n",
       "      <td>0</td>\n",
       "    </tr>\n",
       "  </tbody>\n",
       "</table>\n",
       "<p>3 rows × 371 columns</p>\n",
       "</div>"
      ],
      "text/plain": [
       "   ID  var3  var15  imp_ent_var16_ult1  imp_op_var39_comer_ult1  \\\n",
       "0   1     2     23                 0.0                      0.0   \n",
       "1   3     2     34                 0.0                      0.0   \n",
       "2   4     2     23                 0.0                      0.0   \n",
       "\n",
       "   imp_op_var39_comer_ult3  imp_op_var40_comer_ult1  imp_op_var40_comer_ult3  \\\n",
       "0                      0.0                      0.0                      0.0   \n",
       "1                      0.0                      0.0                      0.0   \n",
       "2                      0.0                      0.0                      0.0   \n",
       "\n",
       "   imp_op_var40_efect_ult1  imp_op_var40_efect_ult3  ...  \\\n",
       "0                      0.0                      0.0  ...   \n",
       "1                      0.0                      0.0  ...   \n",
       "2                      0.0                      0.0  ...   \n",
       "\n",
       "   saldo_medio_var33_hace2  saldo_medio_var33_hace3  saldo_medio_var33_ult1  \\\n",
       "0                      0.0                      0.0                     0.0   \n",
       "1                      0.0                      0.0                     0.0   \n",
       "2                      0.0                      0.0                     0.0   \n",
       "\n",
       "   saldo_medio_var33_ult3  saldo_medio_var44_hace2  saldo_medio_var44_hace3  \\\n",
       "0                     0.0                      0.0                      0.0   \n",
       "1                     0.0                      0.0                      0.0   \n",
       "2                     0.0                      0.0                      0.0   \n",
       "\n",
       "   saldo_medio_var44_ult1  saldo_medio_var44_ult3     var38  TARGET  \n",
       "0                     0.0                     0.0  39205.17       0  \n",
       "1                     0.0                     0.0  49278.03       0  \n",
       "2                     0.0                     0.0  67333.77       0  \n",
       "\n",
       "[3 rows x 371 columns]"
      ]
     },
     "execution_count": 65,
     "metadata": {},
     "output_type": "execute_result"
    }
   ],
   "source": [
    "warnings.filterwarnings('ignore')\n",
    "cust_df = pd.read_csv('train.csv', encoding='latin-1')\n",
    "print('dataset shape:', cust_df.shape)\n",
    "cust_df.head(3)"
   ]
  },
  {
   "cell_type": "code",
   "execution_count": 66,
   "id": "abf8402e-543b-4583-90d0-9891412b9599",
   "metadata": {},
   "outputs": [
    {
     "name": "stdout",
     "output_type": "stream",
     "text": [
      "0    73012\n",
      "1     3008\n",
      "Name: TARGET, dtype: int64\n",
      "unsatisfied 비율은 0.04\n"
     ]
    }
   ],
   "source": [
    "print(cust_df['TARGET'].value_counts())\n",
    "unsatisfied_cnt = cust_df[cust_df['TARGET'] == 1].TARGET.count()\n",
    "total_cnt = cust_df.TARGET.count()\n",
    "print('unsatisfied 비율은 {0:.2f}'.format((unsatisfied_cnt / total_cnt)))"
   ]
  },
  {
   "cell_type": "code",
   "execution_count": 67,
   "id": "bf8cfab5-9f89-4bdc-8948-2e10de92454c",
   "metadata": {},
   "outputs": [
    {
     "data": {
      "text/plain": [
       " 2         74165\n",
       " 8           138\n",
       "-999999      116\n",
       " 9           110\n",
       " 3           108\n",
       "           ...  \n",
       " 231           1\n",
       " 188           1\n",
       " 168           1\n",
       " 135           1\n",
       " 87            1\n",
       "Name: var3, Length: 208, dtype: int64"
      ]
     },
     "execution_count": 67,
     "metadata": {},
     "output_type": "execute_result"
    }
   ],
   "source": [
    "cust_df['var3'].value_counts()"
   ]
  },
  {
   "cell_type": "code",
   "execution_count": 70,
   "id": "c4a9f799-47b6-4bff-afdc-fa070c46a8cb",
   "metadata": {},
   "outputs": [
    {
     "name": "stdout",
     "output_type": "stream",
     "text": [
      "피처 데이터 shape:(76020, 369)\n"
     ]
    }
   ],
   "source": [
    "# var3 피처 값 대체 및 ID 피처 드롭\n",
    "cust_df['var3'].replace(-999999, 2, inplace=True)\n",
    "cust_df.drop('ID', axis=1, inplace=True)\n",
    "\n",
    "# 피처 세트와 레이블 세트분리. 레이블 컬럼은 DataFrame의 맨 마지막에 위치해 컬럼 위치 -1로 분리\n",
    "X_features = cust_df.iloc[:, :-1]\n",
    "y_labels = cust_df.iloc[:, -1]\n",
    "print('피처 데이터 shape:{0}'.format(X_features.shape))"
   ]
  },
  {
   "cell_type": "code",
   "execution_count": 74,
   "id": "d07fd88d-6ca8-4274-9f4b-06ac25e1ab92",
   "metadata": {},
   "outputs": [
    {
     "name": "stdout",
     "output_type": "stream",
     "text": [
      "학습 세트 Shape:(60816, 369), 테스트 세트 Shape:(15204, 369)\n",
      " 학습 세트 레이블 값 분포 비율\n",
      "0    0.960964\n",
      "1    0.039036\n",
      "Name: TARGET, dtype: float64\n",
      "\n",
      " 테스트 세트 레이블 값 분포 비율\n",
      "0    0.9583\n",
      "1    0.0417\n",
      "Name: TARGET, dtype: float64\n"
     ]
    }
   ],
   "source": [
    "X_train, X_test, y_train, y_test = train_test_split(X_features, y_labels,\n",
    "                                                    test_size=0.2, random_state=0)\n",
    "train_cnt = y_train.count()\n",
    "test_cnt = y_test.count()\n",
    "print('학습 세트 Shape:{0}, 테스트 세트 Shape:{1}'.format(X_train.shape , X_test.shape))\n",
    "print(' 학습 세트 레이블 값 분포 비율')\n",
    "print(y_train.value_counts()/train_cnt)\n",
    "print('\\n 테스트 세트 레이블 값 분포 비율')\n",
    "print(y_test.value_counts()/test_cnt)"
   ]
  },
  {
   "cell_type": "code",
   "execution_count": 82,
   "id": "c844b597-3d94-4c4c-9d97-1f28ff71d302",
   "metadata": {
    "collapsed": true,
    "jupyter": {
     "outputs_hidden": true
    },
    "tags": []
   },
   "outputs": [
    {
     "name": "stdout",
     "output_type": "stream",
     "text": [
      "[0]\tvalidation_0-auc:0.82179\tvalidation_1-auc:0.80068\n",
      "[1]\tvalidation_0-auc:0.82347\tvalidation_1-auc:0.80523\n",
      "[2]\tvalidation_0-auc:0.83178\tvalidation_1-auc:0.81097\n",
      "[3]\tvalidation_0-auc:0.83401\tvalidation_1-auc:0.81091\n",
      "[4]\tvalidation_0-auc:0.83443\tvalidation_1-auc:0.81040\n",
      "[5]\tvalidation_0-auc:0.83570\tvalidation_1-auc:0.81089\n",
      "[6]\tvalidation_0-auc:0.83597\tvalidation_1-auc:0.81057\n",
      "[7]\tvalidation_0-auc:0.83643\tvalidation_1-auc:0.81082\n",
      "[8]\tvalidation_0-auc:0.83682\tvalidation_1-auc:0.81147\n",
      "[9]\tvalidation_0-auc:0.83769\tvalidation_1-auc:0.81188\n",
      "[10]\tvalidation_0-auc:0.83770\tvalidation_1-auc:0.81163\n",
      "[11]\tvalidation_0-auc:0.83911\tvalidation_1-auc:0.81355\n",
      "[12]\tvalidation_0-auc:0.83976\tvalidation_1-auc:0.81336\n",
      "[13]\tvalidation_0-auc:0.84038\tvalidation_1-auc:0.81365\n",
      "[14]\tvalidation_0-auc:0.84176\tvalidation_1-auc:0.81419\n",
      "[15]\tvalidation_0-auc:0.84306\tvalidation_1-auc:0.81586\n",
      "[16]\tvalidation_0-auc:0.84343\tvalidation_1-auc:0.81610\n",
      "[17]\tvalidation_0-auc:0.84373\tvalidation_1-auc:0.81584\n",
      "[18]\tvalidation_0-auc:0.84542\tvalidation_1-auc:0.81581\n",
      "[19]\tvalidation_0-auc:0.84580\tvalidation_1-auc:0.81622\n",
      "[20]\tvalidation_0-auc:0.84656\tvalidation_1-auc:0.81641\n",
      "[21]\tvalidation_0-auc:0.84732\tvalidation_1-auc:0.81740\n",
      "[22]\tvalidation_0-auc:0.84769\tvalidation_1-auc:0.81748\n",
      "[23]\tvalidation_0-auc:0.84833\tvalidation_1-auc:0.81744\n",
      "[24]\tvalidation_0-auc:0.84836\tvalidation_1-auc:0.81704\n",
      "[25]\tvalidation_0-auc:0.84892\tvalidation_1-auc:0.81650\n",
      "[26]\tvalidation_0-auc:0.85114\tvalidation_1-auc:0.81730\n",
      "[27]\tvalidation_0-auc:0.85293\tvalidation_1-auc:0.81843\n",
      "[28]\tvalidation_0-auc:0.85335\tvalidation_1-auc:0.81883\n",
      "[29]\tvalidation_0-auc:0.85441\tvalidation_1-auc:0.82072\n",
      "[30]\tvalidation_0-auc:0.85604\tvalidation_1-auc:0.82169\n",
      "[31]\tvalidation_0-auc:0.85755\tvalidation_1-auc:0.82256\n",
      "[32]\tvalidation_0-auc:0.85830\tvalidation_1-auc:0.82267\n",
      "[33]\tvalidation_0-auc:0.85895\tvalidation_1-auc:0.82321\n",
      "[34]\tvalidation_0-auc:0.85964\tvalidation_1-auc:0.82332\n",
      "[35]\tvalidation_0-auc:0.85988\tvalidation_1-auc:0.82408\n",
      "[36]\tvalidation_0-auc:0.86037\tvalidation_1-auc:0.82452\n",
      "[37]\tvalidation_0-auc:0.86075\tvalidation_1-auc:0.82466\n",
      "[38]\tvalidation_0-auc:0.86171\tvalidation_1-auc:0.82554\n",
      "[39]\tvalidation_0-auc:0.86241\tvalidation_1-auc:0.82582\n",
      "[40]\tvalidation_0-auc:0.86277\tvalidation_1-auc:0.82590\n",
      "[41]\tvalidation_0-auc:0.86347\tvalidation_1-auc:0.82628\n",
      "[42]\tvalidation_0-auc:0.86401\tvalidation_1-auc:0.82668\n",
      "[43]\tvalidation_0-auc:0.86473\tvalidation_1-auc:0.82686\n",
      "[44]\tvalidation_0-auc:0.86523\tvalidation_1-auc:0.82692\n",
      "[45]\tvalidation_0-auc:0.86622\tvalidation_1-auc:0.82774\n",
      "[46]\tvalidation_0-auc:0.86721\tvalidation_1-auc:0.82834\n",
      "[47]\tvalidation_0-auc:0.86776\tvalidation_1-auc:0.82831\n",
      "[48]\tvalidation_0-auc:0.86837\tvalidation_1-auc:0.82909\n",
      "[49]\tvalidation_0-auc:0.86916\tvalidation_1-auc:0.82997\n",
      "[50]\tvalidation_0-auc:0.86939\tvalidation_1-auc:0.82984\n",
      "[51]\tvalidation_0-auc:0.87005\tvalidation_1-auc:0.83006\n",
      "[52]\tvalidation_0-auc:0.87057\tvalidation_1-auc:0.83039\n",
      "[53]\tvalidation_0-auc:0.87088\tvalidation_1-auc:0.83066\n",
      "[54]\tvalidation_0-auc:0.87145\tvalidation_1-auc:0.83105\n"
     ]
    },
    {
     "ename": "KeyboardInterrupt",
     "evalue": "",
     "output_type": "error",
     "traceback": [
      "\u001b[1;31m---------------------------------------------------------------------------\u001b[0m",
      "\u001b[1;31mKeyboardInterrupt\u001b[0m                         Traceback (most recent call last)",
      "Cell \u001b[1;32mIn[82], line 13\u001b[0m\n\u001b[0;32m     10\u001b[0m xgb_clf \u001b[38;5;241m=\u001b[39m XGBClassifier(n_estimators\u001b[38;5;241m=\u001b[39m\u001b[38;5;241m500\u001b[39m, learning_rate\u001b[38;5;241m=\u001b[39m\u001b[38;5;241m0.05\u001b[39m, random_state\u001b[38;5;241m=\u001b[39m\u001b[38;5;241m156\u001b[39m)\n\u001b[0;32m     12\u001b[0m \u001b[38;5;66;03m# 성능 평가 지표를 auc로, 조기 중단 파라미터는 100으로 설정하고 학습 수행. \u001b[39;00m\n\u001b[1;32m---> 13\u001b[0m \u001b[43mxgb_clf\u001b[49m\u001b[38;5;241;43m.\u001b[39;49m\u001b[43mfit\u001b[49m\u001b[43m(\u001b[49m\u001b[43mX_tr\u001b[49m\u001b[43m,\u001b[49m\u001b[43m \u001b[49m\u001b[43my_tr\u001b[49m\u001b[43m,\u001b[49m\u001b[43m \u001b[49m\u001b[43mearly_stopping_rounds\u001b[49m\u001b[38;5;241;43m=\u001b[39;49m\u001b[38;5;241;43m100\u001b[39;49m\u001b[43m,\u001b[49m\u001b[43m \u001b[49m\u001b[43meval_metric\u001b[49m\u001b[38;5;241;43m=\u001b[39;49m\u001b[38;5;124;43m'\u001b[39;49m\u001b[38;5;124;43mauc\u001b[39;49m\u001b[38;5;124;43m'\u001b[39;49m\u001b[43m,\u001b[49m\u001b[43m \u001b[49m\u001b[43meval_set\u001b[49m\u001b[38;5;241;43m=\u001b[39;49m\u001b[43m[\u001b[49m\u001b[43m(\u001b[49m\u001b[43mX_tr\u001b[49m\u001b[43m,\u001b[49m\u001b[43m \u001b[49m\u001b[43my_tr\u001b[49m\u001b[43m)\u001b[49m\u001b[43m,\u001b[49m\u001b[43m \u001b[49m\u001b[43m(\u001b[49m\u001b[43mX_val\u001b[49m\u001b[43m,\u001b[49m\u001b[43m \u001b[49m\u001b[43my_val\u001b[49m\u001b[43m)\u001b[49m\u001b[43m]\u001b[49m\u001b[43m)\u001b[49m\n\u001b[0;32m     15\u001b[0m xgb_roc_score \u001b[38;5;241m=\u001b[39m roc_auc_score(y_test, xgb_clf\u001b[38;5;241m.\u001b[39mpredict_proba(X_test)[:, \u001b[38;5;241m1\u001b[39m])\n\u001b[0;32m     16\u001b[0m \u001b[38;5;28mprint\u001b[39m(\u001b[38;5;124m'\u001b[39m\u001b[38;5;124mROC AUC: \u001b[39m\u001b[38;5;132;01m{0:.4f}\u001b[39;00m\u001b[38;5;124m'\u001b[39m\u001b[38;5;241m.\u001b[39mformat(xgb_roc_score))\n",
      "File \u001b[1;32m~\\anaconda3\\lib\\site-packages\\xgboost\\core.py:620\u001b[0m, in \u001b[0;36mrequire_keyword_args.<locals>.throw_if.<locals>.inner_f\u001b[1;34m(*args, **kwargs)\u001b[0m\n\u001b[0;32m    618\u001b[0m \u001b[38;5;28;01mfor\u001b[39;00m k, arg \u001b[38;5;129;01min\u001b[39;00m \u001b[38;5;28mzip\u001b[39m(sig\u001b[38;5;241m.\u001b[39mparameters, args):\n\u001b[0;32m    619\u001b[0m     kwargs[k] \u001b[38;5;241m=\u001b[39m arg\n\u001b[1;32m--> 620\u001b[0m \u001b[38;5;28;01mreturn\u001b[39;00m func(\u001b[38;5;241m*\u001b[39m\u001b[38;5;241m*\u001b[39mkwargs)\n",
      "File \u001b[1;32m~\\anaconda3\\lib\\site-packages\\xgboost\\sklearn.py:1490\u001b[0m, in \u001b[0;36mXGBClassifier.fit\u001b[1;34m(self, X, y, sample_weight, base_margin, eval_set, eval_metric, early_stopping_rounds, verbose, xgb_model, sample_weight_eval_set, base_margin_eval_set, feature_weights, callbacks)\u001b[0m\n\u001b[0;32m   1462\u001b[0m (\n\u001b[0;32m   1463\u001b[0m     model,\n\u001b[0;32m   1464\u001b[0m     metric,\n\u001b[1;32m   (...)\u001b[0m\n\u001b[0;32m   1469\u001b[0m     xgb_model, eval_metric, params, early_stopping_rounds, callbacks\n\u001b[0;32m   1470\u001b[0m )\n\u001b[0;32m   1471\u001b[0m train_dmatrix, evals \u001b[38;5;241m=\u001b[39m _wrap_evaluation_matrices(\n\u001b[0;32m   1472\u001b[0m     missing\u001b[38;5;241m=\u001b[39m\u001b[38;5;28mself\u001b[39m\u001b[38;5;241m.\u001b[39mmissing,\n\u001b[0;32m   1473\u001b[0m     X\u001b[38;5;241m=\u001b[39mX,\n\u001b[1;32m   (...)\u001b[0m\n\u001b[0;32m   1487\u001b[0m     feature_types\u001b[38;5;241m=\u001b[39m\u001b[38;5;28mself\u001b[39m\u001b[38;5;241m.\u001b[39mfeature_types,\n\u001b[0;32m   1488\u001b[0m )\n\u001b[1;32m-> 1490\u001b[0m \u001b[38;5;28mself\u001b[39m\u001b[38;5;241m.\u001b[39m_Booster \u001b[38;5;241m=\u001b[39m \u001b[43mtrain\u001b[49m\u001b[43m(\u001b[49m\n\u001b[0;32m   1491\u001b[0m \u001b[43m    \u001b[49m\u001b[43mparams\u001b[49m\u001b[43m,\u001b[49m\n\u001b[0;32m   1492\u001b[0m \u001b[43m    \u001b[49m\u001b[43mtrain_dmatrix\u001b[49m\u001b[43m,\u001b[49m\n\u001b[0;32m   1493\u001b[0m \u001b[43m    \u001b[49m\u001b[38;5;28;43mself\u001b[39;49m\u001b[38;5;241;43m.\u001b[39;49m\u001b[43mget_num_boosting_rounds\u001b[49m\u001b[43m(\u001b[49m\u001b[43m)\u001b[49m\u001b[43m,\u001b[49m\n\u001b[0;32m   1494\u001b[0m \u001b[43m    \u001b[49m\u001b[43mevals\u001b[49m\u001b[38;5;241;43m=\u001b[39;49m\u001b[43mevals\u001b[49m\u001b[43m,\u001b[49m\n\u001b[0;32m   1495\u001b[0m \u001b[43m    \u001b[49m\u001b[43mearly_stopping_rounds\u001b[49m\u001b[38;5;241;43m=\u001b[39;49m\u001b[43mearly_stopping_rounds\u001b[49m\u001b[43m,\u001b[49m\n\u001b[0;32m   1496\u001b[0m \u001b[43m    \u001b[49m\u001b[43mevals_result\u001b[49m\u001b[38;5;241;43m=\u001b[39;49m\u001b[43mevals_result\u001b[49m\u001b[43m,\u001b[49m\n\u001b[0;32m   1497\u001b[0m \u001b[43m    \u001b[49m\u001b[43mobj\u001b[49m\u001b[38;5;241;43m=\u001b[39;49m\u001b[43mobj\u001b[49m\u001b[43m,\u001b[49m\n\u001b[0;32m   1498\u001b[0m \u001b[43m    \u001b[49m\u001b[43mcustom_metric\u001b[49m\u001b[38;5;241;43m=\u001b[39;49m\u001b[43mmetric\u001b[49m\u001b[43m,\u001b[49m\n\u001b[0;32m   1499\u001b[0m \u001b[43m    \u001b[49m\u001b[43mverbose_eval\u001b[49m\u001b[38;5;241;43m=\u001b[39;49m\u001b[43mverbose\u001b[49m\u001b[43m,\u001b[49m\n\u001b[0;32m   1500\u001b[0m \u001b[43m    \u001b[49m\u001b[43mxgb_model\u001b[49m\u001b[38;5;241;43m=\u001b[39;49m\u001b[43mmodel\u001b[49m\u001b[43m,\u001b[49m\n\u001b[0;32m   1501\u001b[0m \u001b[43m    \u001b[49m\u001b[43mcallbacks\u001b[49m\u001b[38;5;241;43m=\u001b[39;49m\u001b[43mcallbacks\u001b[49m\u001b[43m,\u001b[49m\n\u001b[0;32m   1502\u001b[0m \u001b[43m\u001b[49m\u001b[43m)\u001b[49m\n\u001b[0;32m   1504\u001b[0m \u001b[38;5;28;01mif\u001b[39;00m \u001b[38;5;129;01mnot\u001b[39;00m callable(\u001b[38;5;28mself\u001b[39m\u001b[38;5;241m.\u001b[39mobjective):\n\u001b[0;32m   1505\u001b[0m     \u001b[38;5;28mself\u001b[39m\u001b[38;5;241m.\u001b[39mobjective \u001b[38;5;241m=\u001b[39m params[\u001b[38;5;124m\"\u001b[39m\u001b[38;5;124mobjective\u001b[39m\u001b[38;5;124m\"\u001b[39m]\n",
      "File \u001b[1;32m~\\anaconda3\\lib\\site-packages\\xgboost\\core.py:620\u001b[0m, in \u001b[0;36mrequire_keyword_args.<locals>.throw_if.<locals>.inner_f\u001b[1;34m(*args, **kwargs)\u001b[0m\n\u001b[0;32m    618\u001b[0m \u001b[38;5;28;01mfor\u001b[39;00m k, arg \u001b[38;5;129;01min\u001b[39;00m \u001b[38;5;28mzip\u001b[39m(sig\u001b[38;5;241m.\u001b[39mparameters, args):\n\u001b[0;32m    619\u001b[0m     kwargs[k] \u001b[38;5;241m=\u001b[39m arg\n\u001b[1;32m--> 620\u001b[0m \u001b[38;5;28;01mreturn\u001b[39;00m func(\u001b[38;5;241m*\u001b[39m\u001b[38;5;241m*\u001b[39mkwargs)\n",
      "File \u001b[1;32m~\\anaconda3\\lib\\site-packages\\xgboost\\training.py:185\u001b[0m, in \u001b[0;36mtrain\u001b[1;34m(params, dtrain, num_boost_round, evals, obj, feval, maximize, early_stopping_rounds, evals_result, verbose_eval, xgb_model, callbacks, custom_metric)\u001b[0m\n\u001b[0;32m    183\u001b[0m \u001b[38;5;28;01mif\u001b[39;00m cb_container\u001b[38;5;241m.\u001b[39mbefore_iteration(bst, i, dtrain, evals):\n\u001b[0;32m    184\u001b[0m     \u001b[38;5;28;01mbreak\u001b[39;00m\n\u001b[1;32m--> 185\u001b[0m \u001b[43mbst\u001b[49m\u001b[38;5;241;43m.\u001b[39;49m\u001b[43mupdate\u001b[49m\u001b[43m(\u001b[49m\u001b[43mdtrain\u001b[49m\u001b[43m,\u001b[49m\u001b[43m \u001b[49m\u001b[43mi\u001b[49m\u001b[43m,\u001b[49m\u001b[43m \u001b[49m\u001b[43mobj\u001b[49m\u001b[43m)\u001b[49m\n\u001b[0;32m    186\u001b[0m \u001b[38;5;28;01mif\u001b[39;00m cb_container\u001b[38;5;241m.\u001b[39mafter_iteration(bst, i, dtrain, evals):\n\u001b[0;32m    187\u001b[0m     \u001b[38;5;28;01mbreak\u001b[39;00m\n",
      "File \u001b[1;32m~\\anaconda3\\lib\\site-packages\\xgboost\\core.py:1918\u001b[0m, in \u001b[0;36mBooster.update\u001b[1;34m(self, dtrain, iteration, fobj)\u001b[0m\n\u001b[0;32m   1915\u001b[0m \u001b[38;5;28mself\u001b[39m\u001b[38;5;241m.\u001b[39m_validate_dmatrix_features(dtrain)\n\u001b[0;32m   1917\u001b[0m \u001b[38;5;28;01mif\u001b[39;00m fobj \u001b[38;5;129;01mis\u001b[39;00m \u001b[38;5;28;01mNone\u001b[39;00m:\n\u001b[1;32m-> 1918\u001b[0m     _check_call(\u001b[43m_LIB\u001b[49m\u001b[38;5;241;43m.\u001b[39;49m\u001b[43mXGBoosterUpdateOneIter\u001b[49m\u001b[43m(\u001b[49m\u001b[38;5;28;43mself\u001b[39;49m\u001b[38;5;241;43m.\u001b[39;49m\u001b[43mhandle\u001b[49m\u001b[43m,\u001b[49m\n\u001b[0;32m   1919\u001b[0m \u001b[43m                                            \u001b[49m\u001b[43mctypes\u001b[49m\u001b[38;5;241;43m.\u001b[39;49m\u001b[43mc_int\u001b[49m\u001b[43m(\u001b[49m\u001b[43miteration\u001b[49m\u001b[43m)\u001b[49m\u001b[43m,\u001b[49m\n\u001b[0;32m   1920\u001b[0m \u001b[43m                                            \u001b[49m\u001b[43mdtrain\u001b[49m\u001b[38;5;241;43m.\u001b[39;49m\u001b[43mhandle\u001b[49m\u001b[43m)\u001b[49m)\n\u001b[0;32m   1921\u001b[0m \u001b[38;5;28;01melse\u001b[39;00m:\n\u001b[0;32m   1922\u001b[0m     pred \u001b[38;5;241m=\u001b[39m \u001b[38;5;28mself\u001b[39m\u001b[38;5;241m.\u001b[39mpredict(dtrain, output_margin\u001b[38;5;241m=\u001b[39m\u001b[38;5;28;01mTrue\u001b[39;00m, training\u001b[38;5;241m=\u001b[39m\u001b[38;5;28;01mTrue\u001b[39;00m)\n",
      "\u001b[1;31mKeyboardInterrupt\u001b[0m: "
     ]
    }
   ],
   "source": [
    "# X_train, y_train을 다시 학습과 검증 데이터 세트로 분리. \n",
    "X_tr, X_val, y_tr, y_val = train_test_split(X_train, y_train,\n",
    "                                                    test_size=0.3, random_state=0)\n",
    "\n",
    "\n",
    "from xgboost import XGBClassifier\n",
    "from sklearn.metrics import roc_auc_score\n",
    "\n",
    "# n_estimators는 500으로, learning_rate 0.05, random state는 예제 수행 시마다 동일 예측 결과를 위해 설정. \n",
    "xgb_clf = XGBClassifier(n_estimators=500, learning_rate=0.05, random_state=156)\n",
    "\n",
    "# 성능 평가 지표를 auc로, 조기 중단 파라미터는 100으로 설정하고 학습 수행. \n",
    "xgb_clf.fit(X_tr, y_tr, early_stopping_rounds=100, eval_metric='auc', eval_set=[(X_tr, y_tr), (X_val, y_val)])\n",
    "\n",
    "xgb_roc_score = roc_auc_score(y_test, xgb_clf.predict_proba(X_test)[:, 1])\n",
    "print('ROC AUC: {0:.4f}'.format(xgb_roc_score))\n",
    "\n",
    "from hyperopt import hp\n",
    "\n",
    "# max_depth는 5에서 15까지 1간격으로, min_child_weight는 1에서 6까지 1간격으로\n",
    "# colsample_bytree는 0.5에서 0.95사이, learning_rate는 0.01에서 0.2사이 정규 분포된 값으로 검색. \n",
    "\n",
    "xgb_search_space = {'max_depth': hp.quniform('max_depth', 5, 15, 1), \n",
    "                    'min_child_weight': hp.quniform('min_child_weight', 1, 6, 1),\n",
    "                    'colsample_bytree': hp.uniform('colsample_bytree', 0.5, 0.95),\n",
    "                    'learning_rate': hp.uniform('learning_rate', 0.01, 0.2)\n",
    "}\n",
    "\n",
    "from sklearn.model_selection import KFold\n",
    "from sklearn.metrics import roc_auc_score\n",
    "\n",
    "# 목적 함수 설정. \n",
    "# 추후 fmin()에서 입력된 search_space값으로 XGBClassifier 교차 검증 학습 후 -1* roc_auc 평균 값을 반환.  \n",
    "def objective_func(search_space):\n",
    "    xgb_clf = XGBClassifier(n_estimators=100, max_depth=int(search_space['max_depth'])\n",
    "                           , min_child_weight=int(search_space['min_child_weight'])\n",
    "                            , colsample_bytree=search_space['colsample_bytree']\n",
    "                            , learning_rate=search_space['learning_rate']\n",
    "                           )\n",
    "    \n",
    "    # 3개 k-fold 방식으로 평가된 roc_auc 지표를 담는 list\n",
    "    roc_auc_list= []\n",
    "    \n",
    "    # 3개 k-fold방식 적용 \n",
    "    kf = KFold(n_splits=3)\n",
    "    # X_train을 다시 학습과 검증용 데이터로 분리\n",
    "    for tr_index, val_index in kf.split(X_train):\n",
    "        # kf.split(X_train)으로 추출된 학습과 검증 index값으로 학습과 검증 데이터 세트 분리 \n",
    "        X_tr, y_tr = X_train.iloc[tr_index], y_train.iloc[tr_index]\n",
    "        X_val, y_val = X_train.iloc[val_index], y_train.iloc[val_index]\n",
    "        # early stopping은 30회로 설정하고 추출된 학습과 검증 데이터로 XGBClassifier 학습 수행.\n",
    "        xgb_clf.fit(X_tr, y_tr, early_stopping_rounds=30, eval_metric='auc'\n",
    "                   , eval_set=[(X_tr, y_tr), (X_val, y_val)])\n",
    "    \n",
    "        # 1로 예측한 확률값 추출후 roc auc 계산하고 평균 roc auc 계산을 위해 list에 결과값 담음. \n",
    "        score = roc_auc_score(y_val, xgb_clf.predict_proba(X_val)[:, 1])\n",
    "        roc_auc_list.append(score)\n",
    "    \n",
    "    # 3개 k-fold로 계산된 roc_auc값의 평균값을 반환하되, \n",
    "    # HyperOpt는 목적함수의 최소값을 위한 입력값을 찾으므로 -1을 곱한 뒤 반환. \n",
    "    return -1 * np.mean(roc_auc_list)\n",
    "\n",
    "from hyperopt import fmin, tpe, Trials\n",
    "\n",
    "trials = Trials()\n",
    "\n",
    "# fmin()함수를 호출. max_evals지정된 횟수만큼 반복 후 목적함수의 최소값을 가지는 최적 입력값 추출.\n",
    "best = fmin(fn=objective_func,\n",
    "            space=xgb_search_space,\n",
    "            algo=tpe.suggest,\n",
    "            max_evals=50, # 최대 반복 횟수를 지정합니다.\n",
    "            trials=trials, rstate=np.random.default_rng(seed=30))\n",
    "\n",
    "print('best:', best)\n",
    "\n",
    "# n_estimators를 500증가 후 최적으로 찾은 하이퍼 파라미터를 기반으로 학습과 예측 수행.\n",
    "xgb_clf = XGBClassifier(n_estimators=500, learning_rate=round(best['learning_rate'], 5),\n",
    "                        max_depth=int(best['max_depth']), min_child_weight=int(best['min_child_weight']), \n",
    "                        colsample_bytree=round(best['colsample_bytree'], 5)   \n",
    "                       )\n",
    "\n",
    "# evaluation metric을 auc로, early stopping은 100 으로 설정하고 학습 수행. \n",
    "xgb_clf.fit(X_tr, y_tr, early_stopping_rounds=100, \n",
    "            eval_metric=\"auc\",eval_set=[(X_tr, y_tr), (X_val, y_val)])\n",
    "\n",
    "xgb_roc_score = roc_auc_score(y_test, xgb_clf.predict_proba(X_test)[:,1])\n",
    "print('ROC AUC: {0:.4f}'.format(xgb_roc_score))\n",
    "\n",
    "from xgboost import plot_importance\n",
    "import matplotlib.pyplot as plt\n",
    "%matplotlib inline\n",
    "\n",
    "fig, ax = plt.subplots(1,1,figsize=(10,8))\n",
    "plot_importance(xgb_clf, ax=ax , max_num_features=20,height=0.4) "
   ]
  },
  {
   "cell_type": "markdown",
   "id": "ad39e58b-4116-4de6-b3cc-28d90b874404",
   "metadata": {},
   "source": [
    "##### 6교시 276p"
   ]
  },
  {
   "cell_type": "code",
   "execution_count": null,
   "id": "13b751fd-61a6-40a3-b239-73fa5588af01",
   "metadata": {},
   "outputs": [],
   "source": [
    "LightGBM 모델 학습과 하이퍼 파라미터 튜닝"
   ]
  },
  {
   "cell_type": "code",
   "execution_count": 84,
   "id": "1ee2ca17-b28b-40aa-b714-a27720ad2fe7",
   "metadata": {
    "collapsed": true,
    "jupyter": {
     "outputs_hidden": true
    },
    "tags": []
   },
   "outputs": [
    {
     "name": "stdout",
     "output_type": "stream",
     "text": [
      "[1]\ttraining's auc: 0.82625\ttraining's binary_logloss: 0.15523\tvalid_1's auc: 0.809814\tvalid_1's binary_logloss: 0.15774\n",
      "[2]\ttraining's auc: 0.833899\ttraining's binary_logloss: 0.149581\tvalid_1's auc: 0.81222\tvalid_1's binary_logloss: 0.153275\n",
      "[3]\ttraining's auc: 0.841789\ttraining's binary_logloss: 0.145416\tvalid_1's auc: 0.814833\tvalid_1's binary_logloss: 0.149999\n",
      "[4]\ttraining's auc: 0.847243\ttraining's binary_logloss: 0.14212\tvalid_1's auc: 0.819406\tvalid_1's binary_logloss: 0.147524\n",
      "[5]\ttraining's auc: 0.849589\ttraining's binary_logloss: 0.139438\tvalid_1's auc: 0.821869\tvalid_1's binary_logloss: 0.145464\n",
      "[6]\ttraining's auc: 0.853413\ttraining's binary_logloss: 0.137254\tvalid_1's auc: 0.820878\tvalid_1's binary_logloss: 0.143973\n",
      "[7]\ttraining's auc: 0.85551\ttraining's binary_logloss: 0.1354\tvalid_1's auc: 0.821815\tvalid_1's binary_logloss: 0.142746\n",
      "[8]\ttraining's auc: 0.858698\ttraining's binary_logloss: 0.133561\tvalid_1's auc: 0.823733\tvalid_1's binary_logloss: 0.141592\n",
      "[9]\ttraining's auc: 0.862123\ttraining's binary_logloss: 0.132058\tvalid_1's auc: 0.825821\tvalid_1's binary_logloss: 0.140633\n",
      "[10]\ttraining's auc: 0.865345\ttraining's binary_logloss: 0.13065\tvalid_1's auc: 0.826285\tvalid_1's binary_logloss: 0.139756\n",
      "[11]\ttraining's auc: 0.867407\ttraining's binary_logloss: 0.129493\tvalid_1's auc: 0.827562\tvalid_1's binary_logloss: 0.139069\n",
      "[12]\ttraining's auc: 0.870828\ttraining's binary_logloss: 0.128398\tvalid_1's auc: 0.827436\tvalid_1's binary_logloss: 0.138559\n",
      "[13]\ttraining's auc: 0.872805\ttraining's binary_logloss: 0.127345\tvalid_1's auc: 0.827656\tvalid_1's binary_logloss: 0.138135\n",
      "[14]\ttraining's auc: 0.875007\ttraining's binary_logloss: 0.126347\tvalid_1's auc: 0.826473\tvalid_1's binary_logloss: 0.137872\n",
      "[15]\ttraining's auc: 0.876836\ttraining's binary_logloss: 0.125429\tvalid_1's auc: 0.826904\tvalid_1's binary_logloss: 0.137519\n",
      "[16]\ttraining's auc: 0.878431\ttraining's binary_logloss: 0.124582\tvalid_1's auc: 0.827524\tvalid_1's binary_logloss: 0.137125\n",
      "[17]\ttraining's auc: 0.879993\ttraining's binary_logloss: 0.123838\tvalid_1's auc: 0.827988\tvalid_1's binary_logloss: 0.136944\n",
      "[18]\ttraining's auc: 0.881612\ttraining's binary_logloss: 0.123118\tvalid_1's auc: 0.829045\tvalid_1's binary_logloss: 0.136749\n",
      "[19]\ttraining's auc: 0.883197\ttraining's binary_logloss: 0.122465\tvalid_1's auc: 0.829311\tvalid_1's binary_logloss: 0.13649\n",
      "[20]\ttraining's auc: 0.884776\ttraining's binary_logloss: 0.121777\tvalid_1's auc: 0.829603\tvalid_1's binary_logloss: 0.136324\n",
      "[21]\ttraining's auc: 0.886842\ttraining's binary_logloss: 0.12111\tvalid_1's auc: 0.829426\tvalid_1's binary_logloss: 0.13621\n",
      "[22]\ttraining's auc: 0.888858\ttraining's binary_logloss: 0.120435\tvalid_1's auc: 0.829605\tvalid_1's binary_logloss: 0.136091\n",
      "[23]\ttraining's auc: 0.889621\ttraining's binary_logloss: 0.119871\tvalid_1's auc: 0.829652\tvalid_1's binary_logloss: 0.135971\n",
      "[24]\ttraining's auc: 0.890866\ttraining's binary_logloss: 0.11938\tvalid_1's auc: 0.829961\tvalid_1's binary_logloss: 0.135886\n",
      "[25]\ttraining's auc: 0.892624\ttraining's binary_logloss: 0.118821\tvalid_1's auc: 0.829862\tvalid_1's binary_logloss: 0.135802\n",
      "[26]\ttraining's auc: 0.894525\ttraining's binary_logloss: 0.118295\tvalid_1's auc: 0.830409\tvalid_1's binary_logloss: 0.13569\n",
      "[27]\ttraining's auc: 0.895856\ttraining's binary_logloss: 0.117824\tvalid_1's auc: 0.83041\tvalid_1's binary_logloss: 0.135642\n",
      "[28]\ttraining's auc: 0.896735\ttraining's binary_logloss: 0.117415\tvalid_1's auc: 0.830191\tvalid_1's binary_logloss: 0.135613\n",
      "[29]\ttraining's auc: 0.89905\ttraining's binary_logloss: 0.116933\tvalid_1's auc: 0.830669\tvalid_1's binary_logloss: 0.135554\n",
      "[30]\ttraining's auc: 0.899896\ttraining's binary_logloss: 0.116506\tvalid_1's auc: 0.83085\tvalid_1's binary_logloss: 0.135507\n",
      "[31]\ttraining's auc: 0.901114\ttraining's binary_logloss: 0.116122\tvalid_1's auc: 0.831318\tvalid_1's binary_logloss: 0.135419\n",
      "[32]\ttraining's auc: 0.902376\ttraining's binary_logloss: 0.115678\tvalid_1's auc: 0.830736\tvalid_1's binary_logloss: 0.135495\n",
      "[33]\ttraining's auc: 0.903176\ttraining's binary_logloss: 0.115337\tvalid_1's auc: 0.831341\tvalid_1's binary_logloss: 0.135413\n",
      "[34]\ttraining's auc: 0.903928\ttraining's binary_logloss: 0.114946\tvalid_1's auc: 0.831809\tvalid_1's binary_logloss: 0.135345\n",
      "[35]\ttraining's auc: 0.904656\ttraining's binary_logloss: 0.114561\tvalid_1's auc: 0.831758\tvalid_1's binary_logloss: 0.135381\n",
      "[36]\ttraining's auc: 0.90615\ttraining's binary_logloss: 0.114188\tvalid_1's auc: 0.831443\tvalid_1's binary_logloss: 0.135392\n",
      "[37]\ttraining's auc: 0.90717\ttraining's binary_logloss: 0.113837\tvalid_1's auc: 0.831706\tvalid_1's binary_logloss: 0.135348\n",
      "[38]\ttraining's auc: 0.908184\ttraining's binary_logloss: 0.113468\tvalid_1's auc: 0.831723\tvalid_1's binary_logloss: 0.135329\n",
      "[39]\ttraining's auc: 0.909007\ttraining's binary_logloss: 0.11311\tvalid_1's auc: 0.831518\tvalid_1's binary_logloss: 0.135355\n",
      "[40]\ttraining's auc: 0.909525\ttraining's binary_logloss: 0.112795\tvalid_1's auc: 0.831749\tvalid_1's binary_logloss: 0.135283\n",
      "[41]\ttraining's auc: 0.910173\ttraining's binary_logloss: 0.112442\tvalid_1's auc: 0.831852\tvalid_1's binary_logloss: 0.135272\n",
      "[42]\ttraining's auc: 0.91059\ttraining's binary_logloss: 0.112183\tvalid_1's auc: 0.831787\tvalid_1's binary_logloss: 0.13527\n",
      "[43]\ttraining's auc: 0.911363\ttraining's binary_logloss: 0.111896\tvalid_1's auc: 0.831339\tvalid_1's binary_logloss: 0.135351\n",
      "[44]\ttraining's auc: 0.912024\ttraining's binary_logloss: 0.111629\tvalid_1's auc: 0.831414\tvalid_1's binary_logloss: 0.135352\n",
      "[45]\ttraining's auc: 0.912839\ttraining's binary_logloss: 0.111221\tvalid_1's auc: 0.831259\tvalid_1's binary_logloss: 0.135367\n",
      "[46]\ttraining's auc: 0.913498\ttraining's binary_logloss: 0.110928\tvalid_1's auc: 0.831154\tvalid_1's binary_logloss: 0.135389\n",
      "[47]\ttraining's auc: 0.913892\ttraining's binary_logloss: 0.11066\tvalid_1's auc: 0.831192\tvalid_1's binary_logloss: 0.135392\n",
      "[48]\ttraining's auc: 0.915067\ttraining's binary_logloss: 0.110329\tvalid_1's auc: 0.831606\tvalid_1's binary_logloss: 0.135323\n",
      "[49]\ttraining's auc: 0.915826\ttraining's binary_logloss: 0.11\tvalid_1's auc: 0.831638\tvalid_1's binary_logloss: 0.135365\n",
      "[50]\ttraining's auc: 0.916562\ttraining's binary_logloss: 0.109711\tvalid_1's auc: 0.831734\tvalid_1's binary_logloss: 0.13536\n",
      "[51]\ttraining's auc: 0.917206\ttraining's binary_logloss: 0.109469\tvalid_1's auc: 0.831617\tvalid_1's binary_logloss: 0.135393\n",
      "[52]\ttraining's auc: 0.917536\ttraining's binary_logloss: 0.109235\tvalid_1's auc: 0.831257\tvalid_1's binary_logloss: 0.135442\n",
      "[53]\ttraining's auc: 0.917907\ttraining's binary_logloss: 0.108987\tvalid_1's auc: 0.831382\tvalid_1's binary_logloss: 0.135437\n",
      "[54]\ttraining's auc: 0.918284\ttraining's binary_logloss: 0.108769\tvalid_1's auc: 0.831495\tvalid_1's binary_logloss: 0.135434\n",
      "[55]\ttraining's auc: 0.918573\ttraining's binary_logloss: 0.108589\tvalid_1's auc: 0.831495\tvalid_1's binary_logloss: 0.135415\n",
      "[56]\ttraining's auc: 0.918935\ttraining's binary_logloss: 0.108409\tvalid_1's auc: 0.831518\tvalid_1's binary_logloss: 0.135406\n",
      "[57]\ttraining's auc: 0.919173\ttraining's binary_logloss: 0.10824\tvalid_1's auc: 0.831656\tvalid_1's binary_logloss: 0.135386\n",
      "[58]\ttraining's auc: 0.919779\ttraining's binary_logloss: 0.108043\tvalid_1's auc: 0.831551\tvalid_1's binary_logloss: 0.135417\n",
      "[59]\ttraining's auc: 0.920357\ttraining's binary_logloss: 0.107751\tvalid_1's auc: 0.8317\tvalid_1's binary_logloss: 0.135425\n",
      "[60]\ttraining's auc: 0.92059\ttraining's binary_logloss: 0.107571\tvalid_1's auc: 0.8319\tvalid_1's binary_logloss: 0.135368\n",
      "[61]\ttraining's auc: 0.920797\ttraining's binary_logloss: 0.107442\tvalid_1's auc: 0.831807\tvalid_1's binary_logloss: 0.135378\n",
      "[62]\ttraining's auc: 0.921181\ttraining's binary_logloss: 0.107241\tvalid_1's auc: 0.831859\tvalid_1's binary_logloss: 0.135393\n",
      "[63]\ttraining's auc: 0.922297\ttraining's binary_logloss: 0.106885\tvalid_1's auc: 0.831503\tvalid_1's binary_logloss: 0.135484\n",
      "[64]\ttraining's auc: 0.922813\ttraining's binary_logloss: 0.10663\tvalid_1's auc: 0.831716\tvalid_1's binary_logloss: 0.135438\n",
      "[65]\ttraining's auc: 0.923479\ttraining's binary_logloss: 0.106343\tvalid_1's auc: 0.831698\tvalid_1's binary_logloss: 0.135468\n",
      "[66]\ttraining's auc: 0.923773\ttraining's binary_logloss: 0.106134\tvalid_1's auc: 0.831502\tvalid_1's binary_logloss: 0.135547\n",
      "[67]\ttraining's auc: 0.923991\ttraining's binary_logloss: 0.105977\tvalid_1's auc: 0.831669\tvalid_1's binary_logloss: 0.135537\n",
      "[68]\ttraining's auc: 0.924656\ttraining's binary_logloss: 0.105802\tvalid_1's auc: 0.831775\tvalid_1's binary_logloss: 0.135525\n",
      "[69]\ttraining's auc: 0.925273\ttraining's binary_logloss: 0.105548\tvalid_1's auc: 0.831952\tvalid_1's binary_logloss: 0.135527\n",
      "[70]\ttraining's auc: 0.925899\ttraining's binary_logloss: 0.105314\tvalid_1's auc: 0.831659\tvalid_1's binary_logloss: 0.135611\n",
      "[71]\ttraining's auc: 0.926827\ttraining's binary_logloss: 0.105054\tvalid_1's auc: 0.831626\tvalid_1's binary_logloss: 0.135621\n",
      "[72]\ttraining's auc: 0.927861\ttraining's binary_logloss: 0.104712\tvalid_1's auc: 0.831612\tvalid_1's binary_logloss: 0.135665\n",
      "[73]\ttraining's auc: 0.928078\ttraining's binary_logloss: 0.104537\tvalid_1's auc: 0.831395\tvalid_1's binary_logloss: 0.135709\n",
      "[74]\ttraining's auc: 0.928329\ttraining's binary_logloss: 0.104353\tvalid_1's auc: 0.831106\tvalid_1's binary_logloss: 0.135773\n",
      "[75]\ttraining's auc: 0.928639\ttraining's binary_logloss: 0.104167\tvalid_1's auc: 0.83094\tvalid_1's binary_logloss: 0.135819\n",
      "[76]\ttraining's auc: 0.928812\ttraining's binary_logloss: 0.104032\tvalid_1's auc: 0.831078\tvalid_1's binary_logloss: 0.135819\n",
      "[77]\ttraining's auc: 0.929094\ttraining's binary_logloss: 0.103841\tvalid_1's auc: 0.831173\tvalid_1's binary_logloss: 0.135831\n",
      "[78]\ttraining's auc: 0.929304\ttraining's binary_logloss: 0.103661\tvalid_1's auc: 0.831108\tvalid_1's binary_logloss: 0.135854\n",
      "[79]\ttraining's auc: 0.929558\ttraining's binary_logloss: 0.103444\tvalid_1's auc: 0.830932\tvalid_1's binary_logloss: 0.135942\n",
      "[80]\ttraining's auc: 0.930062\ttraining's binary_logloss: 0.103185\tvalid_1's auc: 0.831212\tvalid_1's binary_logloss: 0.135846\n",
      "[81]\ttraining's auc: 0.93021\ttraining's binary_logloss: 0.103035\tvalid_1's auc: 0.831221\tvalid_1's binary_logloss: 0.13587\n",
      "[82]\ttraining's auc: 0.930873\ttraining's binary_logloss: 0.102757\tvalid_1's auc: 0.831112\tvalid_1's binary_logloss: 0.135917\n",
      "[83]\ttraining's auc: 0.931024\ttraining's binary_logloss: 0.102636\tvalid_1's auc: 0.831065\tvalid_1's binary_logloss: 0.135936\n",
      "[84]\ttraining's auc: 0.931479\ttraining's binary_logloss: 0.102405\tvalid_1's auc: 0.830915\tvalid_1's binary_logloss: 0.135993\n",
      "[85]\ttraining's auc: 0.931704\ttraining's binary_logloss: 0.102221\tvalid_1's auc: 0.831007\tvalid_1's binary_logloss: 0.135984\n",
      "[86]\ttraining's auc: 0.931863\ttraining's binary_logloss: 0.1021\tvalid_1's auc: 0.831073\tvalid_1's binary_logloss: 0.135943\n",
      "[87]\ttraining's auc: 0.932249\ttraining's binary_logloss: 0.101879\tvalid_1's auc: 0.831022\tvalid_1's binary_logloss: 0.135962\n",
      "[88]\ttraining's auc: 0.932765\ttraining's binary_logloss: 0.101605\tvalid_1's auc: 0.830827\tvalid_1's binary_logloss: 0.136022\n",
      "[89]\ttraining's auc: 0.933029\ttraining's binary_logloss: 0.101427\tvalid_1's auc: 0.830847\tvalid_1's binary_logloss: 0.13606\n",
      "[90]\ttraining's auc: 0.933574\ttraining's binary_logloss: 0.101132\tvalid_1's auc: 0.830845\tvalid_1's binary_logloss: 0.136074\n",
      "[91]\ttraining's auc: 0.933718\ttraining's binary_logloss: 0.100966\tvalid_1's auc: 0.831067\tvalid_1's binary_logloss: 0.136028\n",
      "[92]\ttraining's auc: 0.933882\ttraining's binary_logloss: 0.100834\tvalid_1's auc: 0.830966\tvalid_1's binary_logloss: 0.13606\n",
      "[93]\ttraining's auc: 0.934042\ttraining's binary_logloss: 0.100677\tvalid_1's auc: 0.830691\tvalid_1's binary_logloss: 0.136126\n",
      "[94]\ttraining's auc: 0.934515\ttraining's binary_logloss: 0.100417\tvalid_1's auc: 0.830759\tvalid_1's binary_logloss: 0.136153\n",
      "[95]\ttraining's auc: 0.934868\ttraining's binary_logloss: 0.100212\tvalid_1's auc: 0.830436\tvalid_1's binary_logloss: 0.136221\n",
      "[96]\ttraining's auc: 0.935009\ttraining's binary_logloss: 0.1001\tvalid_1's auc: 0.830566\tvalid_1's binary_logloss: 0.136227\n",
      "[97]\ttraining's auc: 0.935251\ttraining's binary_logloss: 0.0999167\tvalid_1's auc: 0.830664\tvalid_1's binary_logloss: 0.13623\n",
      "[98]\ttraining's auc: 0.935506\ttraining's binary_logloss: 0.0997379\tvalid_1's auc: 0.830618\tvalid_1's binary_logloss: 0.13627\n",
      "[99]\ttraining's auc: 0.935882\ttraining's binary_logloss: 0.0995979\tvalid_1's auc: 0.830275\tvalid_1's binary_logloss: 0.136349\n",
      "[100]\ttraining's auc: 0.936241\ttraining's binary_logloss: 0.0993852\tvalid_1's auc: 0.830154\tvalid_1's binary_logloss: 0.136377\n",
      "[101]\ttraining's auc: 0.936333\ttraining's binary_logloss: 0.0992904\tvalid_1's auc: 0.830043\tvalid_1's binary_logloss: 0.136418\n",
      "[102]\ttraining's auc: 0.9367\ttraining's binary_logloss: 0.0990862\tvalid_1's auc: 0.829994\tvalid_1's binary_logloss: 0.13649\n",
      "[103]\ttraining's auc: 0.936984\ttraining's binary_logloss: 0.0989027\tvalid_1's auc: 0.830189\tvalid_1's binary_logloss: 0.136458\n",
      "[104]\ttraining's auc: 0.937129\ttraining's binary_logloss: 0.098774\tvalid_1's auc: 0.830084\tvalid_1's binary_logloss: 0.136529\n",
      "[105]\ttraining's auc: 0.937202\ttraining's binary_logloss: 0.0986737\tvalid_1's auc: 0.829896\tvalid_1's binary_logloss: 0.13659\n",
      "[106]\ttraining's auc: 0.937564\ttraining's binary_logloss: 0.0984463\tvalid_1's auc: 0.829901\tvalid_1's binary_logloss: 0.136565\n",
      "[107]\ttraining's auc: 0.937841\ttraining's binary_logloss: 0.0983149\tvalid_1's auc: 0.830041\tvalid_1's binary_logloss: 0.136565\n",
      "[108]\ttraining's auc: 0.938216\ttraining's binary_logloss: 0.098084\tvalid_1's auc: 0.83014\tvalid_1's binary_logloss: 0.136553\n",
      "[109]\ttraining's auc: 0.938267\ttraining's binary_logloss: 0.0980124\tvalid_1's auc: 0.830141\tvalid_1's binary_logloss: 0.136539\n",
      "[110]\ttraining's auc: 0.938407\ttraining's binary_logloss: 0.0978703\tvalid_1's auc: 0.830052\tvalid_1's binary_logloss: 0.136566\n",
      "[111]\ttraining's auc: 0.93931\ttraining's binary_logloss: 0.09755\tvalid_1's auc: 0.829724\tvalid_1's binary_logloss: 0.136676\n",
      "[112]\ttraining's auc: 0.939421\ttraining's binary_logloss: 0.0974606\tvalid_1's auc: 0.829726\tvalid_1's binary_logloss: 0.136717\n",
      "[113]\ttraining's auc: 0.939745\ttraining's binary_logloss: 0.0973115\tvalid_1's auc: 0.829762\tvalid_1's binary_logloss: 0.136724\n",
      "[114]\ttraining's auc: 0.940126\ttraining's binary_logloss: 0.0970794\tvalid_1's auc: 0.829718\tvalid_1's binary_logloss: 0.136816\n",
      "[115]\ttraining's auc: 0.940527\ttraining's binary_logloss: 0.0968341\tvalid_1's auc: 0.829629\tvalid_1's binary_logloss: 0.136873\n",
      "[116]\ttraining's auc: 0.940641\ttraining's binary_logloss: 0.0966994\tvalid_1's auc: 0.829556\tvalid_1's binary_logloss: 0.136899\n",
      "[117]\ttraining's auc: 0.941227\ttraining's binary_logloss: 0.0964334\tvalid_1's auc: 0.829605\tvalid_1's binary_logloss: 0.136933\n",
      "[118]\ttraining's auc: 0.941656\ttraining's binary_logloss: 0.0961947\tvalid_1's auc: 0.829688\tvalid_1's binary_logloss: 0.136933\n",
      "[119]\ttraining's auc: 0.941748\ttraining's binary_logloss: 0.0960705\tvalid_1's auc: 0.829666\tvalid_1's binary_logloss: 0.136953\n",
      "[120]\ttraining's auc: 0.94216\ttraining's binary_logloss: 0.0958417\tvalid_1's auc: 0.829622\tvalid_1's binary_logloss: 0.136997\n",
      "[121]\ttraining's auc: 0.94238\ttraining's binary_logloss: 0.0956645\tvalid_1's auc: 0.829516\tvalid_1's binary_logloss: 0.137036\n",
      "[122]\ttraining's auc: 0.942499\ttraining's binary_logloss: 0.0955579\tvalid_1's auc: 0.829434\tvalid_1's binary_logloss: 0.137052\n",
      "[123]\ttraining's auc: 0.942588\ttraining's binary_logloss: 0.0954606\tvalid_1's auc: 0.829298\tvalid_1's binary_logloss: 0.137111\n",
      "[124]\ttraining's auc: 0.942943\ttraining's binary_logloss: 0.0952291\tvalid_1's auc: 0.829389\tvalid_1's binary_logloss: 0.137106\n",
      "[125]\ttraining's auc: 0.943424\ttraining's binary_logloss: 0.0950165\tvalid_1's auc: 0.829568\tvalid_1's binary_logloss: 0.137063\n",
      "[126]\ttraining's auc: 0.943549\ttraining's binary_logloss: 0.0949034\tvalid_1's auc: 0.82942\tvalid_1's binary_logloss: 0.137116\n",
      "[127]\ttraining's auc: 0.943906\ttraining's binary_logloss: 0.0946862\tvalid_1's auc: 0.829425\tvalid_1's binary_logloss: 0.137126\n",
      "[128]\ttraining's auc: 0.9441\ttraining's binary_logloss: 0.0945286\tvalid_1's auc: 0.829372\tvalid_1's binary_logloss: 0.137162\n",
      "[129]\ttraining's auc: 0.944404\ttraining's binary_logloss: 0.0943193\tvalid_1's auc: 0.829456\tvalid_1's binary_logloss: 0.137161\n",
      "[130]\ttraining's auc: 0.944786\ttraining's binary_logloss: 0.0940784\tvalid_1's auc: 0.829409\tvalid_1's binary_logloss: 0.137231\n",
      "[131]\ttraining's auc: 0.944991\ttraining's binary_logloss: 0.0939332\tvalid_1's auc: 0.82933\tvalid_1's binary_logloss: 0.13726\n",
      "[132]\ttraining's auc: 0.945083\ttraining's binary_logloss: 0.0938351\tvalid_1's auc: 0.829237\tvalid_1's binary_logloss: 0.137312\n",
      "[133]\ttraining's auc: 0.945246\ttraining's binary_logloss: 0.09369\tvalid_1's auc: 0.829071\tvalid_1's binary_logloss: 0.137368\n",
      "[134]\ttraining's auc: 0.945545\ttraining's binary_logloss: 0.0935468\tvalid_1's auc: 0.829027\tvalid_1's binary_logloss: 0.137391\n",
      "[135]\ttraining's auc: 0.946253\ttraining's binary_logloss: 0.0933204\tvalid_1's auc: 0.829006\tvalid_1's binary_logloss: 0.13739\n",
      "[136]\ttraining's auc: 0.946589\ttraining's binary_logloss: 0.0931143\tvalid_1's auc: 0.829054\tvalid_1's binary_logloss: 0.137403\n",
      "[137]\ttraining's auc: 0.946772\ttraining's binary_logloss: 0.092979\tvalid_1's auc: 0.828949\tvalid_1's binary_logloss: 0.137447\n",
      "[138]\ttraining's auc: 0.946832\ttraining's binary_logloss: 0.0929083\tvalid_1's auc: 0.828907\tvalid_1's binary_logloss: 0.137476\n",
      "[139]\ttraining's auc: 0.947105\ttraining's binary_logloss: 0.0927328\tvalid_1's auc: 0.829034\tvalid_1's binary_logloss: 0.137463\n",
      "[140]\ttraining's auc: 0.94779\ttraining's binary_logloss: 0.0924716\tvalid_1's auc: 0.829175\tvalid_1's binary_logloss: 0.137451\n",
      "[141]\ttraining's auc: 0.948038\ttraining's binary_logloss: 0.0923201\tvalid_1's auc: 0.829218\tvalid_1's binary_logloss: 0.137468\n",
      "[142]\ttraining's auc: 0.948302\ttraining's binary_logloss: 0.0921179\tvalid_1's auc: 0.829267\tvalid_1's binary_logloss: 0.137482\n",
      "ROC AUC: 0.8384\n",
      "[1]\ttraining's auc: 0.82736\ttraining's binary_logloss: 0.162294\tvalid_1's auc: 0.804818\tvalid_1's binary_logloss: 0.163544\n",
      "[2]\ttraining's auc: 0.828309\ttraining's binary_logloss: 0.160269\tvalid_1's auc: 0.804585\tvalid_1's binary_logloss: 0.161866\n",
      "[3]\ttraining's auc: 0.833368\ttraining's binary_logloss: 0.158478\tvalid_1's auc: 0.806871\tvalid_1's binary_logloss: 0.16038\n",
      "[4]\ttraining's auc: 0.834671\ttraining's binary_logloss: 0.156852\tvalid_1's auc: 0.80706\tvalid_1's binary_logloss: 0.159053\n",
      "[5]\ttraining's auc: 0.837783\ttraining's binary_logloss: 0.155354\tvalid_1's auc: 0.811645\tvalid_1's binary_logloss: 0.157793\n",
      "[6]\ttraining's auc: 0.839052\ttraining's binary_logloss: 0.153966\tvalid_1's auc: 0.81271\tvalid_1's binary_logloss: 0.156635\n",
      "[7]\ttraining's auc: 0.841216\ttraining's binary_logloss: 0.152691\tvalid_1's auc: 0.815103\tvalid_1's binary_logloss: 0.155585\n",
      "[8]\ttraining's auc: 0.841859\ttraining's binary_logloss: 0.151499\tvalid_1's auc: 0.814773\tvalid_1's binary_logloss: 0.154617\n",
      "[9]\ttraining's auc: 0.844543\ttraining's binary_logloss: 0.150393\tvalid_1's auc: 0.816663\tvalid_1's binary_logloss: 0.153725\n",
      "[10]\ttraining's auc: 0.845228\ttraining's binary_logloss: 0.149346\tvalid_1's auc: 0.816528\tvalid_1's binary_logloss: 0.152878\n",
      "[11]\ttraining's auc: 0.8479\ttraining's binary_logloss: 0.148364\tvalid_1's auc: 0.818315\tvalid_1's binary_logloss: 0.152101\n",
      "[12]\ttraining's auc: 0.848789\ttraining's binary_logloss: 0.147436\tvalid_1's auc: 0.818839\tvalid_1's binary_logloss: 0.151369\n",
      "[13]\ttraining's auc: 0.849537\ttraining's binary_logloss: 0.146567\tvalid_1's auc: 0.82048\tvalid_1's binary_logloss: 0.150661\n",
      "[14]\ttraining's auc: 0.850363\ttraining's binary_logloss: 0.145732\tvalid_1's auc: 0.820545\tvalid_1's binary_logloss: 0.150023\n",
      "[15]\ttraining's auc: 0.851536\ttraining's binary_logloss: 0.144941\tvalid_1's auc: 0.821707\tvalid_1's binary_logloss: 0.149388\n",
      "[16]\ttraining's auc: 0.852542\ttraining's binary_logloss: 0.14421\tvalid_1's auc: 0.822234\tvalid_1's binary_logloss: 0.148805\n",
      "[17]\ttraining's auc: 0.853019\ttraining's binary_logloss: 0.143458\tvalid_1's auc: 0.822418\tvalid_1's binary_logloss: 0.148223\n",
      "[18]\ttraining's auc: 0.854924\ttraining's binary_logloss: 0.142757\tvalid_1's auc: 0.823738\tvalid_1's binary_logloss: 0.147689\n",
      "[19]\ttraining's auc: 0.855156\ttraining's binary_logloss: 0.142099\tvalid_1's auc: 0.824535\tvalid_1's binary_logloss: 0.147136\n",
      "[20]\ttraining's auc: 0.855564\ttraining's binary_logloss: 0.141467\tvalid_1's auc: 0.824824\tvalid_1's binary_logloss: 0.146639\n",
      "[21]\ttraining's auc: 0.856772\ttraining's binary_logloss: 0.14086\tvalid_1's auc: 0.825749\tvalid_1's binary_logloss: 0.14617\n",
      "[22]\ttraining's auc: 0.857006\ttraining's binary_logloss: 0.140279\tvalid_1's auc: 0.826089\tvalid_1's binary_logloss: 0.14572\n",
      "[23]\ttraining's auc: 0.8577\ttraining's binary_logloss: 0.13973\tvalid_1's auc: 0.826044\tvalid_1's binary_logloss: 0.145315\n",
      "[24]\ttraining's auc: 0.857878\ttraining's binary_logloss: 0.139206\tvalid_1's auc: 0.825979\tvalid_1's binary_logloss: 0.144946\n",
      "[25]\ttraining's auc: 0.85788\ttraining's binary_logloss: 0.138692\tvalid_1's auc: 0.825977\tvalid_1's binary_logloss: 0.144561\n",
      "[26]\ttraining's auc: 0.85796\ttraining's binary_logloss: 0.13821\tvalid_1's auc: 0.82609\tvalid_1's binary_logloss: 0.144213\n",
      "[27]\ttraining's auc: 0.858746\ttraining's binary_logloss: 0.137726\tvalid_1's auc: 0.826481\tvalid_1's binary_logloss: 0.143852\n",
      "[28]\ttraining's auc: 0.859159\ttraining's binary_logloss: 0.137267\tvalid_1's auc: 0.826417\tvalid_1's binary_logloss: 0.143505\n",
      "[29]\ttraining's auc: 0.86041\ttraining's binary_logloss: 0.136829\tvalid_1's auc: 0.826777\tvalid_1's binary_logloss: 0.143175\n",
      "[30]\ttraining's auc: 0.860868\ttraining's binary_logloss: 0.136398\tvalid_1's auc: 0.826976\tvalid_1's binary_logloss: 0.142884\n",
      "[31]\ttraining's auc: 0.86107\ttraining's binary_logloss: 0.13599\tvalid_1's auc: 0.826882\tvalid_1's binary_logloss: 0.142616\n",
      "[32]\ttraining's auc: 0.861254\ttraining's binary_logloss: 0.135587\tvalid_1's auc: 0.826343\tvalid_1's binary_logloss: 0.142359\n",
      "[33]\ttraining's auc: 0.861675\ttraining's binary_logloss: 0.135193\tvalid_1's auc: 0.826727\tvalid_1's binary_logloss: 0.142075\n",
      "[34]\ttraining's auc: 0.862184\ttraining's binary_logloss: 0.134816\tvalid_1's auc: 0.826725\tvalid_1's binary_logloss: 0.141828\n",
      "[35]\ttraining's auc: 0.86269\ttraining's binary_logloss: 0.134453\tvalid_1's auc: 0.82723\tvalid_1's binary_logloss: 0.141553\n",
      "[36]\ttraining's auc: 0.862869\ttraining's binary_logloss: 0.134105\tvalid_1's auc: 0.827332\tvalid_1's binary_logloss: 0.1413\n",
      "[37]\ttraining's auc: 0.863113\ttraining's binary_logloss: 0.133774\tvalid_1's auc: 0.827675\tvalid_1's binary_logloss: 0.141066\n",
      "[38]\ttraining's auc: 0.864227\ttraining's binary_logloss: 0.133438\tvalid_1's auc: 0.827587\tvalid_1's binary_logloss: 0.140849\n",
      "[39]\ttraining's auc: 0.864575\ttraining's binary_logloss: 0.133118\tvalid_1's auc: 0.827714\tvalid_1's binary_logloss: 0.140649\n",
      "[40]\ttraining's auc: 0.864869\ttraining's binary_logloss: 0.132804\tvalid_1's auc: 0.827789\tvalid_1's binary_logloss: 0.140459\n",
      "[41]\ttraining's auc: 0.865372\ttraining's binary_logloss: 0.132476\tvalid_1's auc: 0.828011\tvalid_1's binary_logloss: 0.140263\n",
      "[42]\ttraining's auc: 0.865899\ttraining's binary_logloss: 0.132178\tvalid_1's auc: 0.827975\tvalid_1's binary_logloss: 0.140097\n",
      "[43]\ttraining's auc: 0.8662\ttraining's binary_logloss: 0.131873\tvalid_1's auc: 0.828199\tvalid_1's binary_logloss: 0.139924\n",
      "[44]\ttraining's auc: 0.866291\ttraining's binary_logloss: 0.131582\tvalid_1's auc: 0.828127\tvalid_1's binary_logloss: 0.139765\n",
      "[45]\ttraining's auc: 0.867193\ttraining's binary_logloss: 0.131295\tvalid_1's auc: 0.828463\tvalid_1's binary_logloss: 0.139591\n",
      "[46]\ttraining's auc: 0.86755\ttraining's binary_logloss: 0.131011\tvalid_1's auc: 0.828484\tvalid_1's binary_logloss: 0.139422\n",
      "[47]\ttraining's auc: 0.868151\ttraining's binary_logloss: 0.130742\tvalid_1's auc: 0.828661\tvalid_1's binary_logloss: 0.139264\n",
      "[48]\ttraining's auc: 0.868467\ttraining's binary_logloss: 0.130483\tvalid_1's auc: 0.828577\tvalid_1's binary_logloss: 0.139142\n",
      "[49]\ttraining's auc: 0.869009\ttraining's binary_logloss: 0.130233\tvalid_1's auc: 0.828612\tvalid_1's binary_logloss: 0.13901\n",
      "[50]\ttraining's auc: 0.869341\ttraining's binary_logloss: 0.130003\tvalid_1's auc: 0.828544\tvalid_1's binary_logloss: 0.138887\n",
      "[51]\ttraining's auc: 0.869923\ttraining's binary_logloss: 0.129754\tvalid_1's auc: 0.828647\tvalid_1's binary_logloss: 0.138754\n",
      "[52]\ttraining's auc: 0.870435\ttraining's binary_logloss: 0.129523\tvalid_1's auc: 0.828877\tvalid_1's binary_logloss: 0.138622\n",
      "[53]\ttraining's auc: 0.870843\ttraining's binary_logloss: 0.129293\tvalid_1's auc: 0.828691\tvalid_1's binary_logloss: 0.13851\n",
      "[54]\ttraining's auc: 0.871421\ttraining's binary_logloss: 0.129056\tvalid_1's auc: 0.828891\tvalid_1's binary_logloss: 0.138378\n",
      "[55]\ttraining's auc: 0.87172\ttraining's binary_logloss: 0.128844\tvalid_1's auc: 0.829102\tvalid_1's binary_logloss: 0.138264\n",
      "[56]\ttraining's auc: 0.87216\ttraining's binary_logloss: 0.128617\tvalid_1's auc: 0.829113\tvalid_1's binary_logloss: 0.138145\n",
      "[57]\ttraining's auc: 0.872412\ttraining's binary_logloss: 0.128414\tvalid_1's auc: 0.82926\tvalid_1's binary_logloss: 0.138033\n",
      "[58]\ttraining's auc: 0.872885\ttraining's binary_logloss: 0.1282\tvalid_1's auc: 0.829445\tvalid_1's binary_logloss: 0.137916\n",
      "[59]\ttraining's auc: 0.873194\ttraining's binary_logloss: 0.128005\tvalid_1's auc: 0.829547\tvalid_1's binary_logloss: 0.137814\n",
      "[60]\ttraining's auc: 0.873606\ttraining's binary_logloss: 0.127798\tvalid_1's auc: 0.829606\tvalid_1's binary_logloss: 0.137711\n",
      "[61]\ttraining's auc: 0.873942\ttraining's binary_logloss: 0.127601\tvalid_1's auc: 0.82973\tvalid_1's binary_logloss: 0.13761\n",
      "[62]\ttraining's auc: 0.874359\ttraining's binary_logloss: 0.127396\tvalid_1's auc: 0.829856\tvalid_1's binary_logloss: 0.13752\n",
      "[63]\ttraining's auc: 0.874868\ttraining's binary_logloss: 0.1272\tvalid_1's auc: 0.829787\tvalid_1's binary_logloss: 0.137451\n",
      "[64]\ttraining's auc: 0.875214\ttraining's binary_logloss: 0.127008\tvalid_1's auc: 0.829883\tvalid_1's binary_logloss: 0.137368\n",
      "[65]\ttraining's auc: 0.87576\ttraining's binary_logloss: 0.126819\tvalid_1's auc: 0.829913\tvalid_1's binary_logloss: 0.137293\n",
      "[66]\ttraining's auc: 0.876244\ttraining's binary_logloss: 0.126639\tvalid_1's auc: 0.829919\tvalid_1's binary_logloss: 0.137223\n",
      "[67]\ttraining's auc: 0.876733\ttraining's binary_logloss: 0.126457\tvalid_1's auc: 0.829943\tvalid_1's binary_logloss: 0.137148\n",
      "[68]\ttraining's auc: 0.877004\ttraining's binary_logloss: 0.126282\tvalid_1's auc: 0.829954\tvalid_1's binary_logloss: 0.137083\n",
      "[69]\ttraining's auc: 0.87756\ttraining's binary_logloss: 0.1261\tvalid_1's auc: 0.830128\tvalid_1's binary_logloss: 0.137018\n",
      "[70]\ttraining's auc: 0.87797\ttraining's binary_logloss: 0.12593\tvalid_1's auc: 0.830009\tvalid_1's binary_logloss: 0.136959\n",
      "[71]\ttraining's auc: 0.878271\ttraining's binary_logloss: 0.125757\tvalid_1's auc: 0.83006\tvalid_1's binary_logloss: 0.136874\n",
      "[72]\ttraining's auc: 0.878636\ttraining's binary_logloss: 0.125587\tvalid_1's auc: 0.830076\tvalid_1's binary_logloss: 0.136826\n",
      "[73]\ttraining's auc: 0.879184\ttraining's binary_logloss: 0.125399\tvalid_1's auc: 0.830085\tvalid_1's binary_logloss: 0.136789\n",
      "[74]\ttraining's auc: 0.879469\ttraining's binary_logloss: 0.125237\tvalid_1's auc: 0.830075\tvalid_1's binary_logloss: 0.136732\n",
      "[75]\ttraining's auc: 0.879964\ttraining's binary_logloss: 0.125056\tvalid_1's auc: 0.830222\tvalid_1's binary_logloss: 0.136685\n",
      "[76]\ttraining's auc: 0.880303\ttraining's binary_logloss: 0.124899\tvalid_1's auc: 0.830241\tvalid_1's binary_logloss: 0.136648\n",
      "[77]\ttraining's auc: 0.88089\ttraining's binary_logloss: 0.124722\tvalid_1's auc: 0.830215\tvalid_1's binary_logloss: 0.136597\n",
      "[78]\ttraining's auc: 0.881192\ttraining's binary_logloss: 0.124574\tvalid_1's auc: 0.830266\tvalid_1's binary_logloss: 0.136547\n",
      "[79]\ttraining's auc: 0.881363\ttraining's binary_logloss: 0.124436\tvalid_1's auc: 0.830499\tvalid_1's binary_logloss: 0.136479\n",
      "[80]\ttraining's auc: 0.881666\ttraining's binary_logloss: 0.124293\tvalid_1's auc: 0.830716\tvalid_1's binary_logloss: 0.136417\n",
      "[81]\ttraining's auc: 0.881924\ttraining's binary_logloss: 0.124142\tvalid_1's auc: 0.830713\tvalid_1's binary_logloss: 0.136371\n",
      "[82]\ttraining's auc: 0.882378\ttraining's binary_logloss: 0.123993\tvalid_1's auc: 0.830755\tvalid_1's binary_logloss: 0.136333\n",
      "[83]\ttraining's auc: 0.882585\ttraining's binary_logloss: 0.123854\tvalid_1's auc: 0.830732\tvalid_1's binary_logloss: 0.136295\n",
      "[84]\ttraining's auc: 0.882911\ttraining's binary_logloss: 0.123715\tvalid_1's auc: 0.83068\tvalid_1's binary_logloss: 0.136272\n",
      "[85]\ttraining's auc: 0.883229\ttraining's binary_logloss: 0.123574\tvalid_1's auc: 0.830717\tvalid_1's binary_logloss: 0.136235\n",
      "[86]\ttraining's auc: 0.883497\ttraining's binary_logloss: 0.123438\tvalid_1's auc: 0.830844\tvalid_1's binary_logloss: 0.136201\n",
      "[87]\ttraining's auc: 0.883822\ttraining's binary_logloss: 0.123296\tvalid_1's auc: 0.830747\tvalid_1's binary_logloss: 0.136165\n",
      "[88]\ttraining's auc: 0.884093\ttraining's binary_logloss: 0.123163\tvalid_1's auc: 0.830845\tvalid_1's binary_logloss: 0.136136\n",
      "[89]\ttraining's auc: 0.884391\ttraining's binary_logloss: 0.123021\tvalid_1's auc: 0.830922\tvalid_1's binary_logloss: 0.136103\n",
      "[90]\ttraining's auc: 0.884729\ttraining's binary_logloss: 0.122885\tvalid_1's auc: 0.830912\tvalid_1's binary_logloss: 0.136081\n",
      "[91]\ttraining's auc: 0.885214\ttraining's binary_logloss: 0.12273\tvalid_1's auc: 0.830915\tvalid_1's binary_logloss: 0.136065\n",
      "[92]\ttraining's auc: 0.885589\ttraining's binary_logloss: 0.122593\tvalid_1's auc: 0.830956\tvalid_1's binary_logloss: 0.136041\n",
      "[93]\ttraining's auc: 0.885884\ttraining's binary_logloss: 0.122452\tvalid_1's auc: 0.830832\tvalid_1's binary_logloss: 0.13604\n",
      "[94]\ttraining's auc: 0.886093\ttraining's binary_logloss: 0.122337\tvalid_1's auc: 0.830805\tvalid_1's binary_logloss: 0.136025\n",
      "[95]\ttraining's auc: 0.886763\ttraining's binary_logloss: 0.122187\tvalid_1's auc: 0.831188\tvalid_1's binary_logloss: 0.135958\n",
      "[96]\ttraining's auc: 0.88694\ttraining's binary_logloss: 0.122068\tvalid_1's auc: 0.831232\tvalid_1's binary_logloss: 0.135925\n",
      "[97]\ttraining's auc: 0.887253\ttraining's binary_logloss: 0.12194\tvalid_1's auc: 0.831265\tvalid_1's binary_logloss: 0.135908\n",
      "[98]\ttraining's auc: 0.88765\ttraining's binary_logloss: 0.121808\tvalid_1's auc: 0.831519\tvalid_1's binary_logloss: 0.135868\n",
      "[99]\ttraining's auc: 0.887879\ttraining's binary_logloss: 0.121691\tvalid_1's auc: 0.831455\tvalid_1's binary_logloss: 0.135854\n",
      "[100]\ttraining's auc: 0.888166\ttraining's binary_logloss: 0.121575\tvalid_1's auc: 0.83126\tvalid_1's binary_logloss: 0.135856\n",
      "[1]\ttraining's auc: 0.826374\ttraining's binary_logloss: 0.164747\tvalid_1's auc: 0.813652\tvalid_1's binary_logloss: 0.158892\n",
      "[2]\ttraining's auc: 0.828688\ttraining's binary_logloss: 0.16274\tvalid_1's auc: 0.814697\tvalid_1's binary_logloss: 0.157243\n",
      "[3]\ttraining's auc: 0.831453\ttraining's binary_logloss: 0.160948\tvalid_1's auc: 0.817983\tvalid_1's binary_logloss: 0.155679\n",
      "[4]\ttraining's auc: 0.832427\ttraining's binary_logloss: 0.159315\tvalid_1's auc: 0.818151\tvalid_1's binary_logloss: 0.154326\n",
      "[5]\ttraining's auc: 0.835396\ttraining's binary_logloss: 0.1578\tvalid_1's auc: 0.81967\tvalid_1's binary_logloss: 0.153072\n",
      "[6]\ttraining's auc: 0.838759\ttraining's binary_logloss: 0.156414\tvalid_1's auc: 0.821771\tvalid_1's binary_logloss: 0.15188\n",
      "[7]\ttraining's auc: 0.840479\ttraining's binary_logloss: 0.155141\tvalid_1's auc: 0.824454\tvalid_1's binary_logloss: 0.150827\n",
      "[8]\ttraining's auc: 0.84112\ttraining's binary_logloss: 0.153937\tvalid_1's auc: 0.824531\tvalid_1's binary_logloss: 0.149835\n",
      "[9]\ttraining's auc: 0.842056\ttraining's binary_logloss: 0.152806\tvalid_1's auc: 0.825335\tvalid_1's binary_logloss: 0.148909\n",
      "[10]\ttraining's auc: 0.843103\ttraining's binary_logloss: 0.15176\tvalid_1's auc: 0.825846\tvalid_1's binary_logloss: 0.148059\n",
      "[11]\ttraining's auc: 0.843774\ttraining's binary_logloss: 0.150786\tvalid_1's auc: 0.826224\tvalid_1's binary_logloss: 0.147257\n",
      "[12]\ttraining's auc: 0.847482\ttraining's binary_logloss: 0.149853\tvalid_1's auc: 0.829888\tvalid_1's binary_logloss: 0.146517\n",
      "[13]\ttraining's auc: 0.848602\ttraining's binary_logloss: 0.148991\tvalid_1's auc: 0.830007\tvalid_1's binary_logloss: 0.145819\n",
      "[14]\ttraining's auc: 0.84897\ttraining's binary_logloss: 0.148166\tvalid_1's auc: 0.829994\tvalid_1's binary_logloss: 0.145141\n",
      "[15]\ttraining's auc: 0.849639\ttraining's binary_logloss: 0.147361\tvalid_1's auc: 0.829923\tvalid_1's binary_logloss: 0.144546\n",
      "[16]\ttraining's auc: 0.850498\ttraining's binary_logloss: 0.146609\tvalid_1's auc: 0.829911\tvalid_1's binary_logloss: 0.143967\n",
      "[17]\ttraining's auc: 0.850791\ttraining's binary_logloss: 0.145901\tvalid_1's auc: 0.830165\tvalid_1's binary_logloss: 0.143422\n",
      "[18]\ttraining's auc: 0.852013\ttraining's binary_logloss: 0.145227\tvalid_1's auc: 0.830766\tvalid_1's binary_logloss: 0.1429\n",
      "[19]\ttraining's auc: 0.852539\ttraining's binary_logloss: 0.144539\tvalid_1's auc: 0.831139\tvalid_1's binary_logloss: 0.142401\n",
      "[20]\ttraining's auc: 0.853698\ttraining's binary_logloss: 0.143882\tvalid_1's auc: 0.831679\tvalid_1's binary_logloss: 0.14192\n",
      "[21]\ttraining's auc: 0.854376\ttraining's binary_logloss: 0.143259\tvalid_1's auc: 0.831805\tvalid_1's binary_logloss: 0.141432\n",
      "[22]\ttraining's auc: 0.854952\ttraining's binary_logloss: 0.142675\tvalid_1's auc: 0.832628\tvalid_1's binary_logloss: 0.140983\n",
      "[23]\ttraining's auc: 0.85535\ttraining's binary_logloss: 0.142115\tvalid_1's auc: 0.833283\tvalid_1's binary_logloss: 0.14055\n",
      "[24]\ttraining's auc: 0.856172\ttraining's binary_logloss: 0.141577\tvalid_1's auc: 0.83472\tvalid_1's binary_logloss: 0.140156\n",
      "[25]\ttraining's auc: 0.857059\ttraining's binary_logloss: 0.141052\tvalid_1's auc: 0.834676\tvalid_1's binary_logloss: 0.139798\n",
      "[26]\ttraining's auc: 0.857799\ttraining's binary_logloss: 0.14055\tvalid_1's auc: 0.834992\tvalid_1's binary_logloss: 0.139424\n",
      "[27]\ttraining's auc: 0.858112\ttraining's binary_logloss: 0.140053\tvalid_1's auc: 0.835325\tvalid_1's binary_logloss: 0.139036\n",
      "[28]\ttraining's auc: 0.858544\ttraining's binary_logloss: 0.13959\tvalid_1's auc: 0.835425\tvalid_1's binary_logloss: 0.138689\n",
      "  0%|                                                                           | 0/50 [00:02<?, ?trial/s, best loss=?]\n"
     ]
    },
    {
     "ename": "KeyboardInterrupt",
     "evalue": "",
     "output_type": "error",
     "traceback": [
      "\u001b[1;31m---------------------------------------------------------------------------\u001b[0m",
      "\u001b[1;31mKeyboardInterrupt\u001b[0m                         Traceback (most recent call last)",
      "Cell \u001b[1;32mIn[84], line 53\u001b[0m\n\u001b[0;32m     50\u001b[0m trials \u001b[38;5;241m=\u001b[39m Trials()\n\u001b[0;32m     52\u001b[0m \u001b[38;5;66;03m# fmin()함수를 호출. max_evals지정된 횟수만큼 반복 후 목적함수의 최소값을 가지는 최적 입력값 추출. \u001b[39;00m\n\u001b[1;32m---> 53\u001b[0m best \u001b[38;5;241m=\u001b[39m \u001b[43mfmin\u001b[49m\u001b[43m(\u001b[49m\u001b[43mfn\u001b[49m\u001b[38;5;241;43m=\u001b[39;49m\u001b[43mobjective_func\u001b[49m\u001b[43m,\u001b[49m\u001b[43m \u001b[49m\u001b[43mspace\u001b[49m\u001b[38;5;241;43m=\u001b[39;49m\u001b[43mlgbm_search_space\u001b[49m\u001b[43m,\u001b[49m\u001b[43m \u001b[49m\u001b[43malgo\u001b[49m\u001b[38;5;241;43m=\u001b[39;49m\u001b[43mtpe\u001b[49m\u001b[38;5;241;43m.\u001b[39;49m\u001b[43msuggest\u001b[49m\u001b[43m,\u001b[49m\n\u001b[0;32m     54\u001b[0m \u001b[43m            \u001b[49m\u001b[43mmax_evals\u001b[49m\u001b[38;5;241;43m=\u001b[39;49m\u001b[38;5;241;43m50\u001b[39;49m\u001b[43m,\u001b[49m\u001b[43m \u001b[49m\u001b[38;5;66;43;03m# 최대 반복 횟수를 지정합니다.\u001b[39;49;00m\n\u001b[0;32m     55\u001b[0m \u001b[43m            \u001b[49m\u001b[43mtrials\u001b[49m\u001b[38;5;241;43m=\u001b[39;49m\u001b[43mtrials\u001b[49m\u001b[43m,\u001b[49m\u001b[43m \u001b[49m\u001b[43mrstate\u001b[49m\u001b[38;5;241;43m=\u001b[39;49m\u001b[43mnp\u001b[49m\u001b[38;5;241;43m.\u001b[39;49m\u001b[43mrandom\u001b[49m\u001b[38;5;241;43m.\u001b[39;49m\u001b[43mdefault_rng\u001b[49m\u001b[43m(\u001b[49m\u001b[43mseed\u001b[49m\u001b[38;5;241;43m=\u001b[39;49m\u001b[38;5;241;43m30\u001b[39;49m\u001b[43m)\u001b[49m\u001b[43m)\u001b[49m\n\u001b[0;32m     57\u001b[0m \u001b[38;5;28mprint\u001b[39m(\u001b[38;5;124m'\u001b[39m\u001b[38;5;124mbest:\u001b[39m\u001b[38;5;124m'\u001b[39m, best)\n\u001b[0;32m     59\u001b[0m lgbm_clf \u001b[38;5;241m=\u001b[39m  LGBMClassifier(n_estimators\u001b[38;5;241m=\u001b[39m\u001b[38;5;241m500\u001b[39m, num_leaves\u001b[38;5;241m=\u001b[39m\u001b[38;5;28mint\u001b[39m(best[\u001b[38;5;124m'\u001b[39m\u001b[38;5;124mnum_leaves\u001b[39m\u001b[38;5;124m'\u001b[39m]),\n\u001b[0;32m     60\u001b[0m                            max_depth\u001b[38;5;241m=\u001b[39m\u001b[38;5;28mint\u001b[39m(best[\u001b[38;5;124m'\u001b[39m\u001b[38;5;124mmax_depth\u001b[39m\u001b[38;5;124m'\u001b[39m]),\n\u001b[0;32m     61\u001b[0m                            min_child_samples\u001b[38;5;241m=\u001b[39m\u001b[38;5;28mint\u001b[39m(best[\u001b[38;5;124m'\u001b[39m\u001b[38;5;124mmin_child_samples\u001b[39m\u001b[38;5;124m'\u001b[39m]), \n\u001b[0;32m     62\u001b[0m                            subsample\u001b[38;5;241m=\u001b[39m\u001b[38;5;28mround\u001b[39m(best[\u001b[38;5;124m'\u001b[39m\u001b[38;5;124msubsample\u001b[39m\u001b[38;5;124m'\u001b[39m], \u001b[38;5;241m5\u001b[39m),\n\u001b[0;32m     63\u001b[0m                            learning_rate\u001b[38;5;241m=\u001b[39m\u001b[38;5;28mround\u001b[39m(best[\u001b[38;5;124m'\u001b[39m\u001b[38;5;124mlearning_rate\u001b[39m\u001b[38;5;124m'\u001b[39m], \u001b[38;5;241m5\u001b[39m)\n\u001b[0;32m     64\u001b[0m                           )\n",
      "File \u001b[1;32m~\\anaconda3\\lib\\site-packages\\hyperopt\\fmin.py:540\u001b[0m, in \u001b[0;36mfmin\u001b[1;34m(fn, space, algo, max_evals, timeout, loss_threshold, trials, rstate, allow_trials_fmin, pass_expr_memo_ctrl, catch_eval_exceptions, verbose, return_argmin, points_to_evaluate, max_queue_len, show_progressbar, early_stop_fn, trials_save_file)\u001b[0m\n\u001b[0;32m    537\u001b[0m     fn \u001b[38;5;241m=\u001b[39m __objective_fmin_wrapper(fn)\n\u001b[0;32m    539\u001b[0m \u001b[38;5;28;01mif\u001b[39;00m allow_trials_fmin \u001b[38;5;129;01mand\u001b[39;00m \u001b[38;5;28mhasattr\u001b[39m(trials, \u001b[38;5;124m\"\u001b[39m\u001b[38;5;124mfmin\u001b[39m\u001b[38;5;124m\"\u001b[39m):\n\u001b[1;32m--> 540\u001b[0m     \u001b[38;5;28;01mreturn\u001b[39;00m \u001b[43mtrials\u001b[49m\u001b[38;5;241;43m.\u001b[39;49m\u001b[43mfmin\u001b[49m\u001b[43m(\u001b[49m\n\u001b[0;32m    541\u001b[0m \u001b[43m        \u001b[49m\u001b[43mfn\u001b[49m\u001b[43m,\u001b[49m\n\u001b[0;32m    542\u001b[0m \u001b[43m        \u001b[49m\u001b[43mspace\u001b[49m\u001b[43m,\u001b[49m\n\u001b[0;32m    543\u001b[0m \u001b[43m        \u001b[49m\u001b[43malgo\u001b[49m\u001b[38;5;241;43m=\u001b[39;49m\u001b[43malgo\u001b[49m\u001b[43m,\u001b[49m\n\u001b[0;32m    544\u001b[0m \u001b[43m        \u001b[49m\u001b[43mmax_evals\u001b[49m\u001b[38;5;241;43m=\u001b[39;49m\u001b[43mmax_evals\u001b[49m\u001b[43m,\u001b[49m\n\u001b[0;32m    545\u001b[0m \u001b[43m        \u001b[49m\u001b[43mtimeout\u001b[49m\u001b[38;5;241;43m=\u001b[39;49m\u001b[43mtimeout\u001b[49m\u001b[43m,\u001b[49m\n\u001b[0;32m    546\u001b[0m \u001b[43m        \u001b[49m\u001b[43mloss_threshold\u001b[49m\u001b[38;5;241;43m=\u001b[39;49m\u001b[43mloss_threshold\u001b[49m\u001b[43m,\u001b[49m\n\u001b[0;32m    547\u001b[0m \u001b[43m        \u001b[49m\u001b[43mmax_queue_len\u001b[49m\u001b[38;5;241;43m=\u001b[39;49m\u001b[43mmax_queue_len\u001b[49m\u001b[43m,\u001b[49m\n\u001b[0;32m    548\u001b[0m \u001b[43m        \u001b[49m\u001b[43mrstate\u001b[49m\u001b[38;5;241;43m=\u001b[39;49m\u001b[43mrstate\u001b[49m\u001b[43m,\u001b[49m\n\u001b[0;32m    549\u001b[0m \u001b[43m        \u001b[49m\u001b[43mpass_expr_memo_ctrl\u001b[49m\u001b[38;5;241;43m=\u001b[39;49m\u001b[43mpass_expr_memo_ctrl\u001b[49m\u001b[43m,\u001b[49m\n\u001b[0;32m    550\u001b[0m \u001b[43m        \u001b[49m\u001b[43mverbose\u001b[49m\u001b[38;5;241;43m=\u001b[39;49m\u001b[43mverbose\u001b[49m\u001b[43m,\u001b[49m\n\u001b[0;32m    551\u001b[0m \u001b[43m        \u001b[49m\u001b[43mcatch_eval_exceptions\u001b[49m\u001b[38;5;241;43m=\u001b[39;49m\u001b[43mcatch_eval_exceptions\u001b[49m\u001b[43m,\u001b[49m\n\u001b[0;32m    552\u001b[0m \u001b[43m        \u001b[49m\u001b[43mreturn_argmin\u001b[49m\u001b[38;5;241;43m=\u001b[39;49m\u001b[43mreturn_argmin\u001b[49m\u001b[43m,\u001b[49m\n\u001b[0;32m    553\u001b[0m \u001b[43m        \u001b[49m\u001b[43mshow_progressbar\u001b[49m\u001b[38;5;241;43m=\u001b[39;49m\u001b[43mshow_progressbar\u001b[49m\u001b[43m,\u001b[49m\n\u001b[0;32m    554\u001b[0m \u001b[43m        \u001b[49m\u001b[43mearly_stop_fn\u001b[49m\u001b[38;5;241;43m=\u001b[39;49m\u001b[43mearly_stop_fn\u001b[49m\u001b[43m,\u001b[49m\n\u001b[0;32m    555\u001b[0m \u001b[43m        \u001b[49m\u001b[43mtrials_save_file\u001b[49m\u001b[38;5;241;43m=\u001b[39;49m\u001b[43mtrials_save_file\u001b[49m\u001b[43m,\u001b[49m\n\u001b[0;32m    556\u001b[0m \u001b[43m    \u001b[49m\u001b[43m)\u001b[49m\n\u001b[0;32m    558\u001b[0m \u001b[38;5;28;01mif\u001b[39;00m trials \u001b[38;5;129;01mis\u001b[39;00m \u001b[38;5;28;01mNone\u001b[39;00m:\n\u001b[0;32m    559\u001b[0m     \u001b[38;5;28;01mif\u001b[39;00m os\u001b[38;5;241m.\u001b[39mpath\u001b[38;5;241m.\u001b[39mexists(trials_save_file):\n",
      "File \u001b[1;32m~\\anaconda3\\lib\\site-packages\\hyperopt\\base.py:671\u001b[0m, in \u001b[0;36mTrials.fmin\u001b[1;34m(self, fn, space, algo, max_evals, timeout, loss_threshold, max_queue_len, rstate, verbose, pass_expr_memo_ctrl, catch_eval_exceptions, return_argmin, show_progressbar, early_stop_fn, trials_save_file)\u001b[0m\n\u001b[0;32m    666\u001b[0m \u001b[38;5;66;03m# -- Stop-gap implementation!\u001b[39;00m\n\u001b[0;32m    667\u001b[0m \u001b[38;5;66;03m#    fmin should have been a Trials method in the first place\u001b[39;00m\n\u001b[0;32m    668\u001b[0m \u001b[38;5;66;03m#    but for now it's still sitting in another file.\u001b[39;00m\n\u001b[0;32m    669\u001b[0m \u001b[38;5;28;01mfrom\u001b[39;00m \u001b[38;5;21;01m.\u001b[39;00m\u001b[38;5;21;01mfmin\u001b[39;00m \u001b[38;5;28;01mimport\u001b[39;00m fmin\n\u001b[1;32m--> 671\u001b[0m \u001b[38;5;28;01mreturn\u001b[39;00m \u001b[43mfmin\u001b[49m\u001b[43m(\u001b[49m\n\u001b[0;32m    672\u001b[0m \u001b[43m    \u001b[49m\u001b[43mfn\u001b[49m\u001b[43m,\u001b[49m\n\u001b[0;32m    673\u001b[0m \u001b[43m    \u001b[49m\u001b[43mspace\u001b[49m\u001b[43m,\u001b[49m\n\u001b[0;32m    674\u001b[0m \u001b[43m    \u001b[49m\u001b[43malgo\u001b[49m\u001b[38;5;241;43m=\u001b[39;49m\u001b[43malgo\u001b[49m\u001b[43m,\u001b[49m\n\u001b[0;32m    675\u001b[0m \u001b[43m    \u001b[49m\u001b[43mmax_evals\u001b[49m\u001b[38;5;241;43m=\u001b[39;49m\u001b[43mmax_evals\u001b[49m\u001b[43m,\u001b[49m\n\u001b[0;32m    676\u001b[0m \u001b[43m    \u001b[49m\u001b[43mtimeout\u001b[49m\u001b[38;5;241;43m=\u001b[39;49m\u001b[43mtimeout\u001b[49m\u001b[43m,\u001b[49m\n\u001b[0;32m    677\u001b[0m \u001b[43m    \u001b[49m\u001b[43mloss_threshold\u001b[49m\u001b[38;5;241;43m=\u001b[39;49m\u001b[43mloss_threshold\u001b[49m\u001b[43m,\u001b[49m\n\u001b[0;32m    678\u001b[0m \u001b[43m    \u001b[49m\u001b[43mtrials\u001b[49m\u001b[38;5;241;43m=\u001b[39;49m\u001b[38;5;28;43mself\u001b[39;49m\u001b[43m,\u001b[49m\n\u001b[0;32m    679\u001b[0m \u001b[43m    \u001b[49m\u001b[43mrstate\u001b[49m\u001b[38;5;241;43m=\u001b[39;49m\u001b[43mrstate\u001b[49m\u001b[43m,\u001b[49m\n\u001b[0;32m    680\u001b[0m \u001b[43m    \u001b[49m\u001b[43mverbose\u001b[49m\u001b[38;5;241;43m=\u001b[39;49m\u001b[43mverbose\u001b[49m\u001b[43m,\u001b[49m\n\u001b[0;32m    681\u001b[0m \u001b[43m    \u001b[49m\u001b[43mmax_queue_len\u001b[49m\u001b[38;5;241;43m=\u001b[39;49m\u001b[43mmax_queue_len\u001b[49m\u001b[43m,\u001b[49m\n\u001b[0;32m    682\u001b[0m \u001b[43m    \u001b[49m\u001b[43mallow_trials_fmin\u001b[49m\u001b[38;5;241;43m=\u001b[39;49m\u001b[38;5;28;43;01mFalse\u001b[39;49;00m\u001b[43m,\u001b[49m\u001b[43m  \u001b[49m\u001b[38;5;66;43;03m# -- prevent recursion\u001b[39;49;00m\n\u001b[0;32m    683\u001b[0m \u001b[43m    \u001b[49m\u001b[43mpass_expr_memo_ctrl\u001b[49m\u001b[38;5;241;43m=\u001b[39;49m\u001b[43mpass_expr_memo_ctrl\u001b[49m\u001b[43m,\u001b[49m\n\u001b[0;32m    684\u001b[0m \u001b[43m    \u001b[49m\u001b[43mcatch_eval_exceptions\u001b[49m\u001b[38;5;241;43m=\u001b[39;49m\u001b[43mcatch_eval_exceptions\u001b[49m\u001b[43m,\u001b[49m\n\u001b[0;32m    685\u001b[0m \u001b[43m    \u001b[49m\u001b[43mreturn_argmin\u001b[49m\u001b[38;5;241;43m=\u001b[39;49m\u001b[43mreturn_argmin\u001b[49m\u001b[43m,\u001b[49m\n\u001b[0;32m    686\u001b[0m \u001b[43m    \u001b[49m\u001b[43mshow_progressbar\u001b[49m\u001b[38;5;241;43m=\u001b[39;49m\u001b[43mshow_progressbar\u001b[49m\u001b[43m,\u001b[49m\n\u001b[0;32m    687\u001b[0m \u001b[43m    \u001b[49m\u001b[43mearly_stop_fn\u001b[49m\u001b[38;5;241;43m=\u001b[39;49m\u001b[43mearly_stop_fn\u001b[49m\u001b[43m,\u001b[49m\n\u001b[0;32m    688\u001b[0m \u001b[43m    \u001b[49m\u001b[43mtrials_save_file\u001b[49m\u001b[38;5;241;43m=\u001b[39;49m\u001b[43mtrials_save_file\u001b[49m\u001b[43m,\u001b[49m\n\u001b[0;32m    689\u001b[0m \u001b[43m\u001b[49m\u001b[43m)\u001b[49m\n",
      "File \u001b[1;32m~\\anaconda3\\lib\\site-packages\\hyperopt\\fmin.py:586\u001b[0m, in \u001b[0;36mfmin\u001b[1;34m(fn, space, algo, max_evals, timeout, loss_threshold, trials, rstate, allow_trials_fmin, pass_expr_memo_ctrl, catch_eval_exceptions, verbose, return_argmin, points_to_evaluate, max_queue_len, show_progressbar, early_stop_fn, trials_save_file)\u001b[0m\n\u001b[0;32m    583\u001b[0m rval\u001b[38;5;241m.\u001b[39mcatch_eval_exceptions \u001b[38;5;241m=\u001b[39m catch_eval_exceptions\n\u001b[0;32m    585\u001b[0m \u001b[38;5;66;03m# next line is where the fmin is actually executed\u001b[39;00m\n\u001b[1;32m--> 586\u001b[0m \u001b[43mrval\u001b[49m\u001b[38;5;241;43m.\u001b[39;49m\u001b[43mexhaust\u001b[49m\u001b[43m(\u001b[49m\u001b[43m)\u001b[49m\n\u001b[0;32m    588\u001b[0m \u001b[38;5;28;01mif\u001b[39;00m return_argmin:\n\u001b[0;32m    589\u001b[0m     \u001b[38;5;28;01mif\u001b[39;00m \u001b[38;5;28mlen\u001b[39m(trials\u001b[38;5;241m.\u001b[39mtrials) \u001b[38;5;241m==\u001b[39m \u001b[38;5;241m0\u001b[39m:\n",
      "File \u001b[1;32m~\\anaconda3\\lib\\site-packages\\hyperopt\\fmin.py:364\u001b[0m, in \u001b[0;36mFMinIter.exhaust\u001b[1;34m(self)\u001b[0m\n\u001b[0;32m    362\u001b[0m \u001b[38;5;28;01mdef\u001b[39;00m \u001b[38;5;21mexhaust\u001b[39m(\u001b[38;5;28mself\u001b[39m):\n\u001b[0;32m    363\u001b[0m     n_done \u001b[38;5;241m=\u001b[39m \u001b[38;5;28mlen\u001b[39m(\u001b[38;5;28mself\u001b[39m\u001b[38;5;241m.\u001b[39mtrials)\n\u001b[1;32m--> 364\u001b[0m     \u001b[38;5;28;43mself\u001b[39;49m\u001b[38;5;241;43m.\u001b[39;49m\u001b[43mrun\u001b[49m\u001b[43m(\u001b[49m\u001b[38;5;28;43mself\u001b[39;49m\u001b[38;5;241;43m.\u001b[39;49m\u001b[43mmax_evals\u001b[49m\u001b[43m \u001b[49m\u001b[38;5;241;43m-\u001b[39;49m\u001b[43m \u001b[49m\u001b[43mn_done\u001b[49m\u001b[43m,\u001b[49m\u001b[43m \u001b[49m\u001b[43mblock_until_done\u001b[49m\u001b[38;5;241;43m=\u001b[39;49m\u001b[38;5;28;43mself\u001b[39;49m\u001b[38;5;241;43m.\u001b[39;49m\u001b[43masynchronous\u001b[49m\u001b[43m)\u001b[49m\n\u001b[0;32m    365\u001b[0m     \u001b[38;5;28mself\u001b[39m\u001b[38;5;241m.\u001b[39mtrials\u001b[38;5;241m.\u001b[39mrefresh()\n\u001b[0;32m    366\u001b[0m     \u001b[38;5;28;01mreturn\u001b[39;00m \u001b[38;5;28mself\u001b[39m\n",
      "File \u001b[1;32m~\\anaconda3\\lib\\site-packages\\hyperopt\\fmin.py:300\u001b[0m, in \u001b[0;36mFMinIter.run\u001b[1;34m(self, N, block_until_done)\u001b[0m\n\u001b[0;32m    297\u001b[0m     time\u001b[38;5;241m.\u001b[39msleep(\u001b[38;5;28mself\u001b[39m\u001b[38;5;241m.\u001b[39mpoll_interval_secs)\n\u001b[0;32m    298\u001b[0m \u001b[38;5;28;01melse\u001b[39;00m:\n\u001b[0;32m    299\u001b[0m     \u001b[38;5;66;03m# -- loop over trials and do the jobs directly\u001b[39;00m\n\u001b[1;32m--> 300\u001b[0m     \u001b[38;5;28;43mself\u001b[39;49m\u001b[38;5;241;43m.\u001b[39;49m\u001b[43mserial_evaluate\u001b[49m\u001b[43m(\u001b[49m\u001b[43m)\u001b[49m\n\u001b[0;32m    302\u001b[0m \u001b[38;5;28mself\u001b[39m\u001b[38;5;241m.\u001b[39mtrials\u001b[38;5;241m.\u001b[39mrefresh()\n\u001b[0;32m    303\u001b[0m \u001b[38;5;28;01mif\u001b[39;00m \u001b[38;5;28mself\u001b[39m\u001b[38;5;241m.\u001b[39mtrials_save_file \u001b[38;5;241m!=\u001b[39m \u001b[38;5;124m\"\u001b[39m\u001b[38;5;124m\"\u001b[39m:\n",
      "File \u001b[1;32m~\\anaconda3\\lib\\site-packages\\hyperopt\\fmin.py:178\u001b[0m, in \u001b[0;36mFMinIter.serial_evaluate\u001b[1;34m(self, N)\u001b[0m\n\u001b[0;32m    176\u001b[0m ctrl \u001b[38;5;241m=\u001b[39m base\u001b[38;5;241m.\u001b[39mCtrl(\u001b[38;5;28mself\u001b[39m\u001b[38;5;241m.\u001b[39mtrials, current_trial\u001b[38;5;241m=\u001b[39mtrial)\n\u001b[0;32m    177\u001b[0m \u001b[38;5;28;01mtry\u001b[39;00m:\n\u001b[1;32m--> 178\u001b[0m     result \u001b[38;5;241m=\u001b[39m \u001b[38;5;28;43mself\u001b[39;49m\u001b[38;5;241;43m.\u001b[39;49m\u001b[43mdomain\u001b[49m\u001b[38;5;241;43m.\u001b[39;49m\u001b[43mevaluate\u001b[49m\u001b[43m(\u001b[49m\u001b[43mspec\u001b[49m\u001b[43m,\u001b[49m\u001b[43m \u001b[49m\u001b[43mctrl\u001b[49m\u001b[43m)\u001b[49m\n\u001b[0;32m    179\u001b[0m \u001b[38;5;28;01mexcept\u001b[39;00m \u001b[38;5;167;01mException\u001b[39;00m \u001b[38;5;28;01mas\u001b[39;00m e:\n\u001b[0;32m    180\u001b[0m     logger\u001b[38;5;241m.\u001b[39merror(\u001b[38;5;124m\"\u001b[39m\u001b[38;5;124mjob exception: \u001b[39m\u001b[38;5;132;01m%s\u001b[39;00m\u001b[38;5;124m\"\u001b[39m \u001b[38;5;241m%\u001b[39m \u001b[38;5;28mstr\u001b[39m(e))\n",
      "File \u001b[1;32m~\\anaconda3\\lib\\site-packages\\hyperopt\\base.py:892\u001b[0m, in \u001b[0;36mDomain.evaluate\u001b[1;34m(self, config, ctrl, attach_attachments)\u001b[0m\n\u001b[0;32m    883\u001b[0m \u001b[38;5;28;01melse\u001b[39;00m:\n\u001b[0;32m    884\u001b[0m     \u001b[38;5;66;03m# -- the \"work\" of evaluating `config` can be written\u001b[39;00m\n\u001b[0;32m    885\u001b[0m     \u001b[38;5;66;03m#    either into the pyll part (self.expr)\u001b[39;00m\n\u001b[0;32m    886\u001b[0m     \u001b[38;5;66;03m#    or the normal Python part (self.fn)\u001b[39;00m\n\u001b[0;32m    887\u001b[0m     pyll_rval \u001b[38;5;241m=\u001b[39m pyll\u001b[38;5;241m.\u001b[39mrec_eval(\n\u001b[0;32m    888\u001b[0m         \u001b[38;5;28mself\u001b[39m\u001b[38;5;241m.\u001b[39mexpr,\n\u001b[0;32m    889\u001b[0m         memo\u001b[38;5;241m=\u001b[39mmemo,\n\u001b[0;32m    890\u001b[0m         print_node_on_error\u001b[38;5;241m=\u001b[39m\u001b[38;5;28mself\u001b[39m\u001b[38;5;241m.\u001b[39mrec_eval_print_node_on_error,\n\u001b[0;32m    891\u001b[0m     )\n\u001b[1;32m--> 892\u001b[0m     rval \u001b[38;5;241m=\u001b[39m \u001b[38;5;28;43mself\u001b[39;49m\u001b[38;5;241;43m.\u001b[39;49m\u001b[43mfn\u001b[49m\u001b[43m(\u001b[49m\u001b[43mpyll_rval\u001b[49m\u001b[43m)\u001b[49m\n\u001b[0;32m    894\u001b[0m \u001b[38;5;28;01mif\u001b[39;00m \u001b[38;5;28misinstance\u001b[39m(rval, (\u001b[38;5;28mfloat\u001b[39m, \u001b[38;5;28mint\u001b[39m, np\u001b[38;5;241m.\u001b[39mnumber)):\n\u001b[0;32m    895\u001b[0m     dict_rval \u001b[38;5;241m=\u001b[39m {\u001b[38;5;124m\"\u001b[39m\u001b[38;5;124mloss\u001b[39m\u001b[38;5;124m\"\u001b[39m: \u001b[38;5;28mfloat\u001b[39m(rval), \u001b[38;5;124m\"\u001b[39m\u001b[38;5;124mstatus\u001b[39m\u001b[38;5;124m\"\u001b[39m: STATUS_OK}\n",
      "Cell \u001b[1;32mIn[84], line 36\u001b[0m, in \u001b[0;36mobjective_func\u001b[1;34m(search_space)\u001b[0m\n\u001b[0;32m     33\u001b[0m X_val, y_val \u001b[38;5;241m=\u001b[39m X_train\u001b[38;5;241m.\u001b[39miloc[val_index], y_train\u001b[38;5;241m.\u001b[39miloc[val_index]\n\u001b[0;32m     35\u001b[0m \u001b[38;5;66;03m# early stopping은 30회로 설정하고 추출된 학습과 검증 데이터로 XGBClassifier 학습 수행. \u001b[39;00m\n\u001b[1;32m---> 36\u001b[0m \u001b[43mlgbm_clf\u001b[49m\u001b[38;5;241;43m.\u001b[39;49m\u001b[43mfit\u001b[49m\u001b[43m(\u001b[49m\u001b[43mX_tr\u001b[49m\u001b[43m,\u001b[49m\u001b[43m \u001b[49m\u001b[43my_tr\u001b[49m\u001b[43m,\u001b[49m\u001b[43m \u001b[49m\u001b[43mearly_stopping_rounds\u001b[49m\u001b[38;5;241;43m=\u001b[39;49m\u001b[38;5;241;43m30\u001b[39;49m\u001b[43m,\u001b[49m\u001b[43m \u001b[49m\u001b[43meval_metric\u001b[49m\u001b[38;5;241;43m=\u001b[39;49m\u001b[38;5;124;43m\"\u001b[39;49m\u001b[38;5;124;43mauc\u001b[39;49m\u001b[38;5;124;43m\"\u001b[39;49m\u001b[43m,\u001b[49m\n\u001b[0;32m     37\u001b[0m \u001b[43m   \u001b[49m\u001b[43meval_set\u001b[49m\u001b[38;5;241;43m=\u001b[39;49m\u001b[43m[\u001b[49m\u001b[43m(\u001b[49m\u001b[43mX_tr\u001b[49m\u001b[43m,\u001b[49m\u001b[43m \u001b[49m\u001b[43my_tr\u001b[49m\u001b[43m)\u001b[49m\u001b[43m,\u001b[49m\u001b[43m \u001b[49m\u001b[43m(\u001b[49m\u001b[43mX_val\u001b[49m\u001b[43m,\u001b[49m\u001b[43m \u001b[49m\u001b[43my_val\u001b[49m\u001b[43m)\u001b[49m\u001b[43m]\u001b[49m\u001b[43m)\u001b[49m\n\u001b[0;32m     39\u001b[0m \u001b[38;5;66;03m# 1로 예측한 확률값 추출후 roc auc 계산하고 평균 roc auc 계산을 위해 list에 결과값 담음.\u001b[39;00m\n\u001b[0;32m     40\u001b[0m score \u001b[38;5;241m=\u001b[39m roc_auc_score(y_val, lgbm_clf\u001b[38;5;241m.\u001b[39mpredict_proba(X_val)[:, \u001b[38;5;241m1\u001b[39m]) \n",
      "File \u001b[1;32m~\\anaconda3\\lib\\site-packages\\lightgbm\\sklearn.py:967\u001b[0m, in \u001b[0;36mLGBMClassifier.fit\u001b[1;34m(self, X, y, sample_weight, init_score, eval_set, eval_names, eval_sample_weight, eval_class_weight, eval_init_score, eval_metric, early_stopping_rounds, verbose, feature_name, categorical_feature, callbacks, init_model)\u001b[0m\n\u001b[0;32m    964\u001b[0m         \u001b[38;5;28;01melse\u001b[39;00m:\n\u001b[0;32m    965\u001b[0m             valid_sets[i] \u001b[38;5;241m=\u001b[39m (valid_x, \u001b[38;5;28mself\u001b[39m\u001b[38;5;241m.\u001b[39m_le\u001b[38;5;241m.\u001b[39mtransform(valid_y))\n\u001b[1;32m--> 967\u001b[0m \u001b[38;5;28;43msuper\u001b[39;49m\u001b[43m(\u001b[49m\u001b[43m)\u001b[49m\u001b[38;5;241;43m.\u001b[39;49m\u001b[43mfit\u001b[49m\u001b[43m(\u001b[49m\u001b[43mX\u001b[49m\u001b[43m,\u001b[49m\u001b[43m \u001b[49m\u001b[43m_y\u001b[49m\u001b[43m,\u001b[49m\u001b[43m \u001b[49m\u001b[43msample_weight\u001b[49m\u001b[38;5;241;43m=\u001b[39;49m\u001b[43msample_weight\u001b[49m\u001b[43m,\u001b[49m\u001b[43m \u001b[49m\u001b[43minit_score\u001b[49m\u001b[38;5;241;43m=\u001b[39;49m\u001b[43minit_score\u001b[49m\u001b[43m,\u001b[49m\u001b[43m \u001b[49m\u001b[43meval_set\u001b[49m\u001b[38;5;241;43m=\u001b[39;49m\u001b[43mvalid_sets\u001b[49m\u001b[43m,\u001b[49m\n\u001b[0;32m    968\u001b[0m \u001b[43m            \u001b[49m\u001b[43meval_names\u001b[49m\u001b[38;5;241;43m=\u001b[39;49m\u001b[43meval_names\u001b[49m\u001b[43m,\u001b[49m\u001b[43m \u001b[49m\u001b[43meval_sample_weight\u001b[49m\u001b[38;5;241;43m=\u001b[39;49m\u001b[43meval_sample_weight\u001b[49m\u001b[43m,\u001b[49m\n\u001b[0;32m    969\u001b[0m \u001b[43m            \u001b[49m\u001b[43meval_class_weight\u001b[49m\u001b[38;5;241;43m=\u001b[39;49m\u001b[43meval_class_weight\u001b[49m\u001b[43m,\u001b[49m\u001b[43m \u001b[49m\u001b[43meval_init_score\u001b[49m\u001b[38;5;241;43m=\u001b[39;49m\u001b[43meval_init_score\u001b[49m\u001b[43m,\u001b[49m\n\u001b[0;32m    970\u001b[0m \u001b[43m            \u001b[49m\u001b[43meval_metric\u001b[49m\u001b[38;5;241;43m=\u001b[39;49m\u001b[43meval_metric\u001b[49m\u001b[43m,\u001b[49m\u001b[43m \u001b[49m\u001b[43mearly_stopping_rounds\u001b[49m\u001b[38;5;241;43m=\u001b[39;49m\u001b[43mearly_stopping_rounds\u001b[49m\u001b[43m,\u001b[49m\n\u001b[0;32m    971\u001b[0m \u001b[43m            \u001b[49m\u001b[43mverbose\u001b[49m\u001b[38;5;241;43m=\u001b[39;49m\u001b[43mverbose\u001b[49m\u001b[43m,\u001b[49m\u001b[43m \u001b[49m\u001b[43mfeature_name\u001b[49m\u001b[38;5;241;43m=\u001b[39;49m\u001b[43mfeature_name\u001b[49m\u001b[43m,\u001b[49m\u001b[43m \u001b[49m\u001b[43mcategorical_feature\u001b[49m\u001b[38;5;241;43m=\u001b[39;49m\u001b[43mcategorical_feature\u001b[49m\u001b[43m,\u001b[49m\n\u001b[0;32m    972\u001b[0m \u001b[43m            \u001b[49m\u001b[43mcallbacks\u001b[49m\u001b[38;5;241;43m=\u001b[39;49m\u001b[43mcallbacks\u001b[49m\u001b[43m,\u001b[49m\u001b[43m \u001b[49m\u001b[43minit_model\u001b[49m\u001b[38;5;241;43m=\u001b[39;49m\u001b[43minit_model\u001b[49m\u001b[43m)\u001b[49m\n\u001b[0;32m    973\u001b[0m \u001b[38;5;28;01mreturn\u001b[39;00m \u001b[38;5;28mself\u001b[39m\n",
      "File \u001b[1;32m~\\anaconda3\\lib\\site-packages\\lightgbm\\sklearn.py:748\u001b[0m, in \u001b[0;36mLGBMModel.fit\u001b[1;34m(self, X, y, sample_weight, init_score, group, eval_set, eval_names, eval_sample_weight, eval_class_weight, eval_init_score, eval_group, eval_metric, early_stopping_rounds, verbose, feature_name, categorical_feature, callbacks, init_model)\u001b[0m\n\u001b[0;32m    745\u001b[0m evals_result \u001b[38;5;241m=\u001b[39m {}\n\u001b[0;32m    746\u001b[0m callbacks\u001b[38;5;241m.\u001b[39mappend(record_evaluation(evals_result))\n\u001b[1;32m--> 748\u001b[0m \u001b[38;5;28mself\u001b[39m\u001b[38;5;241m.\u001b[39m_Booster \u001b[38;5;241m=\u001b[39m \u001b[43mtrain\u001b[49m\u001b[43m(\u001b[49m\n\u001b[0;32m    749\u001b[0m \u001b[43m    \u001b[49m\u001b[43mparams\u001b[49m\u001b[38;5;241;43m=\u001b[39;49m\u001b[43mparams\u001b[49m\u001b[43m,\u001b[49m\n\u001b[0;32m    750\u001b[0m \u001b[43m    \u001b[49m\u001b[43mtrain_set\u001b[49m\u001b[38;5;241;43m=\u001b[39;49m\u001b[43mtrain_set\u001b[49m\u001b[43m,\u001b[49m\n\u001b[0;32m    751\u001b[0m \u001b[43m    \u001b[49m\u001b[43mnum_boost_round\u001b[49m\u001b[38;5;241;43m=\u001b[39;49m\u001b[38;5;28;43mself\u001b[39;49m\u001b[38;5;241;43m.\u001b[39;49m\u001b[43mn_estimators\u001b[49m\u001b[43m,\u001b[49m\n\u001b[0;32m    752\u001b[0m \u001b[43m    \u001b[49m\u001b[43mvalid_sets\u001b[49m\u001b[38;5;241;43m=\u001b[39;49m\u001b[43mvalid_sets\u001b[49m\u001b[43m,\u001b[49m\n\u001b[0;32m    753\u001b[0m \u001b[43m    \u001b[49m\u001b[43mvalid_names\u001b[49m\u001b[38;5;241;43m=\u001b[39;49m\u001b[43meval_names\u001b[49m\u001b[43m,\u001b[49m\n\u001b[0;32m    754\u001b[0m \u001b[43m    \u001b[49m\u001b[43mfobj\u001b[49m\u001b[38;5;241;43m=\u001b[39;49m\u001b[38;5;28;43mself\u001b[39;49m\u001b[38;5;241;43m.\u001b[39;49m\u001b[43m_fobj\u001b[49m\u001b[43m,\u001b[49m\n\u001b[0;32m    755\u001b[0m \u001b[43m    \u001b[49m\u001b[43mfeval\u001b[49m\u001b[38;5;241;43m=\u001b[39;49m\u001b[43meval_metrics_callable\u001b[49m\u001b[43m,\u001b[49m\n\u001b[0;32m    756\u001b[0m \u001b[43m    \u001b[49m\u001b[43minit_model\u001b[49m\u001b[38;5;241;43m=\u001b[39;49m\u001b[43minit_model\u001b[49m\u001b[43m,\u001b[49m\n\u001b[0;32m    757\u001b[0m \u001b[43m    \u001b[49m\u001b[43mfeature_name\u001b[49m\u001b[38;5;241;43m=\u001b[39;49m\u001b[43mfeature_name\u001b[49m\u001b[43m,\u001b[49m\n\u001b[0;32m    758\u001b[0m \u001b[43m    \u001b[49m\u001b[43mcallbacks\u001b[49m\u001b[38;5;241;43m=\u001b[39;49m\u001b[43mcallbacks\u001b[49m\n\u001b[0;32m    759\u001b[0m \u001b[43m\u001b[49m\u001b[43m)\u001b[49m\n\u001b[0;32m    761\u001b[0m \u001b[38;5;28;01mif\u001b[39;00m evals_result:\n\u001b[0;32m    762\u001b[0m     \u001b[38;5;28mself\u001b[39m\u001b[38;5;241m.\u001b[39m_evals_result \u001b[38;5;241m=\u001b[39m evals_result\n",
      "File \u001b[1;32m~\\anaconda3\\lib\\site-packages\\lightgbm\\engine.py:302\u001b[0m, in \u001b[0;36mtrain\u001b[1;34m(params, train_set, num_boost_round, valid_sets, valid_names, fobj, feval, init_model, feature_name, categorical_feature, early_stopping_rounds, evals_result, verbose_eval, learning_rates, keep_training_booster, callbacks)\u001b[0m\n\u001b[0;32m    300\u001b[0m \u001b[38;5;28;01mtry\u001b[39;00m:\n\u001b[0;32m    301\u001b[0m     \u001b[38;5;28;01mfor\u001b[39;00m cb \u001b[38;5;129;01min\u001b[39;00m callbacks_after_iter:\n\u001b[1;32m--> 302\u001b[0m         \u001b[43mcb\u001b[49m\u001b[43m(\u001b[49m\u001b[43mcallback\u001b[49m\u001b[38;5;241;43m.\u001b[39;49m\u001b[43mCallbackEnv\u001b[49m\u001b[43m(\u001b[49m\u001b[43mmodel\u001b[49m\u001b[38;5;241;43m=\u001b[39;49m\u001b[43mbooster\u001b[49m\u001b[43m,\u001b[49m\n\u001b[0;32m    303\u001b[0m \u001b[43m                                \u001b[49m\u001b[43mparams\u001b[49m\u001b[38;5;241;43m=\u001b[39;49m\u001b[43mparams\u001b[49m\u001b[43m,\u001b[49m\n\u001b[0;32m    304\u001b[0m \u001b[43m                                \u001b[49m\u001b[43miteration\u001b[49m\u001b[38;5;241;43m=\u001b[39;49m\u001b[43mi\u001b[49m\u001b[43m,\u001b[49m\n\u001b[0;32m    305\u001b[0m \u001b[43m                                \u001b[49m\u001b[43mbegin_iteration\u001b[49m\u001b[38;5;241;43m=\u001b[39;49m\u001b[43minit_iteration\u001b[49m\u001b[43m,\u001b[49m\n\u001b[0;32m    306\u001b[0m \u001b[43m                                \u001b[49m\u001b[43mend_iteration\u001b[49m\u001b[38;5;241;43m=\u001b[39;49m\u001b[43minit_iteration\u001b[49m\u001b[43m \u001b[49m\u001b[38;5;241;43m+\u001b[39;49m\u001b[43m \u001b[49m\u001b[43mnum_boost_round\u001b[49m\u001b[43m,\u001b[49m\n\u001b[0;32m    307\u001b[0m \u001b[43m                                \u001b[49m\u001b[43mevaluation_result_list\u001b[49m\u001b[38;5;241;43m=\u001b[39;49m\u001b[43mevaluation_result_list\u001b[49m\u001b[43m)\u001b[49m\u001b[43m)\u001b[49m\n\u001b[0;32m    308\u001b[0m \u001b[38;5;28;01mexcept\u001b[39;00m callback\u001b[38;5;241m.\u001b[39mEarlyStopException \u001b[38;5;28;01mas\u001b[39;00m earlyStopException:\n\u001b[0;32m    309\u001b[0m     booster\u001b[38;5;241m.\u001b[39mbest_iteration \u001b[38;5;241m=\u001b[39m earlyStopException\u001b[38;5;241m.\u001b[39mbest_iteration \u001b[38;5;241m+\u001b[39m \u001b[38;5;241m1\u001b[39m\n",
      "File \u001b[1;32m~\\anaconda3\\lib\\site-packages\\lightgbm\\callback.py:88\u001b[0m, in \u001b[0;36mlog_evaluation.<locals>._callback\u001b[1;34m(env)\u001b[0m\n\u001b[0;32m     86\u001b[0m \u001b[38;5;28;01mif\u001b[39;00m period \u001b[38;5;241m>\u001b[39m \u001b[38;5;241m0\u001b[39m \u001b[38;5;129;01mand\u001b[39;00m env\u001b[38;5;241m.\u001b[39mevaluation_result_list \u001b[38;5;129;01mand\u001b[39;00m (env\u001b[38;5;241m.\u001b[39miteration \u001b[38;5;241m+\u001b[39m \u001b[38;5;241m1\u001b[39m) \u001b[38;5;241m%\u001b[39m period \u001b[38;5;241m==\u001b[39m \u001b[38;5;241m0\u001b[39m:\n\u001b[0;32m     87\u001b[0m     result \u001b[38;5;241m=\u001b[39m \u001b[38;5;124m'\u001b[39m\u001b[38;5;130;01m\\t\u001b[39;00m\u001b[38;5;124m'\u001b[39m\u001b[38;5;241m.\u001b[39mjoin([_format_eval_result(x, show_stdv) \u001b[38;5;28;01mfor\u001b[39;00m x \u001b[38;5;129;01min\u001b[39;00m env\u001b[38;5;241m.\u001b[39mevaluation_result_list])\n\u001b[1;32m---> 88\u001b[0m     \u001b[43m_log_info\u001b[49m\u001b[43m(\u001b[49m\u001b[38;5;124;43mf\u001b[39;49m\u001b[38;5;124;43m'\u001b[39;49m\u001b[38;5;124;43m[\u001b[39;49m\u001b[38;5;132;43;01m{\u001b[39;49;00m\u001b[43menv\u001b[49m\u001b[38;5;241;43m.\u001b[39;49m\u001b[43miteration\u001b[49m\u001b[43m \u001b[49m\u001b[38;5;241;43m+\u001b[39;49m\u001b[43m \u001b[49m\u001b[38;5;241;43m1\u001b[39;49m\u001b[38;5;132;43;01m}\u001b[39;49;00m\u001b[38;5;124;43m]\u001b[39;49m\u001b[38;5;130;43;01m\\t\u001b[39;49;00m\u001b[38;5;132;43;01m{\u001b[39;49;00m\u001b[43mresult\u001b[49m\u001b[38;5;132;43;01m}\u001b[39;49;00m\u001b[38;5;124;43m'\u001b[39;49m\u001b[43m)\u001b[49m\n",
      "File \u001b[1;32m~\\anaconda3\\lib\\site-packages\\lightgbm\\basic.py:79\u001b[0m, in \u001b[0;36m_log_info\u001b[1;34m(msg)\u001b[0m\n\u001b[0;32m     78\u001b[0m \u001b[38;5;28;01mdef\u001b[39;00m \u001b[38;5;21m_log_info\u001b[39m(msg: \u001b[38;5;28mstr\u001b[39m) \u001b[38;5;241m-\u001b[39m\u001b[38;5;241m>\u001b[39m \u001b[38;5;28;01mNone\u001b[39;00m:\n\u001b[1;32m---> 79\u001b[0m     \u001b[43m_LOGGER\u001b[49m\u001b[38;5;241;43m.\u001b[39;49m\u001b[43minfo\u001b[49m\u001b[43m(\u001b[49m\u001b[43mmsg\u001b[49m\u001b[43m)\u001b[49m\n",
      "File \u001b[1;32m~\\anaconda3\\lib\\site-packages\\lightgbm\\basic.py:38\u001b[0m, in \u001b[0;36m_DummyLogger.info\u001b[1;34m(self, msg)\u001b[0m\n\u001b[0;32m     37\u001b[0m \u001b[38;5;28;01mdef\u001b[39;00m \u001b[38;5;21minfo\u001b[39m(\u001b[38;5;28mself\u001b[39m, msg: \u001b[38;5;28mstr\u001b[39m) \u001b[38;5;241m-\u001b[39m\u001b[38;5;241m>\u001b[39m \u001b[38;5;28;01mNone\u001b[39;00m:\n\u001b[1;32m---> 38\u001b[0m     \u001b[38;5;28;43mprint\u001b[39;49m\u001b[43m(\u001b[49m\u001b[43mmsg\u001b[49m\u001b[43m)\u001b[49m\n",
      "File \u001b[1;32m~\\anaconda3\\lib\\site-packages\\hyperopt\\std_out_err_redirect_tqdm.py:22\u001b[0m, in \u001b[0;36mDummyTqdmFile.write\u001b[1;34m(self, x)\u001b[0m\n\u001b[0;32m     19\u001b[0m \u001b[38;5;28;01mdef\u001b[39;00m \u001b[38;5;21mwrite\u001b[39m(\u001b[38;5;28mself\u001b[39m, x):\n\u001b[0;32m     20\u001b[0m     \u001b[38;5;66;03m# Avoid print() second call (useless \\n)\u001b[39;00m\n\u001b[0;32m     21\u001b[0m     \u001b[38;5;28;01mif\u001b[39;00m \u001b[38;5;28mlen\u001b[39m(x\u001b[38;5;241m.\u001b[39mrstrip()) \u001b[38;5;241m>\u001b[39m \u001b[38;5;241m0\u001b[39m:\n\u001b[1;32m---> 22\u001b[0m         \u001b[43mtqdm\u001b[49m\u001b[38;5;241;43m.\u001b[39;49m\u001b[43mwrite\u001b[49m\u001b[43m(\u001b[49m\u001b[43mx\u001b[49m\u001b[43m,\u001b[49m\u001b[43m \u001b[49m\u001b[43mfile\u001b[49m\u001b[38;5;241;43m=\u001b[39;49m\u001b[38;5;28;43mself\u001b[39;49m\u001b[38;5;241;43m.\u001b[39;49m\u001b[43mfile\u001b[49m\u001b[43m)\u001b[49m\n",
      "File \u001b[1;32m~\\anaconda3\\lib\\site-packages\\tqdm\\std.py:617\u001b[0m, in \u001b[0;36mtqdm.write\u001b[1;34m(cls, s, file, end, nolock)\u001b[0m\n\u001b[0;32m    615\u001b[0m \u001b[38;5;124;03m\"\"\"Print a message via tqdm (without overlap with bars).\"\"\"\u001b[39;00m\n\u001b[0;32m    616\u001b[0m fp \u001b[38;5;241m=\u001b[39m file \u001b[38;5;28;01mif\u001b[39;00m file \u001b[38;5;129;01mis\u001b[39;00m \u001b[38;5;129;01mnot\u001b[39;00m \u001b[38;5;28;01mNone\u001b[39;00m \u001b[38;5;28;01melse\u001b[39;00m sys\u001b[38;5;241m.\u001b[39mstdout\n\u001b[1;32m--> 617\u001b[0m \u001b[38;5;28;01mwith\u001b[39;00m \u001b[38;5;28mcls\u001b[39m\u001b[38;5;241m.\u001b[39mexternal_write_mode(file\u001b[38;5;241m=\u001b[39mfile, nolock\u001b[38;5;241m=\u001b[39mnolock):\n\u001b[0;32m    618\u001b[0m     \u001b[38;5;66;03m# Write the message\u001b[39;00m\n\u001b[0;32m    619\u001b[0m     fp\u001b[38;5;241m.\u001b[39mwrite(s)\n\u001b[0;32m    620\u001b[0m     fp\u001b[38;5;241m.\u001b[39mwrite(end)\n",
      "File \u001b[1;32m~\\anaconda3\\lib\\contextlib.py:142\u001b[0m, in \u001b[0;36m_GeneratorContextManager.__exit__\u001b[1;34m(self, typ, value, traceback)\u001b[0m\n\u001b[0;32m    140\u001b[0m \u001b[38;5;28;01mif\u001b[39;00m typ \u001b[38;5;129;01mis\u001b[39;00m \u001b[38;5;28;01mNone\u001b[39;00m:\n\u001b[0;32m    141\u001b[0m     \u001b[38;5;28;01mtry\u001b[39;00m:\n\u001b[1;32m--> 142\u001b[0m         \u001b[38;5;28;43mnext\u001b[39;49m\u001b[43m(\u001b[49m\u001b[38;5;28;43mself\u001b[39;49m\u001b[38;5;241;43m.\u001b[39;49m\u001b[43mgen\u001b[49m\u001b[43m)\u001b[49m\n\u001b[0;32m    143\u001b[0m     \u001b[38;5;28;01mexcept\u001b[39;00m \u001b[38;5;167;01mStopIteration\u001b[39;00m:\n\u001b[0;32m    144\u001b[0m         \u001b[38;5;28;01mreturn\u001b[39;00m \u001b[38;5;28;01mFalse\u001b[39;00m\n",
      "File \u001b[1;32m~\\anaconda3\\lib\\site-packages\\tqdm\\std.py:647\u001b[0m, in \u001b[0;36mtqdm.external_write_mode\u001b[1;34m(cls, file, nolock)\u001b[0m\n\u001b[0;32m    645\u001b[0m     \u001b[38;5;66;03m# Force refresh display of bars we cleared\u001b[39;00m\n\u001b[0;32m    646\u001b[0m     \u001b[38;5;28;01mfor\u001b[39;00m inst \u001b[38;5;129;01min\u001b[39;00m inst_cleared:\n\u001b[1;32m--> 647\u001b[0m         \u001b[43minst\u001b[49m\u001b[38;5;241;43m.\u001b[39;49m\u001b[43mrefresh\u001b[49m\u001b[43m(\u001b[49m\u001b[43mnolock\u001b[49m\u001b[38;5;241;43m=\u001b[39;49m\u001b[38;5;28;43;01mTrue\u001b[39;49;00m\u001b[43m)\u001b[49m\n\u001b[0;32m    648\u001b[0m \u001b[38;5;28;01mfinally\u001b[39;00m:\n\u001b[0;32m    649\u001b[0m     \u001b[38;5;28;01mif\u001b[39;00m \u001b[38;5;129;01mnot\u001b[39;00m nolock:\n",
      "File \u001b[1;32m~\\anaconda3\\lib\\site-packages\\tqdm\\std.py:1361\u001b[0m, in \u001b[0;36mtqdm.refresh\u001b[1;34m(self, nolock, lock_args)\u001b[0m\n\u001b[0;32m   1359\u001b[0m     \u001b[38;5;28;01melse\u001b[39;00m:\n\u001b[0;32m   1360\u001b[0m         \u001b[38;5;28mself\u001b[39m\u001b[38;5;241m.\u001b[39m_lock\u001b[38;5;241m.\u001b[39macquire()\n\u001b[1;32m-> 1361\u001b[0m \u001b[38;5;28;43mself\u001b[39;49m\u001b[38;5;241;43m.\u001b[39;49m\u001b[43mdisplay\u001b[49m\u001b[43m(\u001b[49m\u001b[43m)\u001b[49m\n\u001b[0;32m   1362\u001b[0m \u001b[38;5;28;01mif\u001b[39;00m \u001b[38;5;129;01mnot\u001b[39;00m nolock:\n\u001b[0;32m   1363\u001b[0m     \u001b[38;5;28mself\u001b[39m\u001b[38;5;241m.\u001b[39m_lock\u001b[38;5;241m.\u001b[39mrelease()\n",
      "File \u001b[1;32m~\\anaconda3\\lib\\site-packages\\tqdm\\std.py:1509\u001b[0m, in \u001b[0;36mtqdm.display\u001b[1;34m(self, msg, pos)\u001b[0m\n\u001b[0;32m   1507\u001b[0m \u001b[38;5;28;01mif\u001b[39;00m pos:\n\u001b[0;32m   1508\u001b[0m     \u001b[38;5;28mself\u001b[39m\u001b[38;5;241m.\u001b[39mmoveto(pos)\n\u001b[1;32m-> 1509\u001b[0m \u001b[38;5;28;43mself\u001b[39;49m\u001b[38;5;241;43m.\u001b[39;49m\u001b[43msp\u001b[49m\u001b[43m(\u001b[49m\u001b[38;5;28;43mself\u001b[39;49m\u001b[38;5;241;43m.\u001b[39;49m\u001b[38;5;21;43m__str__\u001b[39;49m\u001b[43m(\u001b[49m\u001b[43m)\u001b[49m\u001b[43m \u001b[49m\u001b[38;5;28;43;01mif\u001b[39;49;00m\u001b[43m \u001b[49m\u001b[43mmsg\u001b[49m\u001b[43m \u001b[49m\u001b[38;5;129;43;01mis\u001b[39;49;00m\u001b[43m \u001b[49m\u001b[38;5;28;43;01mNone\u001b[39;49;00m\u001b[43m \u001b[49m\u001b[38;5;28;43;01melse\u001b[39;49;00m\u001b[43m \u001b[49m\u001b[43mmsg\u001b[49m\u001b[43m)\u001b[49m\n\u001b[0;32m   1510\u001b[0m \u001b[38;5;28;01mif\u001b[39;00m pos:\n\u001b[0;32m   1511\u001b[0m     \u001b[38;5;28mself\u001b[39m\u001b[38;5;241m.\u001b[39mmoveto(\u001b[38;5;241m-\u001b[39mpos)\n",
      "File \u001b[1;32m~\\anaconda3\\lib\\site-packages\\tqdm\\std.py:350\u001b[0m, in \u001b[0;36mtqdm.status_printer.<locals>.print_status\u001b[1;34m(s)\u001b[0m\n\u001b[0;32m    348\u001b[0m \u001b[38;5;28;01mdef\u001b[39;00m \u001b[38;5;21mprint_status\u001b[39m(s):\n\u001b[0;32m    349\u001b[0m     len_s \u001b[38;5;241m=\u001b[39m disp_len(s)\n\u001b[1;32m--> 350\u001b[0m     \u001b[43mfp_write\u001b[49m\u001b[43m(\u001b[49m\u001b[38;5;124;43m'\u001b[39;49m\u001b[38;5;130;43;01m\\r\u001b[39;49;00m\u001b[38;5;124;43m'\u001b[39;49m\u001b[43m \u001b[49m\u001b[38;5;241;43m+\u001b[39;49m\u001b[43m \u001b[49m\u001b[43ms\u001b[49m\u001b[43m \u001b[49m\u001b[38;5;241;43m+\u001b[39;49m\u001b[43m \u001b[49m\u001b[43m(\u001b[49m\u001b[38;5;124;43m'\u001b[39;49m\u001b[38;5;124;43m \u001b[39;49m\u001b[38;5;124;43m'\u001b[39;49m\u001b[43m \u001b[49m\u001b[38;5;241;43m*\u001b[39;49m\u001b[43m \u001b[49m\u001b[38;5;28;43mmax\u001b[39;49m\u001b[43m(\u001b[49m\u001b[43mlast_len\u001b[49m\u001b[43m[\u001b[49m\u001b[38;5;241;43m0\u001b[39;49m\u001b[43m]\u001b[49m\u001b[43m \u001b[49m\u001b[38;5;241;43m-\u001b[39;49m\u001b[43m \u001b[49m\u001b[43mlen_s\u001b[49m\u001b[43m,\u001b[49m\u001b[43m \u001b[49m\u001b[38;5;241;43m0\u001b[39;49m\u001b[43m)\u001b[49m\u001b[43m)\u001b[49m\u001b[43m)\u001b[49m\n\u001b[0;32m    351\u001b[0m     last_len[\u001b[38;5;241m0\u001b[39m] \u001b[38;5;241m=\u001b[39m len_s\n",
      "File \u001b[1;32m~\\anaconda3\\lib\\site-packages\\tqdm\\std.py:344\u001b[0m, in \u001b[0;36mtqdm.status_printer.<locals>.fp_write\u001b[1;34m(s)\u001b[0m\n\u001b[0;32m    342\u001b[0m \u001b[38;5;28;01mdef\u001b[39;00m \u001b[38;5;21mfp_write\u001b[39m(s):\n\u001b[0;32m    343\u001b[0m     fp\u001b[38;5;241m.\u001b[39mwrite(_unicode(s))\n\u001b[1;32m--> 344\u001b[0m     \u001b[43mfp_flush\u001b[49m\u001b[43m(\u001b[49m\u001b[43m)\u001b[49m\n",
      "File \u001b[1;32m~\\anaconda3\\lib\\site-packages\\tqdm\\utils.py:145\u001b[0m, in \u001b[0;36mDisableOnWriteError.disable_on_exception.<locals>.inner\u001b[1;34m(*args, **kwargs)\u001b[0m\n\u001b[0;32m    143\u001b[0m \u001b[38;5;28;01mdef\u001b[39;00m \u001b[38;5;21minner\u001b[39m(\u001b[38;5;241m*\u001b[39margs, \u001b[38;5;241m*\u001b[39m\u001b[38;5;241m*\u001b[39mkwargs):\n\u001b[0;32m    144\u001b[0m     \u001b[38;5;28;01mtry\u001b[39;00m:\n\u001b[1;32m--> 145\u001b[0m         \u001b[38;5;28;01mreturn\u001b[39;00m func(\u001b[38;5;241m*\u001b[39margs, \u001b[38;5;241m*\u001b[39m\u001b[38;5;241m*\u001b[39mkwargs)\n\u001b[0;32m    146\u001b[0m     \u001b[38;5;28;01mexcept\u001b[39;00m \u001b[38;5;167;01mOSError\u001b[39;00m \u001b[38;5;28;01mas\u001b[39;00m e:\n\u001b[0;32m    147\u001b[0m         \u001b[38;5;28;01mif\u001b[39;00m e\u001b[38;5;241m.\u001b[39merrno \u001b[38;5;241m!=\u001b[39m \u001b[38;5;241m5\u001b[39m:\n",
      "File \u001b[1;32m~\\anaconda3\\lib\\site-packages\\ipykernel\\iostream.py:483\u001b[0m, in \u001b[0;36mOutStream.flush\u001b[1;34m(self)\u001b[0m\n\u001b[0;32m    472\u001b[0m \u001b[38;5;124;03m\"\"\"trigger actual zmq send\u001b[39;00m\n\u001b[0;32m    473\u001b[0m \n\u001b[0;32m    474\u001b[0m \u001b[38;5;124;03msend will happen in the background thread\u001b[39;00m\n\u001b[0;32m    475\u001b[0m \u001b[38;5;124;03m\"\"\"\u001b[39;00m\n\u001b[0;32m    476\u001b[0m \u001b[38;5;28;01mif\u001b[39;00m (\n\u001b[0;32m    477\u001b[0m     \u001b[38;5;28mself\u001b[39m\u001b[38;5;241m.\u001b[39mpub_thread\n\u001b[0;32m    478\u001b[0m     \u001b[38;5;129;01mand\u001b[39;00m \u001b[38;5;28mself\u001b[39m\u001b[38;5;241m.\u001b[39mpub_thread\u001b[38;5;241m.\u001b[39mthread \u001b[38;5;129;01mis\u001b[39;00m \u001b[38;5;129;01mnot\u001b[39;00m \u001b[38;5;28;01mNone\u001b[39;00m\n\u001b[1;32m   (...)\u001b[0m\n\u001b[0;32m    481\u001b[0m ):\n\u001b[0;32m    482\u001b[0m     \u001b[38;5;66;03m# request flush on the background thread\u001b[39;00m\n\u001b[1;32m--> 483\u001b[0m     \u001b[38;5;28;43mself\u001b[39;49m\u001b[38;5;241;43m.\u001b[39;49m\u001b[43mpub_thread\u001b[49m\u001b[38;5;241;43m.\u001b[39;49m\u001b[43mschedule\u001b[49m\u001b[43m(\u001b[49m\u001b[38;5;28;43mself\u001b[39;49m\u001b[38;5;241;43m.\u001b[39;49m\u001b[43m_flush\u001b[49m\u001b[43m)\u001b[49m\n\u001b[0;32m    484\u001b[0m     \u001b[38;5;66;03m# wait for flush to actually get through, if we can.\u001b[39;00m\n\u001b[0;32m    485\u001b[0m     evt \u001b[38;5;241m=\u001b[39m threading\u001b[38;5;241m.\u001b[39mEvent()\n",
      "File \u001b[1;32m~\\anaconda3\\lib\\site-packages\\ipykernel\\iostream.py:210\u001b[0m, in \u001b[0;36mIOPubThread.schedule\u001b[1;34m(self, f)\u001b[0m\n\u001b[0;32m    208\u001b[0m     \u001b[38;5;28mself\u001b[39m\u001b[38;5;241m.\u001b[39m_events\u001b[38;5;241m.\u001b[39mappend(f)\n\u001b[0;32m    209\u001b[0m     \u001b[38;5;66;03m# wake event thread (message content is ignored)\u001b[39;00m\n\u001b[1;32m--> 210\u001b[0m     \u001b[38;5;28;43mself\u001b[39;49m\u001b[38;5;241;43m.\u001b[39;49m\u001b[43m_event_pipe\u001b[49m\u001b[38;5;241;43m.\u001b[39;49m\u001b[43msend\u001b[49m\u001b[43m(\u001b[49m\u001b[38;5;124;43mb\u001b[39;49m\u001b[38;5;124;43m\"\u001b[39;49m\u001b[38;5;124;43m\"\u001b[39;49m\u001b[43m)\u001b[49m\n\u001b[0;32m    211\u001b[0m \u001b[38;5;28;01melse\u001b[39;00m:\n\u001b[0;32m    212\u001b[0m     f()\n",
      "File \u001b[1;32m~\\anaconda3\\lib\\site-packages\\zmq\\sugar\\socket.py:618\u001b[0m, in \u001b[0;36mSocket.send\u001b[1;34m(self, data, flags, copy, track, routing_id, group)\u001b[0m\n\u001b[0;32m    611\u001b[0m         data \u001b[38;5;241m=\u001b[39m zmq\u001b[38;5;241m.\u001b[39mFrame(\n\u001b[0;32m    612\u001b[0m             data,\n\u001b[0;32m    613\u001b[0m             track\u001b[38;5;241m=\u001b[39mtrack,\n\u001b[0;32m    614\u001b[0m             copy\u001b[38;5;241m=\u001b[39mcopy \u001b[38;5;129;01mor\u001b[39;00m \u001b[38;5;28;01mNone\u001b[39;00m,\n\u001b[0;32m    615\u001b[0m             copy_threshold\u001b[38;5;241m=\u001b[39m\u001b[38;5;28mself\u001b[39m\u001b[38;5;241m.\u001b[39mcopy_threshold,\n\u001b[0;32m    616\u001b[0m         )\n\u001b[0;32m    617\u001b[0m     data\u001b[38;5;241m.\u001b[39mgroup \u001b[38;5;241m=\u001b[39m group\n\u001b[1;32m--> 618\u001b[0m \u001b[38;5;28;01mreturn\u001b[39;00m \u001b[38;5;28;43msuper\u001b[39;49m\u001b[43m(\u001b[49m\u001b[43m)\u001b[49m\u001b[38;5;241;43m.\u001b[39;49m\u001b[43msend\u001b[49m\u001b[43m(\u001b[49m\u001b[43mdata\u001b[49m\u001b[43m,\u001b[49m\u001b[43m \u001b[49m\u001b[43mflags\u001b[49m\u001b[38;5;241;43m=\u001b[39;49m\u001b[43mflags\u001b[49m\u001b[43m,\u001b[49m\u001b[43m \u001b[49m\u001b[43mcopy\u001b[49m\u001b[38;5;241;43m=\u001b[39;49m\u001b[43mcopy\u001b[49m\u001b[43m,\u001b[49m\u001b[43m \u001b[49m\u001b[43mtrack\u001b[49m\u001b[38;5;241;43m=\u001b[39;49m\u001b[43mtrack\u001b[49m\u001b[43m)\u001b[49m\n",
      "File \u001b[1;32mzmq\\backend\\cython\\socket.pyx:740\u001b[0m, in \u001b[0;36mzmq.backend.cython.socket.Socket.send\u001b[1;34m()\u001b[0m\n",
      "File \u001b[1;32mzmq\\backend\\cython\\socket.pyx:787\u001b[0m, in \u001b[0;36mzmq.backend.cython.socket.Socket.send\u001b[1;34m()\u001b[0m\n",
      "File \u001b[1;32mzmq\\backend\\cython\\socket.pyx:244\u001b[0m, in \u001b[0;36mzmq.backend.cython.socket._send_copy\u001b[1;34m()\u001b[0m\n",
      "File \u001b[1;32m~\\anaconda3\\lib\\site-packages\\zmq\\backend\\cython\\checkrc.pxd:13\u001b[0m, in \u001b[0;36mzmq.backend.cython.checkrc._check_rc\u001b[1;34m()\u001b[0m\n",
      "\u001b[1;31mKeyboardInterrupt\u001b[0m: "
     ]
    }
   ],
   "source": [
    "from lightgbm import LGBMClassifier\n",
    "\n",
    "lgbm_clf = LGBMClassifier(n_estimators=500)\n",
    "\n",
    "eval_set=[(X_tr, y_tr), (X_val, y_val)]\n",
    "lgbm_clf.fit(X_tr, y_tr, early_stopping_rounds=100, eval_metric=\"auc\", eval_set=eval_set)\n",
    "\n",
    "lgbm_roc_score = roc_auc_score(y_test, lgbm_clf.predict_proba(X_test)[:,1])\n",
    "print('ROC AUC: {0:.4f}'.format(lgbm_roc_score))\n",
    "\n",
    "lgbm_search_space = {'num_leaves': hp.quniform('num_leaves', 32, 64, 1),\n",
    "                     'max_depth': hp.quniform('max_depth', 100, 160, 1),\n",
    "                     'min_child_samples': hp.quniform('min_child_samples', 60, 100, 1),\n",
    "                     'subsample': hp.uniform('subsample', 0.7, 1),\n",
    "                     'learning_rate': hp.uniform('learning_rate', 0.01, 0.2)\n",
    "                    }\n",
    "\n",
    "def objective_func(search_space):\n",
    "    lgbm_clf =  LGBMClassifier(n_estimators=100, num_leaves=int(search_space['num_leaves']),\n",
    "                               max_depth=int(search_space['max_depth']),\n",
    "                               min_child_samples=int(search_space['min_child_samples']), \n",
    "                               subsample=search_space['subsample'],\n",
    "                               learning_rate=search_space['learning_rate'])\n",
    "    # 3개 k-fold 방식으로 평가된 roc_auc 지표를 담는 list\n",
    "    roc_auc_list = []\n",
    "    \n",
    "    # 3개 k-fold방식 적용 \n",
    "    kf = KFold(n_splits=3)\n",
    "    # X_train을 다시 학습과 검증용 데이터로 분리\n",
    "    for tr_index, val_index in kf.split(X_train):\n",
    "        # kf.split(X_train)으로 추출된 학습과 검증 index값으로 학습과 검증 데이터 세트 분리 \n",
    "        X_tr, y_tr = X_train.iloc[tr_index], y_train.iloc[tr_index]\n",
    "        X_val, y_val = X_train.iloc[val_index], y_train.iloc[val_index]\n",
    "\n",
    "        # early stopping은 30회로 설정하고 추출된 학습과 검증 데이터로 XGBClassifier 학습 수행. \n",
    "        lgbm_clf.fit(X_tr, y_tr, early_stopping_rounds=30, eval_metric=\"auc\",\n",
    "           eval_set=[(X_tr, y_tr), (X_val, y_val)])\n",
    "\n",
    "        # 1로 예측한 확률값 추출후 roc auc 계산하고 평균 roc auc 계산을 위해 list에 결과값 담음.\n",
    "        score = roc_auc_score(y_val, lgbm_clf.predict_proba(X_val)[:, 1]) \n",
    "        roc_auc_list.append(score)\n",
    "    \n",
    "    # 3개 k-fold로 계산된 roc_auc값의 평균값을 반환하되, \n",
    "    # HyperOpt는 목적함수의 최소값을 위한 입력값을 찾으므로 -1을 곱한 뒤 반환.\n",
    "    return -1*np.mean(roc_auc_list)\n",
    "\n",
    "\n",
    "from hyperopt import fmin, tpe, Trials\n",
    "\n",
    "trials = Trials()\n",
    "\n",
    "# fmin()함수를 호출. max_evals지정된 횟수만큼 반복 후 목적함수의 최소값을 가지는 최적 입력값 추출. \n",
    "best = fmin(fn=objective_func, space=lgbm_search_space, algo=tpe.suggest,\n",
    "            max_evals=50, # 최대 반복 횟수를 지정합니다.\n",
    "            trials=trials, rstate=np.random.default_rng(seed=30))\n",
    "\n",
    "print('best:', best)\n",
    "\n",
    "lgbm_clf =  LGBMClassifier(n_estimators=500, num_leaves=int(best['num_leaves']),\n",
    "                           max_depth=int(best['max_depth']),\n",
    "                           min_child_samples=int(best['min_child_samples']), \n",
    "                           subsample=round(best['subsample'], 5),\n",
    "                           learning_rate=round(best['learning_rate'], 5)\n",
    "                          )\n",
    "\n",
    "# evaluation metric을 auc로, early stopping은 100 으로 설정하고 학습 수행. \n",
    "lgbm_clf.fit(X_tr, y_tr, early_stopping_rounds=100, \n",
    "            eval_metric=\"auc\",eval_set=[(X_tr, y_tr), (X_val, y_val)])\n",
    "\n",
    "lgbm_roc_score = roc_auc_score(y_test, lgbm_clf.predict_proba(X_test)[:,1])\n",
    "print('ROC AUC: {0:.4f}'.format(lgbm_roc_score)) "
   ]
  },
  {
   "cell_type": "code",
   "execution_count": null,
   "id": "b8ca1644-8737-40fc-a815-abb0abd1312d",
   "metadata": {},
   "outputs": [],
   "source": [
    "캐글 신용카드 사기 검출"
   ]
  },
  {
   "cell_type": "code",
   "execution_count": 141,
   "id": "64430c02-7e83-4316-9cb1-5f5273e637dc",
   "metadata": {
    "tags": []
   },
   "outputs": [],
   "source": [
    "df = pd.read_csv('creditcard.csv')"
   ]
  },
  {
   "cell_type": "code",
   "execution_count": 142,
   "id": "3a68d3c5-8fae-458b-8727-0b798975af62",
   "metadata": {},
   "outputs": [],
   "source": [
    "# class 칼럼이 우리의 타겟\n",
    "df.drop(\"Time\", axis = 1 ,inplace = True)\n",
    "X = X_features = df.iloc[:, :-1]\n",
    "y = y_labels = df.iloc[:, -1] "
   ]
  },
  {
   "cell_type": "code",
   "execution_count": 143,
   "id": "b3d5b506-e4c1-4223-a91f-d2097ba4c778",
   "metadata": {},
   "outputs": [],
   "source": [
    "X_train, X_test, y_train, y_test = train_test_split(X, y, test_size=0.3, random_state=0)"
   ]
  },
  {
   "cell_type": "code",
   "execution_count": 144,
   "id": "cfe01515-0f22-4090-a329-6fe4aa248edc",
   "metadata": {},
   "outputs": [
    {
     "data": {
      "text/plain": [
       "0    0.998269\n",
       "1    0.001731\n",
       "Name: Class, dtype: float64"
      ]
     },
     "execution_count": 144,
     "metadata": {},
     "output_type": "execute_result"
    }
   ],
   "source": [
    "y_train.value_counts() / len(y_train)"
   ]
  },
  {
   "cell_type": "code",
   "execution_count": 145,
   "id": "52e4eef9-652d-461b-ac74-49b90c604c60",
   "metadata": {},
   "outputs": [
    {
     "data": {
      "text/plain": [
       "0    0.99828\n",
       "1    0.00172\n",
       "Name: Class, dtype: float64"
      ]
     },
     "execution_count": 145,
     "metadata": {},
     "output_type": "execute_result"
    }
   ],
   "source": [
    "y_test.value_counts() / len(y_test)"
   ]
  },
  {
   "cell_type": "code",
   "execution_count": 149,
   "id": "af3c0cc1-e6c5-47b8-bfca-cf239460b136",
   "metadata": {},
   "outputs": [],
   "source": [
    "def get_clf_eval(y_test , pred):\n",
    "    confusion = confusion_matrix(y_test, pred)\n",
    "    accuracy = accuracy_score(y_test , pred)\n",
    "    precision = precision_score(y_test , pred)\n",
    "    recall = recall_score(y_test , pred)\n",
    "    auc = roc_auc_score(y_test, pred)\n",
    "    \n",
    "    print('오차 행렬')\n",
    "    print(confusion)\n",
    "    print('정확도: {0:.4f}, 정밀도: {1:.4f}, 재현율: {2:.4f}, AUC:{3:.4f}'.format(accuracy , precision ,recall, auc)) "
   ]
  },
  {
   "cell_type": "code",
   "execution_count": 150,
   "id": "931640b1-8397-4dca-9b40-a2ee1ef77218",
   "metadata": {},
   "outputs": [],
   "source": [
    "from sklearn.linear_model import LogisticRegression\n",
    "\n",
    "lr_clf = LogisticRegression(max_iter=1000)\n",
    "lr_clf.fit(X_train, y_train)\n",
    "lr_pred = lr_clf.predict(X_test)\n",
    "lr_pred_proba = lr_clf.predict_proba(X_test)[:,1]"
   ]
  },
  {
   "cell_type": "code",
   "execution_count": 151,
   "id": "07758766-7dc4-4ae3-8e5e-48c80f866cd6",
   "metadata": {},
   "outputs": [
    {
     "name": "stdout",
     "output_type": "stream",
     "text": [
      "오차 행렬\n",
      "[[85284    12]\n",
      " [   56    91]]\n",
      "정확도: 0.9992, 정밀도: 0.8835, 재현율: 0.6190, AUC:0.8095\n"
     ]
    }
   ],
   "source": [
    "get_clf_eval(y_test,lr_pred)"
   ]
  },
  {
   "cell_type": "code",
   "execution_count": 133,
   "id": "4791eaf4-0a3d-4e0b-bfbb-b7d21f35f661",
   "metadata": {},
   "outputs": [],
   "source": [
    "from sklearn.metrics import confusion_matrix, accuracy_score, precision_score, recall_score, f1_score, roc_auc_score "
   ]
  },
  {
   "cell_type": "code",
   "execution_count": null,
   "id": "ea6955e5-908b-417c-9a8e-c0f7b298d4e9",
   "metadata": {},
   "outputs": [],
   "source": []
  }
 ],
 "metadata": {
  "kernelspec": {
   "display_name": "Python 3 (ipykernel)",
   "language": "python",
   "name": "python3"
  },
  "language_info": {
   "codemirror_mode": {
    "name": "ipython",
    "version": 3
   },
   "file_extension": ".py",
   "mimetype": "text/x-python",
   "name": "python",
   "nbconvert_exporter": "python",
   "pygments_lexer": "ipython3",
   "version": "3.10.9"
  }
 },
 "nbformat": 4,
 "nbformat_minor": 5
}
