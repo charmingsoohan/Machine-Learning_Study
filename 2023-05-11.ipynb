{
 "cells": [
  {
   "cell_type": "markdown",
   "id": "5d07b9c4-7887-411e-bba3-9ccd07406387",
   "metadata": {},
   "source": [
    "#### 2023-05-11"
   ]
  },
  {
   "cell_type": "markdown",
   "id": "0b421001-6299-459c-96ec-bbe940010203",
   "metadata": {},
   "source": [
    "##### 1교시"
   ]
  },
  {
   "cell_type": "code",
   "execution_count": 1,
   "id": "b9552ae8-275b-4dfa-ad68-96e07d6f5359",
   "metadata": {},
   "outputs": [
    {
     "name": "stdout",
     "output_type": "stream",
     "text": [
      "happy swim apple\n",
      "fall busy cry\n"
     ]
    }
   ],
   "source": [
    "from nltk.stem import WordNetLemmatizer\n",
    "import nltk\n",
    "nltk.download\n",
    "('wordnet')\n",
    "import nltk\n",
    "nltk.download\n",
    "('omw-1.4')\n",
    "\n",
    "lemma = WordNetLemmatizer()\n",
    "print(lemma.lemmatize('happiest','a'),lemma.lemmatize('swam','v'),lemma.lemmatize('apples','n'))\n",
    "print(lemma.lemmatize('fallen','v'),lemma.lemmatize('busier','a'),lemma.lemmatize('cries','v')) "
   ]
  },
  {
   "cell_type": "code",
   "execution_count": 9,
   "id": "ecca3c00-082c-4896-9690-26ce4c19cf99",
   "metadata": {},
   "outputs": [
    {
     "name": "stdout",
     "output_type": "stream",
     "text": [
      "happy\n",
      "swim\n",
      "apple\n",
      "fall\n",
      "busy\n",
      "cry\n"
     ]
    }
   ],
   "source": [
    "words = {'happiest':'a','swam':'v','apples':'n','fallen':'v','busier':'a','cries':'v'}\n",
    "for i,k in words.items():\n",
    "    print(lemma.lemmatize(i,k))"
   ]
  },
  {
   "cell_type": "code",
   "execution_count": null,
   "id": "37ea1d14-e261-4472-abc9-0a2a59b46417",
   "metadata": {},
   "outputs": [],
   "source": [
    "# pipeline 내에 벡터화 도구들을 나열할 때, 어떤 자료구조여야 하는가?\n",
    "리스트 내 튜플, 튜플의 요소는 (객체명, 클래스명(하이퍼 파라미터))"
   ]
  },
  {
   "cell_type": "code",
   "execution_count": null,
   "id": "dd3b405f-c736-45b2-addb-f7b4066ab8c9",
   "metadata": {},
   "outputs": [],
   "source": [
    "# 유사도를 측정하는 방법은?\n",
    "코사인 유사도"
   ]
  },
  {
   "cell_type": "code",
   "execution_count": 20,
   "id": "0937dbb3-ccd9-4596-9649-b16a4b7b192d",
   "metadata": {},
   "outputs": [
    {
     "data": {
      "text/plain": [
       "0.7761140001162655"
      ]
     },
     "execution_count": 20,
     "metadata": {},
     "output_type": "execute_result"
    }
   ],
   "source": [
    "import numpy as np\n",
    "# a = (3,4), b = (4,1)\n",
    "a = np.array((3,4))\n",
    "b = np.array((4,1))\n",
    "c = a@b\n",
    "d = np.sqrt(sum(np.square(b)))*np.sqrt(sum(np.square(a)))\n",
    "c/d"
   ]
  },
  {
   "cell_type": "code",
   "execution_count": null,
   "id": "e0e6cf66-7128-4eb2-a622-9c97a74d43f2",
   "metadata": {},
   "outputs": [],
   "source": [
    "# TF-IDF식을 한글로 서술하시오\n",
    "TF * IDF\n",
    "TF : Term Frequency\n",
    "IDF : inverse DF = log(총 문서개수 / 특정 단어가 나타난 문서의 개수+1)\n",
    "DF : Document Frequency (그 단어가 나타난 문서의 개수 / 총문서 개수)"
   ]
  },
  {
   "cell_type": "markdown",
   "id": "0725a522-30df-4286-b063-f6c4756e9847",
   "metadata": {},
   "source": [
    "##### 2교시"
   ]
  },
  {
   "cell_type": "code",
   "execution_count": null,
   "id": "7651bf21-2b9b-462c-9c34-9a56aa9a0fb0",
   "metadata": {},
   "outputs": [],
   "source": [
    "pos : 품사\n",
    "semantic : 문맥\n",
    "영어 -> 단어쪼개기 -> stemmoing -> 숫자 -> 빈도세기 -> 학습..."
   ]
  },
  {
   "cell_type": "code",
   "execution_count": null,
   "id": "66c356c8-65fa-46ff-aa5e-2370a7c2ff7d",
   "metadata": {},
   "outputs": [],
   "source": [
    "KoNLPy 형태소 : 단어로서 의미를 가지는 최소 단위 "
   ]
  },
  {
   "cell_type": "code",
   "execution_count": 1,
   "id": "558ce1cb-e7f9-4ef1-9086-631dc6d65ba5",
   "metadata": {},
   "outputs": [
    {
     "name": "stdout",
     "output_type": "stream",
     "text": [
      "Requirement already satisfied: konlpy in /Users/sonsoohan/anaconda3/lib/python3.10/site-packages (0.6.0)\n",
      "Requirement already satisfied: lxml>=4.1.0 in /Users/sonsoohan/anaconda3/lib/python3.10/site-packages (from konlpy) (4.9.1)\n",
      "Requirement already satisfied: numpy>=1.6 in /Users/sonsoohan/anaconda3/lib/python3.10/site-packages (from konlpy) (1.22.3)\n",
      "Requirement already satisfied: JPype1>=0.7.0 in /Users/sonsoohan/anaconda3/lib/python3.10/site-packages (from konlpy) (1.4.1)\n",
      "Requirement already satisfied: packaging in /Users/sonsoohan/anaconda3/lib/python3.10/site-packages (from JPype1>=0.7.0->konlpy) (22.0)\n",
      "Note: you may need to restart the kernel to use updated packages.\n"
     ]
    }
   ],
   "source": [
    "pip install konlpy"
   ]
  },
  {
   "cell_type": "code",
   "execution_count": 2,
   "id": "7d133288-5566-40c0-b721-57bcb2bddf71",
   "metadata": {},
   "outputs": [],
   "source": [
    "import konlpy"
   ]
  },
  {
   "cell_type": "code",
   "execution_count": 31,
   "id": "b49596eb-4afc-4e5d-8a7c-89670b55d08f",
   "metadata": {},
   "outputs": [],
   "source": [
    "import os \n",
    "os.getcwd()\n",
    "os.chdir('/Users/sonsoohan/Downloads/수업자료/ml-latest-small')"
   ]
  },
  {
   "cell_type": "code",
   "execution_count": 2,
   "id": "3d0a80b8-295b-43ab-ab78-55df5f4e6c55",
   "metadata": {},
   "outputs": [
    {
     "data": {
      "text/html": [
       "<div>\n",
       "<style scoped>\n",
       "    .dataframe tbody tr th:only-of-type {\n",
       "        vertical-align: middle;\n",
       "    }\n",
       "\n",
       "    .dataframe tbody tr th {\n",
       "        vertical-align: top;\n",
       "    }\n",
       "\n",
       "    .dataframe thead th {\n",
       "        text-align: right;\n",
       "    }\n",
       "</style>\n",
       "<table border=\"1\" class=\"dataframe\">\n",
       "  <thead>\n",
       "    <tr style=\"text-align: right;\">\n",
       "      <th></th>\n",
       "      <th>id</th>\n",
       "      <th>document</th>\n",
       "      <th>label</th>\n",
       "    </tr>\n",
       "  </thead>\n",
       "  <tbody>\n",
       "    <tr>\n",
       "      <th>0</th>\n",
       "      <td>9976970</td>\n",
       "      <td>아 더빙.. 진짜 짜증나네요 목소리</td>\n",
       "      <td>0</td>\n",
       "    </tr>\n",
       "    <tr>\n",
       "      <th>1</th>\n",
       "      <td>3819312</td>\n",
       "      <td>흠...포스터보고 초딩영화줄....오버연기조차 가볍지 않구나</td>\n",
       "      <td>1</td>\n",
       "    </tr>\n",
       "    <tr>\n",
       "      <th>2</th>\n",
       "      <td>10265843</td>\n",
       "      <td>너무재밓었다그래서보는것을추천한다</td>\n",
       "      <td>0</td>\n",
       "    </tr>\n",
       "  </tbody>\n",
       "</table>\n",
       "</div>"
      ],
      "text/plain": [
       "         id                           document  label\n",
       "0   9976970                아 더빙.. 진짜 짜증나네요 목소리      0\n",
       "1   3819312  흠...포스터보고 초딩영화줄....오버연기조차 가볍지 않구나      1\n",
       "2  10265843                  너무재밓었다그래서보는것을추천한다      0"
      ]
     },
     "execution_count": 2,
     "metadata": {},
     "output_type": "execute_result"
    }
   ],
   "source": [
    "import pandas as pd\n",
    "train_df = pd.read_csv('ratings_train.txt',sep='\\t')\n",
    "train_df.head(3)"
   ]
  },
  {
   "cell_type": "code",
   "execution_count": 3,
   "id": "d285a5c4-7ae6-491a-8d42-478ac91dd0c1",
   "metadata": {},
   "outputs": [
    {
     "data": {
      "text/html": [
       "<div>\n",
       "<style scoped>\n",
       "    .dataframe tbody tr th:only-of-type {\n",
       "        vertical-align: middle;\n",
       "    }\n",
       "\n",
       "    .dataframe tbody tr th {\n",
       "        vertical-align: top;\n",
       "    }\n",
       "\n",
       "    .dataframe thead th {\n",
       "        text-align: right;\n",
       "    }\n",
       "</style>\n",
       "<table border=\"1\" class=\"dataframe\">\n",
       "  <thead>\n",
       "    <tr style=\"text-align: right;\">\n",
       "      <th></th>\n",
       "      <th>id</th>\n",
       "      <th>document</th>\n",
       "      <th>label</th>\n",
       "    </tr>\n",
       "  </thead>\n",
       "  <tbody>\n",
       "    <tr>\n",
       "      <th>0</th>\n",
       "      <td>6270596</td>\n",
       "      <td>굳 ㅋ</td>\n",
       "      <td>1</td>\n",
       "    </tr>\n",
       "    <tr>\n",
       "      <th>1</th>\n",
       "      <td>9274899</td>\n",
       "      <td>GDNTOPCLASSINTHECLUB</td>\n",
       "      <td>0</td>\n",
       "    </tr>\n",
       "    <tr>\n",
       "      <th>2</th>\n",
       "      <td>8544678</td>\n",
       "      <td>뭐야 이 평점들은.... 나쁘진 않지만 10점 짜리는 더더욱 아니잖아</td>\n",
       "      <td>0</td>\n",
       "    </tr>\n",
       "  </tbody>\n",
       "</table>\n",
       "</div>"
      ],
      "text/plain": [
       "        id                                document  label\n",
       "0  6270596                                     굳 ㅋ      1\n",
       "1  9274899                    GDNTOPCLASSINTHECLUB      0\n",
       "2  8544678  뭐야 이 평점들은.... 나쁘진 않지만 10점 짜리는 더더욱 아니잖아      0"
      ]
     },
     "execution_count": 3,
     "metadata": {},
     "output_type": "execute_result"
    }
   ],
   "source": [
    "test_df = pd.read_csv('ratings_test.txt',sep='\\t')\n",
    "test_df.head(3)"
   ]
  },
  {
   "cell_type": "code",
   "execution_count": 4,
   "id": "e237fc50-b9da-4273-b554-3354dfca2ec8",
   "metadata": {},
   "outputs": [],
   "source": [
    "train_df = train_df.fillna('')\n",
    "test_df = test_df.fillna('')"
   ]
  },
  {
   "cell_type": "code",
   "execution_count": 5,
   "id": "64eec73e-8dc0-482d-9c35-1ad5af180657",
   "metadata": {},
   "outputs": [],
   "source": [
    "import re\n",
    "train_df['document'] = train_df['document'].apply(lambda x: re.sub(r'\\d+','',x))\n",
    "test_df['document'] = test_df['document'].apply(lambda x: re.sub(r'\\d+','',x))"
   ]
  },
  {
   "cell_type": "code",
   "execution_count": 6,
   "id": "7846d0b7-ecf5-4195-8d65-723979394078",
   "metadata": {},
   "outputs": [],
   "source": [
    "# train_df의 10%만 뽑기\n",
    "train_df = train_df.sample(frac=0.1)\n",
    "test_df = train_df.sample(frac=0.1)"
   ]
  },
  {
   "cell_type": "markdown",
   "id": "cefdb970-896d-4c9d-81fe-644e451119a6",
   "metadata": {},
   "source": [
    "##### 3교시"
   ]
  },
  {
   "cell_type": "code",
   "execution_count": 8,
   "id": "c7aa88d1-98d4-4206-b4d7-0ac77fecadd2",
   "metadata": {},
   "outputs": [],
   "source": [
    "from konlpy.tag import Twitter\n",
    "\n",
    "twitter = Twitter()\n",
    "def tw_tokenizer(text):\n",
    "    # 입력 인자로 들어온 text 를 형태소 단어로 토큰화 하여 list 객체 반환\n",
    "    tokens_ko = twitter.morphs(text)\n",
    "    return tokens_ko"
   ]
  },
  {
   "cell_type": "code",
   "execution_count": 9,
   "id": "9eb023cb-950a-4bba-bc34-11ae5c6ed008",
   "metadata": {},
   "outputs": [
    {
     "name": "stderr",
     "output_type": "stream",
     "text": [
      "/Users/sonsoohan/anaconda3/lib/python3.10/site-packages/sklearn/feature_extraction/text.py:528: UserWarning: The parameter 'token_pattern' will not be used since 'tokenizer' is not None'\n",
      "  warnings.warn(\n"
     ]
    }
   ],
   "source": [
    "from sklearn.feature_extraction.text import TfidfVectorizer\n",
    "from sklearn.linear_model import LogisticRegression\n",
    "from sklearn.model_selection import GridSearchCV\n",
    "\n",
    "# Twitter 객체의 morphs( ) 객체를 이용한 tokenizer를 사용. ngram_range는 (1,2) \n",
    "tfidf_vect = TfidfVectorizer(tokenizer=tw_tokenizer, ngram_range=(1,2), min_df=3, max_df=0.9)\n",
    "tfidf_vect.fit(train_df['document'])\n",
    "tfidf_matrix_train = tfidf_vect.transform(train_df['document'])"
   ]
  },
  {
   "cell_type": "code",
   "execution_count": 10,
   "id": "48b571e6-b218-4f34-9c56-43f3bb480e74",
   "metadata": {},
   "outputs": [
    {
     "name": "stdout",
     "output_type": "stream",
     "text": [
      "Fitting 3 folds for each of 5 candidates, totalling 15 fits\n",
      "{'C': 3.5} 0.8077\n"
     ]
    }
   ],
   "source": [
    "# Logistic Regression 을 이용하여 감성 분석 Classification 수행. \n",
    "lg_clf = LogisticRegression(random_state=0, solver='liblinear')\n",
    "\n",
    "# Parameter C 최적화를 위해 GridSearchCV 를 이용. \n",
    "params = { 'C': [1 ,3.5, 4.5, 5.5, 10 ] }\n",
    "grid_cv = GridSearchCV(lg_clf , param_grid=params , cv=3 ,scoring='accuracy', verbose=1 )\n",
    "grid_cv.fit(tfidf_matrix_train , train_df['label'] )\n",
    "print(grid_cv.best_params_ , round(grid_cv.best_score_,4))"
   ]
  },
  {
   "cell_type": "code",
   "execution_count": 11,
   "id": "c8c5b06b-ca26-4971-a59e-c3c511ab4f70",
   "metadata": {},
   "outputs": [
    {
     "name": "stdout",
     "output_type": "stream",
     "text": [
      "Logistic Regression 정확도:  0.9493333333333334\n"
     ]
    }
   ],
   "source": [
    "from sklearn.metrics import accuracy_score\n",
    "\n",
    "# 학습 데이터를 적용한 TfidfVectorizer를 이용하여 테스트 데이터를 TF-IDF 값으로 Feature 변환함. \n",
    "tfidf_matrix_test = tfidf_vect.transform(test_df['document'])\n",
    "\n",
    "# classifier 는 GridSearchCV에서 최적 파라미터로 학습된 classifier를 그대로 이용\n",
    "best_estimator = grid_cv.best_estimator_\n",
    "preds = best_estimator.predict(tfidf_matrix_test)\n",
    "\n",
    "print('Logistic Regression 정확도: ',accuracy_score(test_df['label'],preds))"
   ]
  },
  {
   "cell_type": "markdown",
   "id": "c65a303a-05d8-43bd-9e1c-bbfdf3199cd3",
   "metadata": {},
   "source": [
    "##### 5교시"
   ]
  },
  {
   "cell_type": "markdown",
   "id": "355266b5-fd8c-4474-87db-d4f8d50f4c60",
   "metadata": {},
   "source": [
    "##### 6교시"
   ]
  },
  {
   "cell_type": "code",
   "execution_count": 13,
   "id": "eb5f039b-fef1-4b0d-a448-631566d33fec",
   "metadata": {},
   "outputs": [
    {
     "name": "stdout",
     "output_type": "stream",
     "text": [
      "Collecting scikit-surprise\n",
      "  Downloading scikit-surprise-1.1.3.tar.gz (771 kB)\n",
      "\u001b[2K     \u001b[90m━━━━━━━━━━━━━━━━━━━━━━━━━━━━━━━━━━━━━━\u001b[0m \u001b[32m772.0/772.0 kB\u001b[0m \u001b[31m14.9 MB/s\u001b[0m eta \u001b[36m0:00:00\u001b[0ma \u001b[36m0:00:01\u001b[0m\n",
      "\u001b[?25h  Preparing metadata (setup.py) ... \u001b[?25ldone\n",
      "\u001b[?25hRequirement already satisfied: joblib>=1.0.0 in /Users/sonsoohan/anaconda3/lib/python3.10/site-packages (from scikit-surprise) (1.1.1)\n",
      "Requirement already satisfied: numpy>=1.17.3 in /Users/sonsoohan/anaconda3/lib/python3.10/site-packages (from scikit-surprise) (1.22.3)\n",
      "Requirement already satisfied: scipy>=1.3.2 in /Users/sonsoohan/anaconda3/lib/python3.10/site-packages (from scikit-surprise) (1.7.3)\n",
      "Building wheels for collected packages: scikit-surprise\n",
      "  Building wheel for scikit-surprise (setup.py) ... \u001b[?25ldone\n",
      "\u001b[?25h  Created wheel for scikit-surprise: filename=scikit_surprise-1.1.3-cp310-cp310-macosx_10_9_x86_64.whl size=1122634 sha256=e2c48c0f019397ef392a1d136813a758494030eb7120254305dfef83d2d23779\n",
      "  Stored in directory: /Users/sonsoohan/Library/Caches/pip/wheels/df/e4/a6/7ad72453dd693f420b0c639bedeec34641738d11b55d8d9b84\n",
      "Successfully built scikit-surprise\n",
      "Installing collected packages: scikit-surprise\n",
      "Successfully installed scikit-surprise-1.1.3\n",
      "Note: you may need to restart the kernel to use updated packages.\n"
     ]
    }
   ],
   "source": [
    "pip install scikit-surprise"
   ]
  },
  {
   "cell_type": "code",
   "execution_count": 15,
   "id": "c049e0de-1190-41f6-9fb1-52730f173374",
   "metadata": {},
   "outputs": [],
   "source": [
    "from surprise import SVD\n",
    "from surprise import Dataset\n",
    "from surprise import accuracy\n",
    "from surprise.model_selection import train_test_split"
   ]
  },
  {
   "cell_type": "code",
   "execution_count": 16,
   "id": "ceda0ca7-df70-4021-b8f3-dfe687207c24",
   "metadata": {},
   "outputs": [
    {
     "name": "stdout",
     "output_type": "stream",
     "text": [
      "Dataset ml-100k could not be found. Do you want to download it? [Y/n] "
     ]
    },
    {
     "name": "stdin",
     "output_type": "stream",
     "text": [
      " Y\n"
     ]
    },
    {
     "name": "stdout",
     "output_type": "stream",
     "text": [
      "Trying to download dataset from https://files.grouplens.org/datasets/movielens/ml-100k.zip...\n",
      "Done! Dataset ml-100k has been saved to /Users/sonsoohan/.surprise_data/ml-100k\n"
     ]
    }
   ],
   "source": [
    "data = Dataset.load_builtin('ml-100k')"
   ]
  },
  {
   "cell_type": "code",
   "execution_count": 17,
   "id": "6f855b33-cf36-4806-a017-1338fe36d85d",
   "metadata": {},
   "outputs": [],
   "source": [
    "data = Dataset.load_builtin('ml-100k')"
   ]
  },
  {
   "cell_type": "code",
   "execution_count": 18,
   "id": "2ec5c240-6013-4e18-83bf-e7183d4acbc3",
   "metadata": {},
   "outputs": [],
   "source": [
    "trainset, testset = train_test_split(data, test_size=25, random_state=0)"
   ]
  },
  {
   "cell_type": "code",
   "execution_count": 19,
   "id": "02b9a880-0963-4183-8d50-4f1312b6dc58",
   "metadata": {},
   "outputs": [
    {
     "data": {
      "text/plain": [
       "<surprise.prediction_algorithms.matrix_factorization.SVD at 0x7fc872788dc0>"
      ]
     },
     "execution_count": 19,
     "metadata": {},
     "output_type": "execute_result"
    }
   ],
   "source": [
    "algo = SVD(random_state=0)\n",
    "algo.fit(trainset)"
   ]
  },
  {
   "cell_type": "code",
   "execution_count": 20,
   "id": "49088480-73b3-4926-b6a2-2394be5af651",
   "metadata": {},
   "outputs": [
    {
     "name": "stdout",
     "output_type": "stream",
     "text": [
      "prediction type: <class 'list'> size: 25\n",
      "prediction 결과의 최초5개 추출\n"
     ]
    },
    {
     "data": {
      "text/plain": [
       "[Prediction(uid='917', iid='50', r_ui=3.0, est=4.149217910133892, details={'was_impossible': False}),\n",
       " Prediction(uid='235', iid='318', r_ui=5.0, est=4.333029650171128, details={'was_impossible': False}),\n",
       " Prediction(uid='339', iid='12', r_ui=5.0, est=4.652894591303144, details={'was_impossible': False}),\n",
       " Prediction(uid='878', iid='755', r_ui=2.0, est=2.7545011408291202, details={'was_impossible': False}),\n",
       " Prediction(uid='618', iid='56', r_ui=4.0, est=3.0213838231732826, details={'was_impossible': False})]"
      ]
     },
     "execution_count": 20,
     "metadata": {},
     "output_type": "execute_result"
    }
   ],
   "source": [
    "predictions = algo.test(testset)\n",
    "print('prediction type:', type(predictions),'size:',len(predictions))\n",
    "print('prediction 결과의 최초5개 추출')\n",
    "predictions[:5]"
   ]
  },
  {
   "cell_type": "code",
   "execution_count": 21,
   "id": "6b3a503d-8c20-4d1f-a38a-936b3b2bf450",
   "metadata": {},
   "outputs": [
    {
     "name": "stdout",
     "output_type": "stream",
     "text": [
      "user: 196        item: 302        r_ui = None   est = 4.37   {'was_impossible': False}\n"
     ]
    }
   ],
   "source": [
    "uid = str(196)\n",
    "iid = str(302)\n",
    "pred = algo.predict(uid, iid)\n",
    "print(pred)"
   ]
  },
  {
   "cell_type": "code",
   "execution_count": 22,
   "id": "915e9721-6359-47f8-b893-7e43a3b11a3a",
   "metadata": {},
   "outputs": [
    {
     "name": "stdout",
     "output_type": "stream",
     "text": [
      "RMSE: 0.9277\n"
     ]
    },
    {
     "data": {
      "text/plain": [
       "0.9277328494227116"
      ]
     },
     "execution_count": 22,
     "metadata": {},
     "output_type": "execute_result"
    }
   ],
   "source": [
    "accuracy.rmse(predictions)"
   ]
  },
  {
   "cell_type": "code",
   "execution_count": 34,
   "id": "7244637e-cf1d-48d2-8cd9-2ae8747baf36",
   "metadata": {},
   "outputs": [],
   "source": [
    "ratings = pd.read_csv('ratings.csv')\n",
    "ratings.to_csv('ratings_noh.csv',index=False,header=False)"
   ]
  },
  {
   "cell_type": "code",
   "execution_count": 35,
   "id": "e0451ef8-6fde-49ef-90dd-9ef742d50520",
   "metadata": {},
   "outputs": [],
   "source": [
    "from surprise import Reader\n",
    "\n",
    "reader = Reader(line_format='user item rating timestamp', sep=',', rating_scale=(0.5,5))\n",
    "data = Dataset.load_from_file('ratings_noh.csv',reader=reader)"
   ]
  },
  {
   "cell_type": "code",
   "execution_count": 36,
   "id": "f419fb04-1f61-48f7-8edb-ad50706f0512",
   "metadata": {},
   "outputs": [],
   "source": [
    "trainset, testset = train_test_split(data, test_size=25, random_state=0)\n",
    "algo = SVD(n_factors=50, random_state=0)"
   ]
  },
  {
   "cell_type": "code",
   "execution_count": 37,
   "id": "b0c9f73a-64aa-4d96-bac4-436a84c23ac7",
   "metadata": {},
   "outputs": [
    {
     "name": "stdout",
     "output_type": "stream",
     "text": [
      "RMSE: 0.7940\n"
     ]
    },
    {
     "data": {
      "text/plain": [
       "0.7939608260279408"
      ]
     },
     "execution_count": 37,
     "metadata": {},
     "output_type": "execute_result"
    }
   ],
   "source": [
    "algo.fit(trainset)\n",
    "predictions = algo.test(testset)\n",
    "accuracy.rmse(predictions)"
   ]
  },
  {
   "cell_type": "code",
   "execution_count": null,
   "id": "9aa34959-e545-4460-b1a8-64bb543d6cb9",
   "metadata": {},
   "outputs": [],
   "source": []
  }
 ],
 "metadata": {
  "kernelspec": {
   "display_name": "Python 3 (ipykernel)",
   "language": "python",
   "name": "python3"
  },
  "language_info": {
   "codemirror_mode": {
    "name": "ipython",
    "version": 3
   },
   "file_extension": ".py",
   "mimetype": "text/x-python",
   "name": "python",
   "nbconvert_exporter": "python",
   "pygments_lexer": "ipython3",
   "version": "3.10.9"
  }
 },
 "nbformat": 4,
 "nbformat_minor": 5
}
