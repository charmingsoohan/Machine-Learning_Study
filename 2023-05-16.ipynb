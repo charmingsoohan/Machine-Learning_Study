{
 "cells": [
  {
   "cell_type": "markdown",
   "id": "bd589a2e-2d2e-42c0-b066-35d42793b50f",
   "metadata": {},
   "source": [
    "#### 2023-05-16"
   ]
  },
  {
   "cell_type": "markdown",
   "id": "b36e5bf1-4d82-4252-88dd-4bf0b2f18d48",
   "metadata": {},
   "source": [
    "##### 1교시"
   ]
  },
  {
   "cell_type": "code",
   "execution_count": 10,
   "id": "360c4024-73e8-4851-8bab-5f77687ec241",
   "metadata": {},
   "outputs": [],
   "source": [
    "import urllib.request\n",
    "import requests\n",
    "from urllib.parse import quote\n",
    "from urllib.parse import quote_plus\n",
    "from bs4  import BeautifulSoup\n",
    "import pandas as pd"
   ]
  },
  {
   "cell_type": "code",
   "execution_count": 11,
   "id": "b535d7b2-782f-417a-b68f-cc2ceb749cc4",
   "metadata": {},
   "outputs": [
    {
     "data": {
      "text/html": [
       "<div>\n",
       "<style scoped>\n",
       "    .dataframe tbody tr th:only-of-type {\n",
       "        vertical-align: middle;\n",
       "    }\n",
       "\n",
       "    .dataframe tbody tr th {\n",
       "        vertical-align: top;\n",
       "    }\n",
       "\n",
       "    .dataframe thead th {\n",
       "        text-align: right;\n",
       "    }\n",
       "</style>\n",
       "<table border=\"1\" class=\"dataframe\">\n",
       "  <thead>\n",
       "    <tr style=\"text-align: right;\">\n",
       "      <th></th>\n",
       "      <th>소제목</th>\n",
       "      <th>첫줄</th>\n",
       "      <th>링크</th>\n",
       "    </tr>\n",
       "  </thead>\n",
       "  <tbody>\n",
       "    <tr>\n",
       "      <th>0</th>\n",
       "      <td>'우크라이나 1년' 국회 사진 전시회 개최…설훈 \"전쟁 종식시켜야\"</td>\n",
       "      <td>전쟁 현장의 참혹함을 알리기 위한 사진 전시회를 개최했다. 설훈 더불어민주당 의원을...</td>\n",
       "      <td>https://cp.news.search.daum.net/p/132533596</td>\n",
       "    </tr>\n",
       "    <tr>\n",
       "      <th>1</th>\n",
       "      <td>전쟁 취재 '항상 늦는' 韓언론…\"알권리 위해 여권법 적용 바꿔야\"</td>\n",
       "      <td>김상훈 사진작가는 올해 초 1개월 가까운 시간 동안 우크라이나에 다녀왔다. 15일 ...</td>\n",
       "      <td>https://v.daum.net/v/20230516050303904?f=o</td>\n",
       "    </tr>\n",
       "    <tr>\n",
       "      <th>2</th>\n",
       "      <td>\"美, 우크라이나에 1.6조원 규모 추가 군사원조 제공\"</td>\n",
       "      <td>중심부 붉은 광장에서 열리는 승전 기념일 군사 퍼레이드에 참가하기 위해 러시아 군인...</td>\n",
       "      <td>https://v.daum.net/v/20230509182501974?f=o</td>\n",
       "    </tr>\n",
       "    <tr>\n",
       "      <th>3</th>\n",
       "      <td>5월의 변곡점 맞는 러시아-우크라이나 전쟁</td>\n",
       "      <td>될 수 있다. 지난해 2월24일 우크라이나 침공 이후 점령한 지역 중 상징적 의미가...</td>\n",
       "      <td>https://v.daum.net/v/20230512160804267?f=o</td>\n",
       "    </tr>\n",
       "    <tr>\n",
       "      <th>4</th>\n",
       "      <td>전쟁 폐허 우크라이나 프로축구단, 브라질서 탄생 ‘감격’</td>\n",
       "      <td>우크라니아 마리우폴 주민이 구조를 요청하는 대헝 손팻말을 들어보이고 있다. 게티이미...</td>\n",
       "      <td>https://v.daum.net/v/20230426100826302?f=o</td>\n",
       "    </tr>\n",
       "    <tr>\n",
       "      <th>...</th>\n",
       "      <td>...</td>\n",
       "      <td>...</td>\n",
       "      <td>...</td>\n",
       "    </tr>\n",
       "    <tr>\n",
       "      <th>95</th>\n",
       "      <td>카메라 들고 우크라이나 전장에 간 노철학자 “전쟁의 얼굴을 보여주고 싶었다”</td>\n",
       "      <td>남부 자포리자 원전, 러시아에 인접한 슬로비얀스크 등 10여곳을 직접 찾았다. 전쟁...</td>\n",
       "      <td>https://v.daum.net/v/20230514160908900?f=o</td>\n",
       "    </tr>\n",
       "    <tr>\n",
       "      <th>96</th>\n",
       "      <td>우크라이나 흐멜니치키주, 핵심 인프라 피습</td>\n",
       "      <td>정보를 공개하지 않았다. 일부 매체는 이 인프라가 탄약고로 추정된다고 전했다. 14...</td>\n",
       "      <td>https://cp.news.search.daum.net/p/132553671</td>\n",
       "    </tr>\n",
       "    <tr>\n",
       "      <th>97</th>\n",
       "      <td>‘칠곡할매글꼴’ 할머니들, 우크라이나에 평화와 반전 메시지</td>\n",
       "      <td>평화가 찾아오길 빌고 있습니다” 6·25 전쟁을 겪은 할머니들이 전하는 반전 메시지...</td>\n",
       "      <td>https://v.daum.net/v/20230510103601519?f=o</td>\n",
       "    </tr>\n",
       "    <tr>\n",
       "      <th>98</th>\n",
       "      <td>[뉴스in뉴스] 우크라이나 전쟁 봄철 변곡점 맞이하나</td>\n",
       "      <td>공격은 이에 대한 보복이라는 해석도 나옵니다. [앵커] 이후 러시아도 대응을 했겠죠...</td>\n",
       "      <td>https://v.daum.net/v/20230503124653840?f=o</td>\n",
       "    </tr>\n",
       "    <tr>\n",
       "      <th>99</th>\n",
       "      <td>\"러, 잃어버린 바흐무트 영토 재탈환 시도\" 우크라이나</td>\n",
       "      <td>설명했다. 앞서 러시아 국방부는 일부 병력이 우크라이나 동부 바흐무트 북서쪽 저수지...</td>\n",
       "      <td>https://v.daum.net/v/20230513152738573?f=o</td>\n",
       "    </tr>\n",
       "  </tbody>\n",
       "</table>\n",
       "<p>100 rows × 3 columns</p>\n",
       "</div>"
      ],
      "text/plain": [
       "                                           소제목  \\\n",
       "0        '우크라이나 1년' 국회 사진 전시회 개최…설훈 \"전쟁 종식시켜야\"   \n",
       "1        전쟁 취재 '항상 늦는' 韓언론…\"알권리 위해 여권법 적용 바꿔야\"   \n",
       "2              \"美, 우크라이나에 1.6조원 규모 추가 군사원조 제공\"   \n",
       "3                      5월의 변곡점 맞는 러시아-우크라이나 전쟁   \n",
       "4              전쟁 폐허 우크라이나 프로축구단, 브라질서 탄생 ‘감격’   \n",
       "..                                         ...   \n",
       "95  카메라 들고 우크라이나 전장에 간 노철학자 “전쟁의 얼굴을 보여주고 싶었다”   \n",
       "96                     우크라이나 흐멜니치키주, 핵심 인프라 피습   \n",
       "97            ‘칠곡할매글꼴’ 할머니들, 우크라이나에 평화와 반전 메시지   \n",
       "98               [뉴스in뉴스] 우크라이나 전쟁 봄철 변곡점 맞이하나   \n",
       "99              \"러, 잃어버린 바흐무트 영토 재탈환 시도\" 우크라이나   \n",
       "\n",
       "                                                   첫줄  \\\n",
       "0   전쟁 현장의 참혹함을 알리기 위한 사진 전시회를 개최했다. 설훈 더불어민주당 의원을...   \n",
       "1   김상훈 사진작가는 올해 초 1개월 가까운 시간 동안 우크라이나에 다녀왔다. 15일 ...   \n",
       "2   중심부 붉은 광장에서 열리는 승전 기념일 군사 퍼레이드에 참가하기 위해 러시아 군인...   \n",
       "3   될 수 있다. 지난해 2월24일 우크라이나 침공 이후 점령한 지역 중 상징적 의미가...   \n",
       "4   우크라니아 마리우폴 주민이 구조를 요청하는 대헝 손팻말을 들어보이고 있다. 게티이미...   \n",
       "..                                                ...   \n",
       "95  남부 자포리자 원전, 러시아에 인접한 슬로비얀스크 등 10여곳을 직접 찾았다. 전쟁...   \n",
       "96  정보를 공개하지 않았다. 일부 매체는 이 인프라가 탄약고로 추정된다고 전했다. 14...   \n",
       "97  평화가 찾아오길 빌고 있습니다” 6·25 전쟁을 겪은 할머니들이 전하는 반전 메시지...   \n",
       "98  공격은 이에 대한 보복이라는 해석도 나옵니다. [앵커] 이후 러시아도 대응을 했겠죠...   \n",
       "99  설명했다. 앞서 러시아 국방부는 일부 병력이 우크라이나 동부 바흐무트 북서쪽 저수지...   \n",
       "\n",
       "                                             링크  \n",
       "0   https://cp.news.search.daum.net/p/132533596  \n",
       "1    https://v.daum.net/v/20230516050303904?f=o  \n",
       "2    https://v.daum.net/v/20230509182501974?f=o  \n",
       "3    https://v.daum.net/v/20230512160804267?f=o  \n",
       "4    https://v.daum.net/v/20230426100826302?f=o  \n",
       "..                                          ...  \n",
       "95   https://v.daum.net/v/20230514160908900?f=o  \n",
       "96  https://cp.news.search.daum.net/p/132553671  \n",
       "97   https://v.daum.net/v/20230510103601519?f=o  \n",
       "98   https://v.daum.net/v/20230503124653840?f=o  \n",
       "99   https://v.daum.net/v/20230513152738573?f=o  \n",
       "\n",
       "[100 rows x 3 columns]"
      ]
     },
     "execution_count": 11,
     "metadata": {},
     "output_type": "execute_result"
    }
   ],
   "source": [
    "# 키워드를 입력받아서 다음 뉴스사이트의 1~10페이지까지의 제목, 본문, 링크주소를 각 열로 하는 데이터 프레임을 생성하는 함를 작성하시오.\n",
    "\n",
    "def daum_news(keyword):\n",
    "    keyword = quote_plus(keyword)\n",
    "    li = []\n",
    "    li1 = []\n",
    "    li2 = []\n",
    "    for i in range(1, 11):\n",
    "        \n",
    "        url = f'https://search.daum.net/search?nil_suggest=btn&w=news&DA=SBC&cluster=y&q={keyword}'+str(i)\n",
    "\n",
    "        headers = {\"User-Agent\" : \"Mozilla/5.0 (Windows NT 10.0; Win64; x64) AppleWebKit/537.36 (KHTML, like Gecko) Chrome/113.0.0.0 Safari/537.36\"}\n",
    "\n",
    "        html = requests.get(url, headers = headers) #html 가져오기 \n",
    "\n",
    "        soup = BeautifulSoup(html.text, 'html.parser')\n",
    "\n",
    "        titles = soup.find_all(class_ = \"tit_main fn_tit_u\" )\n",
    "        for title  in titles:\n",
    "            li.append(title.text)\n",
    "\n",
    "        sub_titles = soup.find_all(class_ = \"desc\" )\n",
    "        for sub_title  in sub_titles:\n",
    "            li1.append(sub_title.text)    \n",
    "\n",
    "        for i in range(len(titles)):\n",
    "            li2.append(titles[i].attrs['href'])\n",
    "\n",
    "    df = pd.DataFrame({'소제목': li, '첫줄':li1, '링크':li2})\n",
    "    return df\n",
    "df = daum_news(\"우크라이나\")\n",
    "df "
   ]
  },
  {
   "cell_type": "code",
   "execution_count": 40,
   "id": "6dd898ff-02a5-42de-ae87-7d0be677a512",
   "metadata": {},
   "outputs": [],
   "source": [
    "from selenium import webdriver\n",
    "from selenium.webdriver.common.by import By\n",
    "from selenium.webdriver.common.keys import Keys\n",
    "from selenium.webdriver.support.ui import WebDriverWait\n",
    "from selenium.webdriver.support import expected_conditions as EC "
   ]
  },
  {
   "cell_type": "code",
   "execution_count": 17,
   "id": "78f8dabf-7d5c-447b-b137-303ffe98f27e",
   "metadata": {},
   "outputs": [],
   "source": [
    "import os\n",
    "os.getcwd()\n",
    "os.chdir('/Users/sonsoohan/Downloads/수업자료')"
   ]
  },
  {
   "cell_type": "code",
   "execution_count": 18,
   "id": "af0806df-646d-4044-a64f-894f8e436c1f",
   "metadata": {},
   "outputs": [],
   "source": [
    "driver = webdriver.Chrome()"
   ]
  },
  {
   "cell_type": "code",
   "execution_count": 19,
   "id": "91dbb0bf-0af5-4dd9-808a-4fd761efa2fe",
   "metadata": {},
   "outputs": [],
   "source": [
    "url = 'https://www.naver.com'\n",
    "driver.get(url)"
   ]
  },
  {
   "cell_type": "code",
   "execution_count": 23,
   "id": "51e5183b-5805-4419-aa68-7d01fadcab8d",
   "metadata": {},
   "outputs": [],
   "source": [
    "element = driver.find_element(By.ID,'query')\n",
    "element.send_keys('사과')\n",
    "element.send_keys(Keys.ENTER)"
   ]
  },
  {
   "cell_type": "code",
   "execution_count": null,
   "id": "30e48352-33e4-42a0-9561-994b087b1652",
   "metadata": {},
   "outputs": [],
   "source": [
    "driver.find_element(By.ID,'#query')\n",
    "\n",
    "# soup\n",
    "find_all(class_='test')\n",
    "find(id= )\n",
    "\n",
    "select('.test')\n",
    "select_one('')"
   ]
  },
  {
   "cell_type": "markdown",
   "id": "98d866af-5346-4e6a-bf1f-cad154854808",
   "metadata": {},
   "source": [
    "##### 2교시"
   ]
  },
  {
   "cell_type": "code",
   "execution_count": 25,
   "id": "665ff66a-d148-40cf-82c8-e943a01450d6",
   "metadata": {},
   "outputs": [],
   "source": [
    "# 다음 로그인하기\n",
    "driver = webdriver.Chrome()\n",
    "url = 'https://accounts.kakao.com/login/?continue=https%3A%2F%2Flogins.daum.net%2Faccounts%2Fksso.do%3Frescue%3Dtrue%26url%3Dhttps%253A%252F%252Fwww.daum.net#login'\n",
    "driver.get(url)"
   ]
  },
  {
   "cell_type": "code",
   "execution_count": 26,
   "id": "3ce299c1-da76-4b76-949e-fce9f2706953",
   "metadata": {},
   "outputs": [],
   "source": [
    "element = driver.find_element(By.ID,'loginKey--1')\n",
    "element.send_keys('test')\n",
    "element.send_keys(Keys.ENTER)"
   ]
  },
  {
   "cell_type": "code",
   "execution_count": 27,
   "id": "9ec660b9-4704-4e8f-8087-a7ff75506f4e",
   "metadata": {},
   "outputs": [],
   "source": [
    "element = driver.find_element(By.ID,'password--2')\n",
    "element.send_keys('test')\n",
    "element.send_keys(Keys.ENTER)"
   ]
  },
  {
   "cell_type": "code",
   "execution_count": 28,
   "id": "9faeadcd-7c03-49c8-b6b6-62a5e6b79af1",
   "metadata": {},
   "outputs": [],
   "source": [
    "# 네이버 로그인하기\n",
    "driver = webdriver.Chrome()\n",
    "url = 'https://nid.naver.com/nidlogin.login?mode=form&url=https%3A%2F%2Fwww.naver.com'\n",
    "driver.get(url)"
   ]
  },
  {
   "cell_type": "code",
   "execution_count": 29,
   "id": "d5ae7607-0a1b-4ad8-b678-99623d344a22",
   "metadata": {},
   "outputs": [],
   "source": [
    "element = driver.find_element(By.ID,'id')\n",
    "element.send_keys('test')\n",
    "element.send_keys(Keys.ENTER)"
   ]
  },
  {
   "cell_type": "code",
   "execution_count": 30,
   "id": "031d3a12-963c-4f0c-a944-d5a600f75752",
   "metadata": {},
   "outputs": [],
   "source": [
    "element = driver.find_element(By.ID,'pw')\n",
    "element.send_keys('test')\n",
    "element.send_keys(Keys.ENTER)"
   ]
  },
  {
   "cell_type": "code",
   "execution_count": 34,
   "id": "73615fba-e07f-4e2f-a51a-e90e00e80051",
   "metadata": {},
   "outputs": [],
   "source": [
    "# 네이버 쇼핑목록 확인하기\n",
    "driver = webdriver.Chrome()\n",
    "url = 'https://shopping.naver.com/home'\n",
    "driver.get(url)"
   ]
  },
  {
   "cell_type": "code",
   "execution_count": 35,
   "id": "63c2b86d-2a8d-4c86-ae90-92fb60616541",
   "metadata": {},
   "outputs": [],
   "source": [
    "element = driver.find_element(By.XPATH,'//*[@id=\"__next\"]/div/div[1]/div/div/div[2]/div/div[1]/div/div[1]/a[2]')\n",
    "element.click()"
   ]
  },
  {
   "cell_type": "markdown",
   "id": "152f7d51-dd93-4c59-b421-8a9c2ecca55c",
   "metadata": {},
   "source": [
    "##### 3교시"
   ]
  },
  {
   "cell_type": "code",
   "execution_count": 68,
   "id": "cde6871f-cf7d-4138-a910-d905955b730b",
   "metadata": {
    "tags": []
   },
   "outputs": [],
   "source": [
    "driver = webdriver.Chrome()\n",
    "url = 'https://www.hanbit.co.kr'\n",
    "driver.get(url)\n",
    "\n",
    "element = driver.find_element(By.XPATH,'//*[@id=\"wrap_nav\"]/ul[2]/li[1]/a')\n",
    "element.click()\n",
    "\n",
    "element = driver.find_element(By.ID,'m_id')\n",
    "element.send_keys('ssh5080')\n",
    "\n",
    "element = driver.find_element(By.ID,'m_passwd')\n",
    "element.send_keys('!ssh5080')\n",
    "element.send_keys(Keys.ENTER)\n",
    "\n",
    "element = driver.find_element(By.XPATH,'//*[@id=\"wrap_nav\"]/ul[2]/li[3]/a')\n",
    "element.click()\n",
    "\n",
    "mil = driver.find_element(By.CLASS_NAME, 'mileage_section1')\n",
    "coin = driver.find_element(By.CLASS_NAME, 'mileage_section2')"
   ]
  },
  {
   "cell_type": "code",
   "execution_count": 70,
   "id": "19192744-5f9e-4353-81b8-0cfd59dc59f8",
   "metadata": {
    "tags": []
   },
   "outputs": [
    {
     "name": "stdout",
     "output_type": "stream",
     "text": [
      "마일리지\n",
      "2,000 점\n",
      "한빛이코인\n",
      "0 원\n"
     ]
    }
   ],
   "source": [
    "print(mil.text)\n",
    "print(coin.text)"
   ]
  },
  {
   "cell_type": "markdown",
   "id": "b806cd08-e84e-43c5-94c8-d7ec06f68765",
   "metadata": {},
   "source": [
    "##### 4교시"
   ]
  },
  {
   "cell_type": "markdown",
   "id": "310c6a4b-d549-4928-b1a9-7c39ad8b7f26",
   "metadata": {},
   "source": [
    "##### 5교시"
   ]
  },
  {
   "cell_type": "code",
   "execution_count": 103,
   "id": "f7f722c8-7aa6-483d-a9b0-54dd32ef072f",
   "metadata": {
    "collapsed": true,
    "jupyter": {
     "outputs_hidden": true
    },
    "tags": []
   },
   "outputs": [
    {
     "ename": "AttributeError",
     "evalue": "'NoneType' object has no attribute 'text'",
     "output_type": "error",
     "traceback": [
      "\u001b[0;31m---------------------------------------------------------------------------\u001b[0m",
      "\u001b[0;31mAttributeError\u001b[0m                            Traceback (most recent call last)",
      "Cell \u001b[0;32mIn[103], line 15\u001b[0m\n\u001b[1;32m     12\u001b[0m soup \u001b[38;5;241m=\u001b[39m BeautifulSoup(html\u001b[38;5;241m.\u001b[39mtext, \u001b[38;5;124m'\u001b[39m\u001b[38;5;124mhtml.parser\u001b[39m\u001b[38;5;124m'\u001b[39m)\n\u001b[1;32m     13\u001b[0m soup\n\u001b[0;32m---> 15\u001b[0m \u001b[43msoup\u001b[49m\u001b[38;5;241;43m.\u001b[39;49m\u001b[43mselect_one\u001b[49m\u001b[43m(\u001b[49m\u001b[38;5;124;43m'\u001b[39;49m\u001b[38;5;124;43m.mileage_section1 > dd:nth-child(2) > span:nth-child(1) \u001b[39;49m\u001b[38;5;124;43m'\u001b[39;49m\u001b[43m)\u001b[49m\u001b[38;5;241;43m.\u001b[39;49m\u001b[43mtext\u001b[49m\n\u001b[1;32m     16\u001b[0m soup\u001b[38;5;241m.\u001b[39mselect_one(\u001b[38;5;124m'\u001b[39m\u001b[38;5;124m.mileage_section2 > dd:nth-child(2) > span:nth-child(1)\u001b[39m\u001b[38;5;124m'\u001b[39m)\u001b[38;5;241m.\u001b[39mtext\n",
      "\u001b[0;31mAttributeError\u001b[0m: 'NoneType' object has no attribute 'text'"
     ]
    }
   ],
   "source": [
    "import requests\n",
    "from bs4 import BeautifulSoup\n",
    "\n",
    "session = requests.session()\n",
    "\n",
    "type(session)\n",
    "\n",
    "url = \"https://www.hanbit.co.kr/member/login_proc.php\"\n",
    "session.post(url, {'m_id':'princessria', 'm_passwd':\"__\"})\n",
    "\n",
    "html = session.get('https://www.hanbit.co.kr/myhanbit/myhanbit.html')\n",
    "soup = BeautifulSoup(html.text, 'html.parser')\n",
    "soup\n",
    "\n",
    "soup.select_one('.mileage_section1 > dd:nth-child(2) > span:nth-child(1) ').text\n",
    "soup.select_one('.mileage_section2 > dd:nth-child(2) > span:nth-child(1)').text "
   ]
  },
  {
   "cell_type": "markdown",
   "id": "1a6a8219-8ed0-4842-8c15-de1fcdce196c",
   "metadata": {},
   "source": [
    "##### 6교시"
   ]
  },
  {
   "cell_type": "code",
   "execution_count": 105,
   "id": "c4e8ee7c-a0d7-4be3-8f7e-d45ff5f897d9",
   "metadata": {},
   "outputs": [],
   "source": [
    "# 구글 로그인 하기"
   ]
  },
  {
   "cell_type": "code",
   "execution_count": 109,
   "id": "de926a80-665a-4a56-b529-274f8c78775f",
   "metadata": {},
   "outputs": [
    {
     "name": "stdout",
     "output_type": "stream",
     "text": [
      "Collecting undetected-chromedriver\n",
      "  Downloading undetected-chromedriver-3.4.7.tar.gz (62 kB)\n",
      "\u001b[2K     \u001b[90m━━━━━━━━━━━━━━━━━━━━━━━━━━━━━━━━━━━━━━━━\u001b[0m \u001b[32m62.2/62.2 kB\u001b[0m \u001b[31m4.1 MB/s\u001b[0m eta \u001b[36m0:00:00\u001b[0m\n",
      "\u001b[?25h  Preparing metadata (setup.py) ... \u001b[?25ldone\n",
      "\u001b[?25hRequirement already satisfied: selenium>=4.0.0 in /Users/sonsoohan/anaconda3/lib/python3.10/site-packages (from undetected-chromedriver) (4.9.1)\n",
      "Requirement already satisfied: requests in /Users/sonsoohan/anaconda3/lib/python3.10/site-packages (from undetected-chromedriver) (2.28.1)\n",
      "Collecting websockets\n",
      "  Downloading websockets-11.0.3-cp310-cp310-macosx_10_9_x86_64.whl (120 kB)\n",
      "\u001b[2K     \u001b[90m━━━━━━━━━━━━━━━━━━━━━━━━━━━━━━━━━━━━━━━\u001b[0m \u001b[32m120.9/120.9 kB\u001b[0m \u001b[31m7.0 MB/s\u001b[0m eta \u001b[36m0:00:00\u001b[0m\n",
      "\u001b[?25hRequirement already satisfied: trio-websocket~=0.9 in /Users/sonsoohan/anaconda3/lib/python3.10/site-packages (from selenium>=4.0.0->undetected-chromedriver) (0.10.2)\n",
      "Requirement already satisfied: certifi>=2021.10.8 in /Users/sonsoohan/anaconda3/lib/python3.10/site-packages (from selenium>=4.0.0->undetected-chromedriver) (2022.12.7)\n",
      "Requirement already satisfied: trio~=0.17 in /Users/sonsoohan/anaconda3/lib/python3.10/site-packages (from selenium>=4.0.0->undetected-chromedriver) (0.22.0)\n",
      "Requirement already satisfied: urllib3[socks]<3,>=1.26 in /Users/sonsoohan/anaconda3/lib/python3.10/site-packages (from selenium>=4.0.0->undetected-chromedriver) (1.26.14)\n",
      "Requirement already satisfied: idna<4,>=2.5 in /Users/sonsoohan/anaconda3/lib/python3.10/site-packages (from requests->undetected-chromedriver) (3.4)\n",
      "Requirement already satisfied: charset-normalizer<3,>=2 in /Users/sonsoohan/anaconda3/lib/python3.10/site-packages (from requests->undetected-chromedriver) (2.0.4)\n",
      "Requirement already satisfied: attrs>=19.2.0 in /Users/sonsoohan/anaconda3/lib/python3.10/site-packages (from trio~=0.17->selenium>=4.0.0->undetected-chromedriver) (22.1.0)\n",
      "Requirement already satisfied: exceptiongroup>=1.0.0rc9 in /Users/sonsoohan/anaconda3/lib/python3.10/site-packages (from trio~=0.17->selenium>=4.0.0->undetected-chromedriver) (1.1.1)\n",
      "Requirement already satisfied: async-generator>=1.9 in /Users/sonsoohan/anaconda3/lib/python3.10/site-packages (from trio~=0.17->selenium>=4.0.0->undetected-chromedriver) (1.10)\n",
      "Requirement already satisfied: sortedcontainers in /Users/sonsoohan/anaconda3/lib/python3.10/site-packages (from trio~=0.17->selenium>=4.0.0->undetected-chromedriver) (2.4.0)\n",
      "Requirement already satisfied: sniffio in /Users/sonsoohan/anaconda3/lib/python3.10/site-packages (from trio~=0.17->selenium>=4.0.0->undetected-chromedriver) (1.2.0)\n",
      "Requirement already satisfied: outcome in /Users/sonsoohan/anaconda3/lib/python3.10/site-packages (from trio~=0.17->selenium>=4.0.0->undetected-chromedriver) (1.2.0)\n",
      "Requirement already satisfied: wsproto>=0.14 in /Users/sonsoohan/anaconda3/lib/python3.10/site-packages (from trio-websocket~=0.9->selenium>=4.0.0->undetected-chromedriver) (1.2.0)\n",
      "Requirement already satisfied: PySocks!=1.5.7,<2.0,>=1.5.6 in /Users/sonsoohan/anaconda3/lib/python3.10/site-packages (from urllib3[socks]<3,>=1.26->selenium>=4.0.0->undetected-chromedriver) (1.7.1)\n",
      "Requirement already satisfied: h11<1,>=0.9.0 in /Users/sonsoohan/anaconda3/lib/python3.10/site-packages (from wsproto>=0.14->trio-websocket~=0.9->selenium>=4.0.0->undetected-chromedriver) (0.14.0)\n",
      "Building wheels for collected packages: undetected-chromedriver\n",
      "  Building wheel for undetected-chromedriver (setup.py) ... \u001b[?25ldone\n",
      "\u001b[?25h  Created wheel for undetected-chromedriver: filename=undetected_chromedriver-3.4.7-py3-none-any.whl size=45303 sha256=a784d505c1baf12d8e8a15eb77ef36d0e01f85aa07b037c848bed1ee5323b041\n",
      "  Stored in directory: /Users/sonsoohan/Library/Caches/pip/wheels/f1/39/62/d02ac29fbfc5ad65e29234cb1716f450cb6e6e8c8a7e02a397\n",
      "Successfully built undetected-chromedriver\n",
      "Installing collected packages: websockets, undetected-chromedriver\n",
      "Successfully installed undetected-chromedriver-3.4.7 websockets-11.0.3\n",
      "Note: you may need to restart the kernel to use updated packages.\n"
     ]
    }
   ],
   "source": [
    "pip install undetected-chromedriver"
   ]
  },
  {
   "cell_type": "code",
   "execution_count": 119,
   "id": "93dc0327-31c9-4591-a8aa-93f966911cf3",
   "metadata": {
    "collapsed": true,
    "jupyter": {
     "outputs_hidden": true
    },
    "tags": []
   },
   "outputs": [
    {
     "ename": "NoSuchElementException",
     "evalue": "Message: no such element: Unable to locate element: {\"method\":\"css selector\",\"selector\":\".T-I.T-I-KE.L3\"}\n  (Session info: chrome=113.0.5672.92)\nStacktrace:\n0   undetected_chromedriver             0x00000001010fe598 undetected_chromedriver + 4973976\n1   undetected_chromedriver             0x00000001010f5913 undetected_chromedriver + 4938003\n2   undetected_chromedriver             0x0000000100cb2cd6 undetected_chromedriver + 470230\n3   undetected_chromedriver             0x0000000100cf62ff undetected_chromedriver + 746239\n4   undetected_chromedriver             0x0000000100cf6591 undetected_chromedriver + 746897\n5   undetected_chromedriver             0x0000000100d38384 undetected_chromedriver + 1016708\n6   undetected_chromedriver             0x0000000100d1a9ed undetected_chromedriver + 895469\n7   undetected_chromedriver             0x0000000100d35856 undetected_chromedriver + 1005654\n8   undetected_chromedriver             0x0000000100d1a793 undetected_chromedriver + 894867\n9   undetected_chromedriver             0x0000000100ce821f undetected_chromedriver + 688671\n10  undetected_chromedriver             0x0000000100ce956e undetected_chromedriver + 693614\n11  undetected_chromedriver             0x00000001010b8bb7 undetected_chromedriver + 4688823\n12  undetected_chromedriver             0x00000001010bda51 undetected_chromedriver + 4708945\n13  undetected_chromedriver             0x00000001010c440f undetected_chromedriver + 4736015\n14  undetected_chromedriver             0x00000001010be91a undetected_chromedriver + 4712730\n15  undetected_chromedriver             0x000000010109187c undetected_chromedriver + 4528252\n16  undetected_chromedriver             0x00000001010ddf28 undetected_chromedriver + 4841256\n17  undetected_chromedriver             0x00000001010de0a7 undetected_chromedriver + 4841639\n18  undetected_chromedriver             0x00000001010ef28f undetected_chromedriver + 4911759\n19  libsystem_pthread.dylib             0x00007ff8078b1259 _pthread_start + 125\n20  libsystem_pthread.dylib             0x00007ff8078acc7b thread_start + 15\n",
     "output_type": "error",
     "traceback": [
      "\u001b[0;31m---------------------------------------------------------------------------\u001b[0m",
      "\u001b[0;31mNoSuchElementException\u001b[0m                    Traceback (most recent call last)",
      "Cell \u001b[0;32mIn[119], line 31\u001b[0m\n\u001b[1;32m     28\u001b[0m \u001b[38;5;28;01mimport\u001b[39;00m \u001b[38;5;21;01mtime\u001b[39;00m\n\u001b[1;32m     29\u001b[0m time\u001b[38;5;241m.\u001b[39msleep(\u001b[38;5;241m2\u001b[39m)\n\u001b[0;32m---> 31\u001b[0m \u001b[43mdriver\u001b[49m\u001b[38;5;241;43m.\u001b[39;49m\u001b[43mfind_element\u001b[49m\u001b[43m(\u001b[49m\u001b[43mBy\u001b[49m\u001b[38;5;241;43m.\u001b[39;49m\u001b[43mCLASS_NAME\u001b[49m\u001b[43m,\u001b[49m\u001b[43m \u001b[49m\u001b[38;5;124;43m\"\u001b[39;49m\u001b[38;5;124;43mT-I.T-I-KE.L3\u001b[39;49m\u001b[38;5;124;43m\"\u001b[39;49m\u001b[43m)\u001b[49m\u001b[38;5;241m.\u001b[39mclick()\n\u001b[1;32m     32\u001b[0m time\u001b[38;5;241m.\u001b[39msleep(\u001b[38;5;241m1\u001b[39m)\n\u001b[1;32m     34\u001b[0m \u001b[38;5;28;01mfrom\u001b[39;00m \u001b[38;5;21;01mselenium\u001b[39;00m\u001b[38;5;21;01m.\u001b[39;00m\u001b[38;5;21;01mwebdriver\u001b[39;00m\u001b[38;5;21;01m.\u001b[39;00m\u001b[38;5;21;01mcommon\u001b[39;00m\u001b[38;5;21;01m.\u001b[39;00m\u001b[38;5;21;01maction_chains\u001b[39;00m \u001b[38;5;28;01mimport\u001b[39;00m ActionChains\n",
      "File \u001b[0;32m~/anaconda3/lib/python3.10/site-packages/selenium/webdriver/remote/webdriver.py:831\u001b[0m, in \u001b[0;36mWebDriver.find_element\u001b[0;34m(self, by, value)\u001b[0m\n\u001b[1;32m    828\u001b[0m     by \u001b[38;5;241m=\u001b[39m By\u001b[38;5;241m.\u001b[39mCSS_SELECTOR\n\u001b[1;32m    829\u001b[0m     value \u001b[38;5;241m=\u001b[39m \u001b[38;5;124mf\u001b[39m\u001b[38;5;124m'\u001b[39m\u001b[38;5;124m[name=\u001b[39m\u001b[38;5;124m\"\u001b[39m\u001b[38;5;132;01m{\u001b[39;00mvalue\u001b[38;5;132;01m}\u001b[39;00m\u001b[38;5;124m\"\u001b[39m\u001b[38;5;124m]\u001b[39m\u001b[38;5;124m'\u001b[39m\n\u001b[0;32m--> 831\u001b[0m \u001b[38;5;28;01mreturn\u001b[39;00m \u001b[38;5;28;43mself\u001b[39;49m\u001b[38;5;241;43m.\u001b[39;49m\u001b[43mexecute\u001b[49m\u001b[43m(\u001b[49m\u001b[43mCommand\u001b[49m\u001b[38;5;241;43m.\u001b[39;49m\u001b[43mFIND_ELEMENT\u001b[49m\u001b[43m,\u001b[49m\u001b[43m \u001b[49m\u001b[43m{\u001b[49m\u001b[38;5;124;43m\"\u001b[39;49m\u001b[38;5;124;43musing\u001b[39;49m\u001b[38;5;124;43m\"\u001b[39;49m\u001b[43m:\u001b[49m\u001b[43m \u001b[49m\u001b[43mby\u001b[49m\u001b[43m,\u001b[49m\u001b[43m \u001b[49m\u001b[38;5;124;43m\"\u001b[39;49m\u001b[38;5;124;43mvalue\u001b[39;49m\u001b[38;5;124;43m\"\u001b[39;49m\u001b[43m:\u001b[49m\u001b[43m \u001b[49m\u001b[43mvalue\u001b[49m\u001b[43m}\u001b[49m\u001b[43m)\u001b[49m[\u001b[38;5;124m\"\u001b[39m\u001b[38;5;124mvalue\u001b[39m\u001b[38;5;124m\"\u001b[39m]\n",
      "File \u001b[0;32m~/anaconda3/lib/python3.10/site-packages/selenium/webdriver/remote/webdriver.py:440\u001b[0m, in \u001b[0;36mWebDriver.execute\u001b[0;34m(self, driver_command, params)\u001b[0m\n\u001b[1;32m    438\u001b[0m response \u001b[38;5;241m=\u001b[39m \u001b[38;5;28mself\u001b[39m\u001b[38;5;241m.\u001b[39mcommand_executor\u001b[38;5;241m.\u001b[39mexecute(driver_command, params)\n\u001b[1;32m    439\u001b[0m \u001b[38;5;28;01mif\u001b[39;00m response:\n\u001b[0;32m--> 440\u001b[0m     \u001b[38;5;28;43mself\u001b[39;49m\u001b[38;5;241;43m.\u001b[39;49m\u001b[43merror_handler\u001b[49m\u001b[38;5;241;43m.\u001b[39;49m\u001b[43mcheck_response\u001b[49m\u001b[43m(\u001b[49m\u001b[43mresponse\u001b[49m\u001b[43m)\u001b[49m\n\u001b[1;32m    441\u001b[0m     response[\u001b[38;5;124m\"\u001b[39m\u001b[38;5;124mvalue\u001b[39m\u001b[38;5;124m\"\u001b[39m] \u001b[38;5;241m=\u001b[39m \u001b[38;5;28mself\u001b[39m\u001b[38;5;241m.\u001b[39m_unwrap_value(response\u001b[38;5;241m.\u001b[39mget(\u001b[38;5;124m\"\u001b[39m\u001b[38;5;124mvalue\u001b[39m\u001b[38;5;124m\"\u001b[39m, \u001b[38;5;28;01mNone\u001b[39;00m))\n\u001b[1;32m    442\u001b[0m     \u001b[38;5;28;01mreturn\u001b[39;00m response\n",
      "File \u001b[0;32m~/anaconda3/lib/python3.10/site-packages/selenium/webdriver/remote/errorhandler.py:245\u001b[0m, in \u001b[0;36mErrorHandler.check_response\u001b[0;34m(self, response)\u001b[0m\n\u001b[1;32m    243\u001b[0m         alert_text \u001b[38;5;241m=\u001b[39m value[\u001b[38;5;124m\"\u001b[39m\u001b[38;5;124malert\u001b[39m\u001b[38;5;124m\"\u001b[39m]\u001b[38;5;241m.\u001b[39mget(\u001b[38;5;124m\"\u001b[39m\u001b[38;5;124mtext\u001b[39m\u001b[38;5;124m\"\u001b[39m)\n\u001b[1;32m    244\u001b[0m     \u001b[38;5;28;01mraise\u001b[39;00m exception_class(message, screen, stacktrace, alert_text)  \u001b[38;5;66;03m# type: ignore[call-arg]  # mypy is not smart enough here\u001b[39;00m\n\u001b[0;32m--> 245\u001b[0m \u001b[38;5;28;01mraise\u001b[39;00m exception_class(message, screen, stacktrace)\n",
      "\u001b[0;31mNoSuchElementException\u001b[0m: Message: no such element: Unable to locate element: {\"method\":\"css selector\",\"selector\":\".T-I.T-I-KE.L3\"}\n  (Session info: chrome=113.0.5672.92)\nStacktrace:\n0   undetected_chromedriver             0x00000001010fe598 undetected_chromedriver + 4973976\n1   undetected_chromedriver             0x00000001010f5913 undetected_chromedriver + 4938003\n2   undetected_chromedriver             0x0000000100cb2cd6 undetected_chromedriver + 470230\n3   undetected_chromedriver             0x0000000100cf62ff undetected_chromedriver + 746239\n4   undetected_chromedriver             0x0000000100cf6591 undetected_chromedriver + 746897\n5   undetected_chromedriver             0x0000000100d38384 undetected_chromedriver + 1016708\n6   undetected_chromedriver             0x0000000100d1a9ed undetected_chromedriver + 895469\n7   undetected_chromedriver             0x0000000100d35856 undetected_chromedriver + 1005654\n8   undetected_chromedriver             0x0000000100d1a793 undetected_chromedriver + 894867\n9   undetected_chromedriver             0x0000000100ce821f undetected_chromedriver + 688671\n10  undetected_chromedriver             0x0000000100ce956e undetected_chromedriver + 693614\n11  undetected_chromedriver             0x00000001010b8bb7 undetected_chromedriver + 4688823\n12  undetected_chromedriver             0x00000001010bda51 undetected_chromedriver + 4708945\n13  undetected_chromedriver             0x00000001010c440f undetected_chromedriver + 4736015\n14  undetected_chromedriver             0x00000001010be91a undetected_chromedriver + 4712730\n15  undetected_chromedriver             0x000000010109187c undetected_chromedriver + 4528252\n16  undetected_chromedriver             0x00000001010ddf28 undetected_chromedriver + 4841256\n17  undetected_chromedriver             0x00000001010de0a7 undetected_chromedriver + 4841639\n18  undetected_chromedriver             0x00000001010ef28f undetected_chromedriver + 4911759\n19  libsystem_pthread.dylib             0x00007ff8078b1259 _pthread_start + 125\n20  libsystem_pthread.dylib             0x00007ff8078acc7b thread_start + 15\n"
     ]
    }
   ],
   "source": [
    "import undetected_chromedriver\n",
    "driver = undetected_chromedriver.Chrome()\n",
    "\n",
    "# driver = \n",
    "webdriver.Chrome()\n",
    "\n",
    "driver.get(\"https://www.daum.net\")\n",
    "\n",
    "driver.get(\"https://www.google.co.kr\")\n",
    "\n",
    "driver.get(\"https://accounts.google.com/ServiceLogin?hl=ko&passive=true&continue=https://www.google.co.kr/&ec=GAZAmgQ\")\n",
    "\n",
    "e = driver.find_element(By.ID, \"identifierId\") \n",
    "e.clear()\n",
    "e.send_keys(\"jininsa8@gmail.com\")\n",
    "\n",
    "e.send_keys(Keys.ENTER)\n",
    "\n",
    "element = driver.find_element(By.CLASS_NAME, \"whsOnd.zHQkBf\")\n",
    "\n",
    "element.send_keys(\"*\")\n",
    "# element.send_keys(Keys.ENTER)\n",
    "\n",
    "element.send_keys(Keys.ENTER)\n",
    "\n",
    "\n",
    "driver.get('https://mail.google.com/mail/u/0/?ogbl#inbox')\n",
    "import time\n",
    "time.sleep(2)\n",
    "\n",
    "driver.find_element(By.CLASS_NAME, \"T-I.T-I-KE.L3\").click()\n",
    "time.sleep(1)\n",
    "\n",
    "from selenium.webdriver.common.action_chains import ActionChains\n",
    "\n",
    "action = ActionChains(driver)\n",
    "\n",
    "send_button = driver.find_element(By.CSS_SELECTOR, '.T-I.J-J5-Ji.aoO.v7.T-I-atl.L3')\n",
    "mail_button = driver.find_element(By.CSS_SELECTOR, '.wO.nr')\n",
    "\n",
    "\n",
    "# () 으로 묶어주면 1줄처럼 파악함\n",
    "(\n",
    "action.send_keys('princessria@naver.com') #오류 부분\n",
    ".key_down(Keys.TAB).pause(1).key_down(Keys.TAB).pause(1) # 받는 사람을 적고 TAB 2번 누르기\n",
    ".send_keys('제목입니다.').pause(1).key_down(Keys.TAB).pause(1) # 제목 입력 부분 탭으로 다음칸\n",
    ".send_keys('abcde').pause(1).key_down(Keys.ENTER) # 내용 입력 부분\n",
    ".key_down(Keys.SHIFT).send_keys('abcd').key_up(Keys.SHIFT).pause(3) # Key_down은 up을 해주기 전까지 눌러줌\n",
    ".move_to_element(send_button).click()\n",
    ".perform()  # 실행\n",
    ") "
   ]
  },
  {
   "cell_type": "markdown",
   "id": "6597c372-137a-4255-9685-81c9c7563092",
   "metadata": {},
   "source": [
    "##### 7교시"
   ]
  },
  {
   "cell_type": "code",
   "execution_count": 120,
   "id": "25fb0fa0-5952-4cc9-9616-d31a4c69be37",
   "metadata": {},
   "outputs": [],
   "source": [
    "# API"
   ]
  },
  {
   "cell_type": "code",
   "execution_count": 123,
   "id": "373398f2-2918-443e-ba29-cef01c52240b",
   "metadata": {},
   "outputs": [
    {
     "name": "stdout",
     "output_type": "stream",
     "text": [
      "{'coord': {'lon': 126.9778, 'lat': 37.5683}, 'weather': [{'id': 800, 'main': 'Clear', 'description': 'clear sky', 'icon': '01d'}], 'base': 'stations', 'main': {'temp': 303.26, 'feels_like': 302.34, 'temp_min': 297.84, 'temp_max': 305.81, 'pressure': 1009, 'humidity': 34}, 'visibility': 10000, 'wind': {'speed': 5.66, 'deg': 230}, 'clouds': {'all': 0}, 'dt': 1684222470, 'sys': {'type': 1, 'id': 8105, 'country': 'KR', 'sunrise': 1684182161, 'sunset': 1684233263}, 'timezone': 32400, 'id': 1835848, 'name': 'Seoul', 'cod': 200}\n",
      "\n",
      "{'coord': {'lon': -74.006, 'lat': 40.7143}, 'weather': [{'id': 800, 'main': 'Clear', 'description': 'clear sky', 'icon': '01n'}], 'base': 'stations', 'main': {'temp': 288.52, 'feels_like': 287.6, 'temp_min': 283.53, 'temp_max': 291.12, 'pressure': 1013, 'humidity': 57}, 'visibility': 10000, 'wind': {'speed': 6.26, 'deg': 360, 'gust': 12.07}, 'clouds': {'all': 0}, 'dt': 1684222570, 'sys': {'type': 2, 'id': 2008101, 'country': 'US', 'sunrise': 1684229901, 'sunset': 1684281997}, 'timezone': -14400, 'id': 5128581, 'name': 'New York', 'cod': 200}\n",
      "\n"
     ]
    }
   ],
   "source": [
    "import requests\n",
    "import json\n",
    "\n",
    "api = \"http://api.openweathermap.org/data/2.5/weather?q={city}&APPID={key}\"\n",
    "apikey = \"28ed8b8682f52838a0a86e00b8578fcd\"\n",
    "\n",
    "cities = ['Seoul,KR', \"New York, US\"]\n",
    "k2c = lambda k: round(k - 273.15, 1)\n",
    "\n",
    "for city in cities:\n",
    "    url = api.format(city = city, key = apikey)\n",
    "    req = requests.get(url)\n",
    "    data = json.loads(req.text) # 결과를 JSON 형식으로 변환하기 \n",
    "    print(data)\n",
    "    print() "
   ]
  },
  {
   "cell_type": "code",
   "execution_count": 124,
   "id": "b6ad5c23-8dc6-45fa-ade9-8a075e2794a3",
   "metadata": {},
   "outputs": [
    {
     "name": "stdout",
     "output_type": "stream",
     "text": [
      "{'coord': {'lon': 126.9778, 'lat': 37.5683}, 'weather': [{'id': 800, 'main': 'Clear', 'description': 'clear sky', 'icon': '01d'}], 'base': 'stations', 'main': {'temp': 303.26, 'feels_like': 302.34, 'temp_min': 297.84, 'temp_max': 305.81, 'pressure': 1009, 'humidity': 34}, 'visibility': 10000, 'wind': {'speed': 5.66, 'deg': 230}, 'clouds': {'all': 0}, 'dt': 1684222283, 'sys': {'type': 1, 'id': 8105, 'country': 'KR', 'sunrise': 1684182161, 'sunset': 1684233263}, 'timezone': 32400, 'id': 1835848, 'name': 'Seoul', 'cod': 200}\n",
      "\n",
      "+ 도시 = Seoul\n",
      "| 날씨 = clear sky\n",
      "| 최저 기온 = 24.7\n",
      "| 최고 기온 = 32.7\n",
      "| 습도 = 34\n",
      "| 기압 = 1009\n",
      "| 풍향 = 230\n",
      "| 풍속 = 5.66\n",
      "\n",
      "{'coord': {'lon': -74.006, 'lat': 40.7143}, 'weather': [{'id': 800, 'main': 'Clear', 'description': 'clear sky', 'icon': '01n'}], 'base': 'stations', 'main': {'temp': 288.59, 'feels_like': 287.68, 'temp_min': 283.57, 'temp_max': 291.12, 'pressure': 1013, 'humidity': 57}, 'visibility': 10000, 'wind': {'speed': 6.26, 'deg': 360, 'gust': 12.07}, 'clouds': {'all': 0}, 'dt': 1684222266, 'sys': {'type': 2, 'id': 2039034, 'country': 'US', 'sunrise': 1684229901, 'sunset': 1684281997}, 'timezone': -14400, 'id': 5128581, 'name': 'New York', 'cod': 200}\n",
      "\n",
      "+ 도시 = New York\n",
      "| 날씨 = clear sky\n",
      "| 최저 기온 = 10.4\n",
      "| 최고 기온 = 18.0\n",
      "| 습도 = 57\n",
      "| 기압 = 1013\n",
      "| 풍향 = 360\n",
      "| 풍속 = 6.26\n",
      "\n"
     ]
    }
   ],
   "source": [
    "import requests\n",
    "import json\n",
    "\n",
    "api = \"http://api.openweathermap.org/data/2.5/weather?q={city}&APPID={key}\"\n",
    "apikey = \"28ed8b8682f52838a0a86e00b8578fcd\"\n",
    "\n",
    "cities = ['Seoul,KR', \"New York, US\"]\n",
    "k2c = lambda k: round(k - 273.15, 1)\n",
    "\n",
    "for city in cities:\n",
    "    url = api.format(city = city, key = apikey)\n",
    "    req = requests.get(url)\n",
    "    data = json.loads(req.text) # 결과를 JSON 형식으로 변환하기 \n",
    "    print(data)\n",
    "    print()\n",
    "    print(\"+ 도시 =\", data[\"name\"])\n",
    "    print(\"| 날씨 =\", data[\"weather\"][0][\"description\"])\n",
    "    print(\"| 최저 기온 =\", k2c(data[\"main\"][\"temp_min\"]))\n",
    "    print(\"| 최고 기온 =\", k2c(data[\"main\"][\"temp_max\"]))\n",
    "    print(\"| 습도 =\", data[\"main\"][\"humidity\"])\n",
    "    print(\"| 기압 =\", data[\"main\"][\"pressure\"])\n",
    "    print(\"| 풍향 =\", data[\"wind\"][\"deg\"])\n",
    "    print(\"| 풍속 =\", data[\"wind\"][\"speed\"])\n",
    "    print(\"\") "
   ]
  },
  {
   "cell_type": "markdown",
   "id": "052b91fc-3146-47dc-893c-17641a68929c",
   "metadata": {},
   "source": [
    "##### 8교시"
   ]
  },
  {
   "cell_type": "code",
   "execution_count": null,
   "id": "941a09d0-0a52-4855-a2f5-7679ac8eeff6",
   "metadata": {},
   "outputs": [],
   "source": []
  }
 ],
 "metadata": {
  "kernelspec": {
   "display_name": "Python 3 (ipykernel)",
   "language": "python",
   "name": "python3"
  },
  "language_info": {
   "codemirror_mode": {
    "name": "ipython",
    "version": 3
   },
   "file_extension": ".py",
   "mimetype": "text/x-python",
   "name": "python",
   "nbconvert_exporter": "python",
   "pygments_lexer": "ipython3",
   "version": "3.10.9"
  }
 },
 "nbformat": 4,
 "nbformat_minor": 5
}
